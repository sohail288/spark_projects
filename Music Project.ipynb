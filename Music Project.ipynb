{
 "cells": [
  {
   "cell_type": "markdown",
   "metadata": {},
   "source": [
    "Use Spark To Provide Audio Recommendations\n",
    "\n",
    "http://www.iro.umontreal.ca/~lisa/datasets/profiledata_06-May-2005.tar.gz\n",
    "\n",
    "million song dataset\n",
    "http://labrosa.ee.columbia.edu/millionsong/pages/getting-dataset"
   ]
  },
  {
   "cell_type": "code",
   "execution_count": 69,
   "metadata": {
    "collapsed": false
   },
   "outputs": [],
   "source": [
    "from pyspark.mllib.recommendation import ALS"
   ]
  },
  {
   "cell_type": "code",
   "execution_count": 2,
   "metadata": {
    "collapsed": true
   },
   "outputs": [],
   "source": [
    "from pyspark.ml import Pipeline"
   ]
  },
  {
   "cell_type": "code",
   "execution_count": 24,
   "metadata": {
    "collapsed": true
   },
   "outputs": [],
   "source": [
    "from pyspark.mllib.recommendation import Rating"
   ]
  },
  {
   "cell_type": "code",
   "execution_count": 23,
   "metadata": {
    "collapsed": true
   },
   "outputs": [],
   "source": [
    "import numpy as np\n",
    "import pandas as pd\n",
    "import seaborn as sns"
   ]
  },
  {
   "cell_type": "code",
   "execution_count": 3,
   "metadata": {
    "collapsed": false
   },
   "outputs": [],
   "source": [
    "import glob\n",
    "import os.path\n",
    "import os\n",
    "import tarfile\n",
    "import urllib\n",
    "import urlparse\n",
    "import StringIO"
   ]
  },
  {
   "cell_type": "code",
   "execution_count": 4,
   "metadata": {
    "collapsed": true
   },
   "outputs": [],
   "source": [
    "data_root = '../../data/MyData'\n",
    "data_directory = 'profiledata'\n",
    "dest = os.path.join(data_root, data_directory)"
   ]
  },
  {
   "cell_type": "code",
   "execution_count": 5,
   "metadata": {
    "collapsed": false
   },
   "outputs": [
    {
     "data": {
      "text/plain": [
       "'profiledata_06-May-2005.tar.gz'"
      ]
     },
     "execution_count": 5,
     "metadata": {},
     "output_type": "execute_result"
    }
   ],
   "source": [
    "# better to do it this way for portability\n",
    "url = 'http://www.iro.umontreal.ca/~lisa/datasets/profiledata_06-May-2005.tar.gz'\n",
    "p = urlparse.urlsplit(url).path\n",
    "os.path.os.path.split(p)[1]"
   ]
  },
  {
   "cell_type": "code",
   "execution_count": 9,
   "metadata": {
    "collapsed": false
   },
   "outputs": [],
   "source": [
    "\n",
    "\n",
    "def getData(url, directory='', cleanup=False):\n",
    "    \"\"\"Download a tar file and unpack it to a specified place\n",
    "    params\n",
    "       url (string): url to download from \n",
    "       directory (string): directory to save to\n",
    "       cleanup (bool): Remove tar file\n",
    "    \"\"\"\n",
    "    fileName = os.path.split(\n",
    "        urlparse.urlsplit(url).path)[1]\n",
    "    \n",
    "    directory = directory if directory else fileName.split('.')[0]\n",
    "    \n",
    "    if not(os.path.exists(directory)):\n",
    "        os.makedirs(directory)\n",
    "\n",
    "    dest = os.path.join(directory, fileName)\n",
    "    \n",
    "    if not os.path.exists(dest):\n",
    "        content = urllib.urlopen(url)\n",
    "        \n",
    "        with open(dest, 'wb') as fh:\n",
    "            fh.write(content.read())\n",
    "    \n",
    "    if tarfile.is_tarfile(dest):\n",
    "        tar = tarfile.open(dest)\n",
    "        for name in [x for x in tar.getnames() if not x.startswith('/') or x.startswith('..')]:\n",
    "            try:\n",
    "                tarinfo = tar.getmember(name)\n",
    "                tar.extract(tarinfo, directory)\n",
    "                \n",
    "                print(\"Extracted {}\".format(name))\n",
    "            except KeyError as e:\n",
    "                print(\"Couldn't extract {}\".format(name))\n",
    "                continue\n",
    "    if cleanup:\n",
    "        os.remove(dest)\n",
    "        \n",
    "        \n",
    "        "
   ]
  },
  {
   "cell_type": "code",
   "execution_count": 10,
   "metadata": {
    "collapsed": false
   },
   "outputs": [
    {
     "name": "stdout",
     "output_type": "stream",
     "text": [
      "Extracted profiledata_06-May-2005\n",
      "Extracted profiledata_06-May-2005/artist_data.txt\n",
      "Extracted profiledata_06-May-2005/README.txt\n",
      "Extracted profiledata_06-May-2005/user_artist_data.txt\n",
      "Extracted profiledata_06-May-2005/artist_alias.txt\n"
     ]
    }
   ],
   "source": [
    "getData(url, dest, cleanup=True)"
   ]
  },
  {
   "cell_type": "code",
   "execution_count": 18,
   "metadata": {
    "collapsed": false
   },
   "outputs": [],
   "source": [
    "fullPath = lambda f: os.path.join(os.path.join(dest, 'profiledata_06-May-2005'), f)\n",
    "split = lambda l: l.strip(\" \").split(\"\\t\")\n",
    "\n",
    "def read_file(f):\n",
    "    fPath = fullPath(f)\n",
    "    rdd = sc.textFile(fPath)\n",
    "    \n",
    "    if f == 'user_artist_data.txt':\n",
    "        return rdd.map(lambda s: s.split(\" \"))\n",
    "    else:\n",
    "        return rdd.map(split)"
   ]
  },
  {
   "cell_type": "code",
   "execution_count": 19,
   "metadata": {
    "collapsed": false
   },
   "outputs": [],
   "source": [
    "ARIST_ALIAS_RDD, ARTIST_RDD, USER_ARTIST_RDD = [i.cache() for i in map(read_file, ['artist_alias.txt',\n",
    "                                                                'artist_data.txt',\n",
    "                                                                'user_artist_data.txt'\n",
    "                                                                ])]"
   ]
  },
  {
   "cell_type": "code",
   "execution_count": 20,
   "metadata": {
    "collapsed": false
   },
   "outputs": [
    {
     "data": {
      "text/plain": [
       "[[u'1134999', u'06Crazy Life'],\n",
       " [u'6821360', u'Pang Nakarin'],\n",
       " [u'10113088', u'Terfel, Bartoli- Mozart: Don'],\n",
       " [u'10151459', u'The Flaming Sidebur'],\n",
       " [u'6826647', u'Bodenstandig 3000'],\n",
       " [u'10186265', u'Jota Quest e Ivete Sangalo'],\n",
       " [u'6828986', u'Toto_XX (1977'],\n",
       " [u'10236364', u'U.S Bombs -'],\n",
       " [u'1135000', u'artist formaly know as Mat'],\n",
       " [u'10299728', u'Kassierer - Musik f\\xfcr beide Ohren']]"
      ]
     },
     "execution_count": 20,
     "metadata": {},
     "output_type": "execute_result"
    }
   ],
   "source": [
    "ARTIST_RDD.take(10)"
   ]
  },
  {
   "cell_type": "code",
   "execution_count": 21,
   "metadata": {
    "collapsed": false
   },
   "outputs": [
    {
     "data": {
      "text/plain": [
       "[[u'1000002', u'1', u'55'],\n",
       " [u'1000002', u'1000006', u'33'],\n",
       " [u'1000002', u'1000007', u'8'],\n",
       " [u'1000002', u'1000009', u'144'],\n",
       " [u'1000002', u'1000010', u'314'],\n",
       " [u'1000002', u'1000013', u'8'],\n",
       " [u'1000002', u'1000014', u'42'],\n",
       " [u'1000002', u'1000017', u'69'],\n",
       " [u'1000002', u'1000024', u'329'],\n",
       " [u'1000002', u'1000025', u'1']]"
      ]
     },
     "execution_count": 21,
     "metadata": {},
     "output_type": "execute_result"
    }
   ],
   "source": [
    "USER_ARTIST_RDD.take(10)"
   ]
  },
  {
   "cell_type": "code",
   "execution_count": 22,
   "metadata": {
    "collapsed": false
   },
   "outputs": [
    {
     "data": {
      "text/plain": [
       "[[u'1092764', u'1000311'],\n",
       " [u'1095122', u'1000557'],\n",
       " [u'6708070', u'1007267'],\n",
       " [u'10088054', u'1042317'],\n",
       " [u'1195917', u'1042317'],\n",
       " [u'1112006', u'1000557'],\n",
       " [u'1187350', u'1294511'],\n",
       " [u'1116694', u'1327092'],\n",
       " [u'6793225', u'1042317'],\n",
       " [u'1079959', u'1000557']]"
      ]
     },
     "execution_count": 22,
     "metadata": {},
     "output_type": "execute_result"
    }
   ],
   "source": [
    "ARIST_ALIAS_RDD.take(10)"
   ]
  },
  {
   "cell_type": "markdown",
   "metadata": {},
   "source": [
    "### Further Cleaning\n",
    "Convert the USER_ARTIST_RDD into an rdd of ratings.  Each component needs to be in integer form. The main limitation is that the max value of the ids of either user or product need to be less than than the maximum value of the long type in Java."
   ]
  },
  {
   "cell_type": "code",
   "execution_count": 26,
   "metadata": {
    "collapsed": false
   },
   "outputs": [
    {
     "name": "stdout",
     "output_type": "stream",
     "text": [
      "[]\n"
     ]
    }
   ],
   "source": [
    "# check to see if there are any misentries in the dataset\n",
    "print(USER_ARTIST_RDD.filter(lambda t: len(t) != 3).collect())"
   ]
  },
  {
   "cell_type": "code",
   "execution_count": 27,
   "metadata": {
    "collapsed": true
   },
   "outputs": [],
   "source": [
    "ratingsRDD = (USER_ARTIST_RDD\n",
    "                   .map(lambda t: Rating(*[int(_) for _ in t]))\n",
    "              ).cache()"
   ]
  },
  {
   "cell_type": "code",
   "execution_count": 28,
   "metadata": {
    "collapsed": false
   },
   "outputs": [
    {
     "data": {
      "text/plain": [
       "[Rating(user=1000002, product=1, rating=55.0),\n",
       " Rating(user=1000002, product=1000006, rating=33.0),\n",
       " Rating(user=1000002, product=1000007, rating=8.0),\n",
       " Rating(user=1000002, product=1000009, rating=144.0),\n",
       " Rating(user=1000002, product=1000010, rating=314.0),\n",
       " Rating(user=1000002, product=1000013, rating=8.0),\n",
       " Rating(user=1000002, product=1000014, rating=42.0),\n",
       " Rating(user=1000002, product=1000017, rating=69.0),\n",
       " Rating(user=1000002, product=1000024, rating=329.0),\n",
       " Rating(user=1000002, product=1000025, rating=1.0)]"
      ]
     },
     "execution_count": 28,
     "metadata": {},
     "output_type": "execute_result"
    }
   ],
   "source": [
    "ratingsRDD.take(10)"
   ]
  },
  {
   "cell_type": "code",
   "execution_count": 43,
   "metadata": {
    "collapsed": false
   },
   "outputs": [
    {
     "data": {
      "text/plain": [
       "[[u'1134999', u'06Crazy Life'],\n",
       " [u'6821360', u'Pang Nakarin'],\n",
       " [u'10113088', u'Terfel, Bartoli- Mozart: Don'],\n",
       " [u'10151459', u'The Flaming Sidebur'],\n",
       " [u'6826647', u'Bodenstandig 3000'],\n",
       " [u'10186265', u'Jota Quest e Ivete Sangalo'],\n",
       " [u'6828986', u'Toto_XX (1977'],\n",
       " [u'10236364', u'U.S Bombs -'],\n",
       " [u'1135000', u'artist formaly know as Mat'],\n",
       " [u'10299728', u'Kassierer - Musik f\\xfcr beide Ohren'],\n",
       " [u'10299744', u'Rahzel, RZA'],\n",
       " [u'6864258', u'Jon Richardson'],\n",
       " [u'6878791', u'Young Fresh Fellowslows & the Minus 5'],\n",
       " [u'10299751', u'Ki-ya-Kiss'],\n",
       " [u'6909716', u'Underminded - The Task Of Modern Educator'],\n",
       " [u'10435121', u'Kox-Box'],\n",
       " [u'6918061', u'alexisonfire [wo!]'],\n",
       " [u'1135001', u'dj salinger'],\n",
       " [u'6940391', u\"The B52's - Channel Z\"],\n",
       " [u'10475396', u'44 Hoes'],\n",
       " [u'10584537', u'orchestral mandeuvres in dark'],\n",
       " [u'10584538', u'Josh Groban (Featuring Angie Stone)'],\n",
       " [u'6945632', u'Savage Garden - Truley, Madly, Deeply'],\n",
       " [u'10584546', u'Nislije'],\n",
       " [u'10584550', u'ONEYA BASSIVITYMIXTAPE'],\n",
       " [u'10584556', u'Grant Green / Osunlade'],\n",
       " [u'10584564', u'Jae Kwon'],\n",
       " [u'6953654', u'Gwen vs. Britney'],\n",
       " [u'10584569', u'Dj.DataStream & Al Fresco'],\n",
       " [u'10584583', u'yaphet kotto - 02'],\n",
       " [u'6954973', u'sirius and atlantis'],\n",
       " [u'6973169', u'View to A Kill'],\n",
       " [u'10584589', u'Grand holiday'],\n",
       " [u'10584590', u'The London Philharmonic Orchestra, Emiliana Torrini'],\n",
       " [u'10584591', u'Sertab Erener (www.fikirfikir.com)'],\n",
       " [u'10584621', u'The Chicago Symphony Orchestra, Claudio Abbado, cond'],\n",
       " [u'6906309', u'Latin Ska'],\n",
       " [u'1134997', u'Nelj\\xc3\\xa4 Baritonia'],\n",
       " [u'10584626', u'Kool G Rap Vs. Metallica'],\n",
       " [u'10584630', u'Dj Buby,dj Max & Dj Giangy'],\n",
       " [u'10584527', u'The Starworker'],\n",
       " [u'10584478', u'CaptHook'],\n",
       " [u'10584515', u'Peeping To'],\n",
       " [u'10584634', u'01 - Rui Da Silva'],\n",
       " [u'1135002', u'Hyper Police'],\n",
       " [u'6990733', u'Mobb Deep - Dunn Language - 06'],\n",
       " [u'7004233', u'Dj Paul Feat. Dj Promo & Mc Ruffian'],\n",
       " [u'7004234', u'De Dronkenlap'],\n",
       " [u'7004235', u'Bodylotionr'],\n",
       " [u'7004236', u'Dj Nosferatu Vs Ophidian'],\n",
       " [u'7031168', u'Sekalaista - Kraftwerk'],\n",
       " [u'7031169', u'Sekalaista - Ezkimo'],\n",
       " [u'9917984', u'Lb Motion'],\n",
       " [u'10023481', u'Aleksi Munter'],\n",
       " [u'10113089', u'KAGRRA - Nue'],\n",
       " [u'6918062', u'Dr.Dre, Eminem, Nate Dogg, Snoop Dogg, Xzibit'],\n",
       " [u'6714999', u'Luiz\\xe3o Maia and Banzai & Bebel Giberto'],\n",
       " [u'6821361', u'Selinsgrove High School Chorus'],\n",
       " [u'10151460', u'greek-Antique'],\n",
       " [u'10236365', u'jnr walker & the all-stars'],\n",
       " [u'6878792', u'Grieg - Kraggerud, Kjekshus'],\n",
       " [u'6880556', u'Mr. Oiseau'],\n",
       " [u'6906305', u'stars on 54 (maxi single)'],\n",
       " [u'10584525', u'Jonie Mitchel'],\n",
       " [u'10299729',\n",
       "  u'\\u30a8\\u30ea\\u30b9 \\u30ec\\u30b8\\u30fc\\u30ca\\uff0f\\u30a2\\u30f3\\u30c8\\u30cb\\u30aa \\u30ab\\u30eb\\u30ed\\u30b9 \\u30b8\\u30e7\\u30d3\\u30f3'],\n",
       " [u'10435122', u'D\\xe4lek/Kid 606'],\n",
       " [u'6906310', u'Spacemen3'],\n",
       " [u'6909717', u'Busted (dutch)'],\n",
       " [u'10475397', u'Volkov_Kuryohin_Maslak'],\n",
       " [u'6945633', u'Bm Dubs / Brasstooth / Kee / Mr Rumble'],\n",
       " [u'6945635', u'Felix The House Cat'],\n",
       " [u'10584539', u'smartpils'],\n",
       " [u'1135006', u'Nate Dogg, Warren G and Snoop Dogg'],\n",
       " [u'1135009', u'Bajramovic'],\n",
       " [u'6945642', u'Mc Viper/Reflex'],\n",
       " [u'10584541', u'Fader Gladiator feat. Flowinim'],\n",
       " [u'10584542', u'DOLOREZ'],\n",
       " [u'10584545', u'200ap'],\n",
       " [u'10584547', u'Casa Mix 1'],\n",
       " [u'6950358', u'Bomba Rel\\xf3gio'],\n",
       " [u'10584548', u'Shvedja'],\n",
       " [u'10584551', u'2g2ub'],\n",
       " [u'10584553', u'Cload & Dagger'],\n",
       " [u'10584555', u'DJ Ilwes'],\n",
       " [u'10584574', u'Felloship'],\n",
       " [u'10584597', u'NSG, The'],\n",
       " [u'6950359', u'Bzzoiro'],\n",
       " [u'10584599', u'Flaco Jimenez y Ry Cooder'],\n",
       " [u'6990734', u'AMERICAN ANGEL'],\n",
       " [u'1240085', u'Beyonce Knowles ft. Jay-Z'],\n",
       " [u'1240087', u\"Th\\xe9 Lau & K's Choice\"],\n",
       " [u'10584522', u'Aelters/Sagan'],\n",
       " [u'1240088', u'Jos\\xc3\\xa9 Gonz\\xc3\\xa1les'],\n",
       " [u'1240089', u'Dave Mattews Band & RustedRoot'],\n",
       " [u'7004237', u'PleNiTyD'],\n",
       " [u'10584601', u'Snoop Dogg featuring Charlie Wilson and Justin Timberlake'],\n",
       " [u'7031170', u'Jedi Son of Spok'],\n",
       " [u'7031171', u'E9INE'],\n",
       " [u'7031172', u'Genelec & Master Kong'],\n",
       " [u'9934417', u'Rock Stars']]"
      ]
     },
     "execution_count": 43,
     "metadata": {},
     "output_type": "execute_result"
    }
   ],
   "source": [
    "# take a look at the artist alias rdd\n",
    "ARTIST_RDD.take(100)"
   ]
  },
  {
   "cell_type": "code",
   "execution_count": 52,
   "metadata": {
    "collapsed": false
   },
   "outputs": [],
   "source": [
    "aliasMapping = (ARIST_ALIAS_RDD\n",
    "                .map(lambda t: map(int, t) if len(t) == 2 and all(t) else None)\n",
    "                .filter(lambda t: t != None)\n",
    "                .collectAsMap()\n",
    ")"
   ]
  },
  {
   "cell_type": "code",
   "execution_count": 61,
   "metadata": {
    "collapsed": true
   },
   "outputs": [],
   "source": [
    "def fixArtistRDDEntry(entry):\n",
    "    if len(entry) == 2 and all(entry):\n",
    "        try:\n",
    "            rv = int(entry[0]), entry[1]\n",
    "        except ValueError:\n",
    "            rv = None\n",
    "    else:\n",
    "        rv = None\n",
    "    return rv"
   ]
  },
  {
   "cell_type": "code",
   "execution_count": 62,
   "metadata": {
    "collapsed": false
   },
   "outputs": [],
   "source": [
    "# clean up the artist rdd\n",
    "artistRDD = (ARTIST_RDD\n",
    "             .map(fixArtistRDDEntry)\n",
    "             .filter(lambda t: t is not None)\n",
    "             )"
   ]
  },
  {
   "cell_type": "code",
   "execution_count": 54,
   "metadata": {
    "collapsed": false
   },
   "outputs": [
    {
     "data": {
      "text/plain": [
       "1000010"
      ]
     },
     "execution_count": 54,
     "metadata": {},
     "output_type": "execute_result"
    }
   ],
   "source": [
    "aliasMapping[6803336]"
   ]
  },
  {
   "cell_type": "code",
   "execution_count": 63,
   "metadata": {
    "collapsed": false
   },
   "outputs": [
    {
     "data": {
      "text/plain": [
       "[u'Aerosmith (unplugged)']"
      ]
     },
     "execution_count": 63,
     "metadata": {},
     "output_type": "execute_result"
    }
   ],
   "source": [
    "artistRDD.lookup(6803336)"
   ]
  },
  {
   "cell_type": "markdown",
   "metadata": {},
   "source": [
    "The early ratings rdd may not suffice because there are multiple ways to represent a product.  Convert all products to their alternate representation using the `aliasMapping`"
   ]
  },
  {
   "cell_type": "code",
   "execution_count": 64,
   "metadata": {
    "collapsed": true
   },
   "outputs": [],
   "source": [
    "# broadcast the aliasmapping\n",
    "aliasBrodcast = sc.broadcast(aliasMapping)"
   ]
  },
  {
   "cell_type": "code",
   "execution_count": 67,
   "metadata": {
    "collapsed": true
   },
   "outputs": [],
   "source": [
    "userArtistRDD = (USER_ARTIST_RDD\n",
    "                 .map(lambda t: (int(t[0]), aliasBrodcast.value.get(int(t[1]), int(t[1])), int(t[2])))\n",
    "                 .map(lambda t: Rating(*t))\n",
    "                 .cache()\n",
    "                 )"
   ]
  },
  {
   "cell_type": "code",
   "execution_count": 68,
   "metadata": {
    "collapsed": false
   },
   "outputs": [
    {
     "data": {
      "text/plain": [
       "[Rating(user=1000002, product=1, rating=55.0),\n",
       " Rating(user=1000002, product=1000006, rating=33.0),\n",
       " Rating(user=1000002, product=1000007, rating=8.0),\n",
       " Rating(user=1000002, product=1000009, rating=144.0),\n",
       " Rating(user=1000002, product=1000010, rating=314.0),\n",
       " Rating(user=1000002, product=1000013, rating=8.0),\n",
       " Rating(user=1000002, product=1000014, rating=42.0),\n",
       " Rating(user=1000002, product=1000017, rating=69.0),\n",
       " Rating(user=1000002, product=1000024, rating=329.0),\n",
       " Rating(user=1000002, product=1000025, rating=1.0),\n",
       " Rating(user=1000002, product=1000028, rating=17.0),\n",
       " Rating(user=1000002, product=1000031, rating=47.0),\n",
       " Rating(user=1000002, product=1000033, rating=15.0),\n",
       " Rating(user=1000002, product=1000042, rating=1.0),\n",
       " Rating(user=1000002, product=1000045, rating=1.0),\n",
       " Rating(user=1000002, product=1000054, rating=2.0),\n",
       " Rating(user=1000002, product=1000055, rating=25.0),\n",
       " Rating(user=1000002, product=1000056, rating=4.0),\n",
       " Rating(user=1000002, product=1000059, rating=2.0),\n",
       " Rating(user=1000002, product=1000062, rating=71.0),\n",
       " Rating(user=1000002, product=1000088, rating=157.0),\n",
       " Rating(user=1000002, product=1000099, rating=57.0),\n",
       " Rating(user=1000002, product=1000107, rating=4.0),\n",
       " Rating(user=1000002, product=1000113, rating=30.0),\n",
       " Rating(user=1000002, product=1000123, rating=27.0),\n",
       " Rating(user=1000002, product=1000127, rating=53.0),\n",
       " Rating(user=1000002, product=1000139, rating=56.0),\n",
       " Rating(user=1000002, product=1000140, rating=95.0),\n",
       " Rating(user=1000002, product=1000157, rating=2.0),\n",
       " Rating(user=1000002, product=1000183, rating=49.0),\n",
       " Rating(user=1000002, product=1000188, rating=125.0),\n",
       " Rating(user=1000002, product=1000201, rating=1.0),\n",
       " Rating(user=1000002, product=1000210, rating=23.0),\n",
       " Rating(user=1000002, product=1000243, rating=1.0),\n",
       " Rating(user=1000002, product=1000251, rating=4.0),\n",
       " Rating(user=1000002, product=1000260, rating=7.0),\n",
       " Rating(user=1000002, product=1000265, rating=16.0),\n",
       " Rating(user=1000002, product=1000266, rating=38.0),\n",
       " Rating(user=1000002, product=1000283, rating=3.0),\n",
       " Rating(user=1000002, product=1000288, rating=1.0),\n",
       " Rating(user=1000002, product=1000289, rating=36.0),\n",
       " Rating(user=1000002, product=1000293, rating=1.0),\n",
       " Rating(user=1000002, product=1000295, rating=2.0),\n",
       " Rating(user=1000002, product=1000302, rating=1.0),\n",
       " Rating(user=1000002, product=1000305, rating=5.0),\n",
       " Rating(user=1000002, product=1000315, rating=155.0),\n",
       " Rating(user=1000002, product=1000317, rating=35.0),\n",
       " Rating(user=1000002, product=1000322, rating=98.0),\n",
       " Rating(user=1000002, product=1000323, rating=236.0),\n",
       " Rating(user=1000002, product=1000325, rating=4.0),\n",
       " Rating(user=1000002, product=1000340, rating=17.0),\n",
       " Rating(user=1000002, product=1000343, rating=2.0),\n",
       " Rating(user=1000002, product=1000382, rating=3.0),\n",
       " Rating(user=1000002, product=1000424, rating=1.0),\n",
       " Rating(user=1000002, product=1000518, rating=89.0),\n",
       " Rating(user=1000002, product=1000438, rating=45.0),\n",
       " Rating(user=1000002, product=1000440, rating=14.0),\n",
       " Rating(user=1000002, product=1000450, rating=3.0),\n",
       " Rating(user=1000002, product=1000451, rating=54.0),\n",
       " Rating(user=1000002, product=1000456, rating=4.0),\n",
       " Rating(user=1000002, product=1000457, rating=1.0),\n",
       " Rating(user=1000002, product=1000481, rating=2.0),\n",
       " Rating(user=1000002, product=1000498, rating=3.0),\n",
       " Rating(user=1000002, product=1000503, rating=16.0),\n",
       " Rating(user=1000002, product=1000515, rating=18.0),\n",
       " Rating(user=1000002, product=1000518, rating=83.0),\n",
       " Rating(user=1000002, product=1000520, rating=12.0),\n",
       " Rating(user=1000002, product=1000522, rating=72.0),\n",
       " Rating(user=1000002, product=1000569, rating=1.0),\n",
       " Rating(user=1000002, product=1000597, rating=23.0),\n",
       " Rating(user=1000002, product=1000620, rating=4.0),\n",
       " Rating(user=1000002, product=1000623, rating=2.0),\n",
       " Rating(user=1000002, product=1000625, rating=2.0),\n",
       " Rating(user=1000002, product=1000630, rating=4.0),\n",
       " Rating(user=1000002, product=1000631, rating=27.0),\n",
       " Rating(user=1000002, product=1000632, rating=119.0),\n",
       " Rating(user=1000002, product=1000639, rating=3.0),\n",
       " Rating(user=1000002, product=1000660, rating=2.0),\n",
       " Rating(user=1000002, product=1000674, rating=1.0),\n",
       " Rating(user=1000002, product=1000676, rating=17.0),\n",
       " Rating(user=1000002, product=1000677, rating=35.0),\n",
       " Rating(user=1000002, product=1000716, rating=1.0),\n",
       " Rating(user=1000002, product=1000724, rating=67.0),\n",
       " Rating(user=1000002, product=1000726, rating=5.0),\n",
       " Rating(user=1000002, product=1000727, rating=5.0),\n",
       " Rating(user=1000002, product=1000730, rating=10.0),\n",
       " Rating(user=1000002, product=1000737, rating=104.0),\n",
       " Rating(user=1000002, product=1000738, rating=4.0),\n",
       " Rating(user=1000002, product=1000740, rating=2.0),\n",
       " Rating(user=1000002, product=1000744, rating=1.0),\n",
       " Rating(user=1000002, product=1000751, rating=3.0),\n",
       " Rating(user=1000002, product=1000761, rating=2.0),\n",
       " Rating(user=1000002, product=1001514, rating=1.0),\n",
       " Rating(user=1000002, product=1000764, rating=2.0),\n",
       " Rating(user=1000002, product=1000766, rating=1.0),\n",
       " Rating(user=1000002, product=1000768, rating=2.0),\n",
       " Rating(user=1000002, product=1000773, rating=3.0),\n",
       " Rating(user=1000002, product=1000781, rating=11.0),\n",
       " Rating(user=1000002, product=1000840, rating=3.0),\n",
       " Rating(user=1000002, product=1000848, rating=1.0)]"
      ]
     },
     "execution_count": 68,
     "metadata": {},
     "output_type": "execute_result"
    }
   ],
   "source": [
    "userArtistRDD.take(100)"
   ]
  },
  {
   "cell_type": "markdown",
   "metadata": {},
   "source": [
    "### Build the ALS Model"
   ]
  },
  {
   "cell_type": "code",
   "execution_count": 71,
   "metadata": {
    "collapsed": false
   },
   "outputs": [],
   "source": [
    "model = ALS.trainImplicit(userArtistRDD, 10, iterations=5, lambda_=.01, alpha=0.01)"
   ]
  },
  {
   "cell_type": "markdown",
   "metadata": {},
   "source": [
    "### See if you can get some predictions\n",
    "For user 1000002"
   ]
  },
  {
   "cell_type": "code",
   "execution_count": 75,
   "metadata": {
    "collapsed": true
   },
   "outputs": [],
   "source": [
    "userID = 1000002"
   ]
  },
  {
   "cell_type": "code",
   "execution_count": 76,
   "metadata": {
    "collapsed": true
   },
   "outputs": [],
   "source": [
    "artistsForUser = (USER_ARTIST_RDD\n",
    "                  .filter(lambda t: int(t[0]) == userID)\n",
    "                  .map(lambda t: int(t[1]))\n",
    "                  .collect()\n",
    "                  )"
   ]
  },
  {
   "cell_type": "code",
   "execution_count": 79,
   "metadata": {
    "collapsed": false
   },
   "outputs": [],
   "source": [
    "artistsForUser = set(artistsForUser)"
   ]
  },
  {
   "cell_type": "code",
   "execution_count": 81,
   "metadata": {
    "collapsed": false
   },
   "outputs": [
    {
     "data": {
      "text/plain": [
       "[u'Kerrang',\n",
       " u'YMC',\n",
       " u'George Duke',\n",
       " u'Firebird',\n",
       " u'Caf\\xe9 Del Mar',\n",
       " u'Mallrats',\n",
       " u'Benny Goodman Orchestra',\n",
       " u'Brian Hughes',\n",
       " u'Armand Van Helden',\n",
       " u'Brant Bjork and The Operators',\n",
       " u'Echo & the Bunnymen',\n",
       " u'Joshua Redman',\n",
       " u'Elvis Costello',\n",
       " u'Enigma',\n",
       " u'Eric Clapton',\n",
       " u'Eurythmics',\n",
       " u'The Buddy Rich Big Band',\n",
       " u'Alien Ant Farm',\n",
       " u'Duke Ellington and Johnny Hodg',\n",
       " u'Jeno Jando',\n",
       " u'The Horace Silver Quintet',\n",
       " u'Pimps',\n",
       " u'Benny Goodman & Harry James',\n",
       " u'Steve Cole',\n",
       " u'Oleander-',\n",
       " u'Yellowjackets',\n",
       " u'Skid Row',\n",
       " u'Sublime',\n",
       " u'Nelly Furtado',\n",
       " u'The Stranglers',\n",
       " u'Elastica',\n",
       " u'Eiffel 65',\n",
       " u'Louis Armstrong',\n",
       " u'Eddie Henderson',\n",
       " u'Alice Cooper',\n",
       " u'Annie Lennox',\n",
       " u'The Jimi Hendrix Experience',\n",
       " u'Hothouse Flowers',\n",
       " u'Hole',\n",
       " u'The Hollies',\n",
       " u'Roxy Music',\n",
       " u'Meanwhile, Back In Communist Russia...',\n",
       " u'Mr. Bungle',\n",
       " u'Bill Evans',\n",
       " u'Count Basie',\n",
       " u'ZZ Top',\n",
       " u'Chuck Mangione',\n",
       " u'Bob James',\n",
       " u'Earl Klugh',\n",
       " u'Larry Carlton',\n",
       " u'Brian Culbertson',\n",
       " u'Suede',\n",
       " u'US3 feat Rahsaan & Gerard Presencer',\n",
       " u'Joni Mitchell & James Taylor',\n",
       " u'Grassroots',\n",
       " u'Karrin Allyson',\n",
       " u'Simply Red',\n",
       " u'Belly',\n",
       " u'Sheryl Crow',\n",
       " u'Joe Satriani',\n",
       " u'Art Porter',\n",
       " u'Ronan Keating',\n",
       " u'The Divine Comedy',\n",
       " u'Paul McCartney',\n",
       " u'Russell Malone',\n",
       " u'Chuck Loeb',\n",
       " u'Heart',\n",
       " u'The Surfaris',\n",
       " u'The Small Faces',\n",
       " u'Tom Grant',\n",
       " u'The James Taylor Quartet',\n",
       " u'Pantera',\n",
       " u'Nina Simone',\n",
       " u'NOFX',\n",
       " u'All',\n",
       " u'Grandmaster Flash And The Furious Five',\n",
       " u'Soundgarden',\n",
       " u'Chet Baker',\n",
       " u'[unknown]',\n",
       " u'Fugees',\n",
       " u'The Lightning Seeds',\n",
       " u'Pete Escovedo',\n",
       " u\"Enuff Z'Nuff\",\n",
       " u'Iggy Pop',\n",
       " u'Torcuato Mariano',\n",
       " u'Al Jarreau',\n",
       " u'Paul Weller',\n",
       " u'Wayne Shorter',\n",
       " u'Cannonball Adderley',\n",
       " u'Dexter Gordon',\n",
       " u'Otis Redding',\n",
       " u'Mungo Jerry',\n",
       " u'Sergei Rachmaninoff',\n",
       " u'Pat Metheny Group',\n",
       " u'Meat Loaf',\n",
       " u'Feeder',\n",
       " u'Christina Aguilera',\n",
       " u'Everclear',\n",
       " u'3 Doors Down',\n",
       " u'Matchbox Twenty',\n",
       " u'Tindersticks',\n",
       " u'Lynyrd Skynyrd',\n",
       " u'John Coltrane',\n",
       " u'Coleman Hawkins',\n",
       " u'Natalie Imbruglia',\n",
       " u'Kenny Burrell',\n",
       " u'Thelonious Monk',\n",
       " u'Julian Cope',\n",
       " u'ATB',\n",
       " u'Deep Purple',\n",
       " u'Fear Factory',\n",
       " u'Slipknot',\n",
       " u'Dizzy Gillespie',\n",
       " u'Ocean Colour Scene',\n",
       " u'Marvin Gaye',\n",
       " u'Embrace',\n",
       " u'Blake Aaron',\n",
       " u'Aretha Franklin',\n",
       " u'The Goops',\n",
       " u'GRP All-Star Big Band',\n",
       " u'Dan Reed Network',\n",
       " u'Tinfed',\n",
       " u'Trumpet Man',\n",
       " u'Freil',\n",
       " u'Deacon Blue',\n",
       " u'Hans Zimmer',\n",
       " u'Rancid',\n",
       " u'Lester Young',\n",
       " u\"Sin\\xe9ad O'Connor\",\n",
       " u'A Perfect Circle',\n",
       " u\"Jane's Addiction\",\n",
       " u'Frank Sinatra',\n",
       " u'MC Hammer',\n",
       " u'Bob Dylan',\n",
       " u'Less Than Jake',\n",
       " u'Rainbow',\n",
       " u'Puff Daddy',\n",
       " u'Rob Zombie',\n",
       " u'John Mayall & The Bluesbreakers',\n",
       " u'Quincy Jones',\n",
       " u'Madness',\n",
       " u'Billy Joel',\n",
       " u'Whitesnake',\n",
       " u'Blondie',\n",
       " u'Fatboy Slim',\n",
       " u'Badly Drawn Boy',\n",
       " u\"Ronnie Scott's Quintet\",\n",
       " u'LeAnn Rimes',\n",
       " u'Helloween',\n",
       " u'Tower Of Power',\n",
       " u'Slayer',\n",
       " u'The Smashing Pumpkins',\n",
       " u'AFI',\n",
       " u'AC/DC',\n",
       " u'Black Sabbath',\n",
       " u'Disturbed',\n",
       " u'Dream Theater',\n",
       " u'Eve 6',\n",
       " u'Goldfinger',\n",
       " u'Iron Maiden',\n",
       " u'Placebo',\n",
       " u'Lostprophets',\n",
       " u'Bon Jovi',\n",
       " u'Frank Sinatra & Count Basie',\n",
       " u'Spinning Wheel',\n",
       " u'Basement Jaxx',\n",
       " u'Johnny Clegg and Savuka',\n",
       " u'Johann Pachelbel',\n",
       " u'The Who',\n",
       " u'Pink',\n",
       " u'Norah Jones',\n",
       " u'18 Wheeler',\n",
       " u'Limp Bizkit',\n",
       " u'Pet Shop Boys',\n",
       " u'Alice in Chains',\n",
       " u'Stokes',\n",
       " u'Bill Withers',\n",
       " u'Hank Mobley',\n",
       " u'Ludwig van Beethoven',\n",
       " u'Fleetwood Mac',\n",
       " u'Erik Satie',\n",
       " u'Chick Corea',\n",
       " u'Charles Mingus',\n",
       " u'Butthole Surfers',\n",
       " u'Antonio Vivaldi',\n",
       " u'Belle and Sebastian',\n",
       " u'Phil Collins',\n",
       " u'Michael Jackson',\n",
       " u'Sade',\n",
       " u'Bryan Adams',\n",
       " u'George Michael',\n",
       " u'INXS',\n",
       " u'Grover Washington Jr.',\n",
       " u'Barenaked Ladies',\n",
       " u'Eddie Cochran',\n",
       " u'... Meanwhile, back in Communi',\n",
       " u'For Love Not Lisa',\n",
       " u'Queen',\n",
       " u'Dinah Washington',\n",
       " u'Def Leppard',\n",
       " u'Fr\\xe9d\\xe9ric Chopin',\n",
       " u'Creed',\n",
       " u'Cassandra Wilson',\n",
       " u'David Lee Roth',\n",
       " u'James Brown',\n",
       " u'Ramsey Lewis',\n",
       " u'Elvis Presley',\n",
       " u'B.B. King & Eric Clapton',\n",
       " u'Boston',\n",
       " u'Steve Vai',\n",
       " u'B.B. King',\n",
       " u'Bruce Springsteen',\n",
       " u'Rage Against the Machine',\n",
       " u'Korn',\n",
       " u'System of a Down',\n",
       " u'James Taylor',\n",
       " u'Counting Crows',\n",
       " u'Ella Fitzgerald',\n",
       " u'Frank Zappa',\n",
       " u'Freakpower',\n",
       " u'Sarah Vaughan',\n",
       " u'Richard Ashcroft',\n",
       " u'Eagles',\n",
       " u'PJ Harvey',\n",
       " u\"Guns N' Roses\",\n",
       " u'Pavement',\n",
       " u'Tori Amos',\n",
       " u'The Cranberries',\n",
       " u'Beth Orton',\n",
       " u'Stevie Wonder',\n",
       " u'Rain (A Lil Louis Painting)',\n",
       " u'Coyote Shivers',\n",
       " u'Alanis Morissette',\n",
       " u'Mindi Abair',\n",
       " u'Megadeth',\n",
       " u'The Doors',\n",
       " u'Benny Goodman and Harry James',\n",
       " u'Prince',\n",
       " u'Grandaddy',\n",
       " u'Anthony Nicholson Feat. Charlot',\n",
       " u'Joan Armatrading',\n",
       " u'Metallica',\n",
       " u'Silverchair',\n",
       " u'Eels',\n",
       " u'Tracy Chapman',\n",
       " u'Jeff Buckley',\n",
       " u'Tom Waits',\n",
       " u'Joni Mitchell',\n",
       " u'Madonna',\n",
       " u'No Doubt',\n",
       " u'The Beatles',\n",
       " u'Goo Goo Dolls',\n",
       " u'Robbie Williams',\n",
       " u'Eminem',\n",
       " u'Dire Straits',\n",
       " u'Primal Scream',\n",
       " u'Steely Dan',\n",
       " u'The Police',\n",
       " u'Ben Harper',\n",
       " u'Test XXX artist RJ',\n",
       " u'Aerosmith',\n",
       " u'The Kinks',\n",
       " u'Boards of Canada',\n",
       " u'Ben Folds Five',\n",
       " u'Nickelback',\n",
       " u'Pearl Jam',\n",
       " u'Thievery Corporation',\n",
       " u'Charlie Hunter',\n",
       " u'R.E.M.',\n",
       " u'Eva Cassidy',\n",
       " u'Lee Ritenour',\n",
       " u'Santana',\n",
       " u'Wolfgang Amadeus Mozart',\n",
       " u'Portishead',\n",
       " u'Massive Attack',\n",
       " u'Jamiroquai',\n",
       " u'Johann Sebastian Bach',\n",
       " u'Simon & Garfunkel',\n",
       " u'Jimi Hendrix',\n",
       " u'Enya',\n",
       " u'Led Zeppelin',\n",
       " u'Monty Python',\n",
       " u'Skunk Anansie',\n",
       " u'Radiohead',\n",
       " u'David Bowie',\n",
       " u'Lenny Kravitz',\n",
       " u'Gotan Project',\n",
       " u'Cream',\n",
       " u'LKH Productions',\n",
       " u'Seal',\n",
       " u'Morcheeba',\n",
       " u'John Mayer',\n",
       " u'Red Hot Chili Peppers',\n",
       " u'Foo Fighters',\n",
       " u'Archers of Loaf',\n",
       " u'Moby',\n",
       " u'Sting',\n",
       " u'Muse',\n",
       " u'Coldplay',\n",
       " u'Doves',\n",
       " u'Paul Simon',\n",
       " u'Dido',\n",
       " u'Ronan Hardiman',\n",
       " u'Dave McMurray feat. Bonnie Peele',\n",
       " u'Helmet',\n",
       " u'Art of Noise',\n",
       " u'Gigolo Aunts',\n",
       " u'Incognito',\n",
       " u'Uncle Kracker',\n",
       " u'Wade In The Water',\n",
       " u'Last Night At Danceland',\n",
       " u'Dropping Bombs On The Whitehouse',\n",
       " u'Gentle Rain',\n",
       " u'P T Blues',\n",
       " u'Haig and Haig',\n",
       " u'I Remember Bird',\n",
       " u'Run the Voodoo Down',\n",
       " u'Afro Blue',\n",
       " u'Amy Grant',\n",
       " u'Randy Crawford',\n",
       " u'Donald Byrd',\n",
       " u'Pat Metheny',\n",
       " u'(hed) Planet Earth',\n",
       " u'NoArtist',\n",
       " u'Ben Tankard',\n",
       " u'Nirvana',\n",
       " u'Zap Marma',\n",
       " u'Marty Robbins',\n",
       " u'Fine Young Canabals',\n",
       " u'60ft Dolls - Talk To Me',\n",
       " u\"That Ain't Too Cool\",\n",
       " u\"Don't Mind\",\n",
       " u'Brian Tarquin',\n",
       " u'Jeanie Bryson',\n",
       " u'Russ Freeman/Chris Botti',\n",
       " u'Jeff Golub/Peter White',\n",
       " u'3rd Force/Tom Scott/Acoustic Alchemy',\n",
       " u'Joe Henderson/Sting',\n",
       " u'Bobby Lyle',\n",
       " u'Thom Rotella',\n",
       " u'Grant Geissman',\n",
       " u'Gerald Veasley',\n",
       " u'Norman Brown/Michael McDonald',\n",
       " u'Braxton Brothers',\n",
       " u'Pieces Of A Dream/Maxi Priest',\n",
       " u'Avenue Blue/Jeff Golub',\n",
       " u'Greg Adams',\n",
       " u'Bentley Ryhthm Ace',\n",
       " u'Black Candy',\n",
       " u'Marillion',\n",
       " u'Do Nothing Till You Here From Me',\n",
       " u'The Atomic Bitchwax',\n",
       " u'The Classic Chill Out Album',\n",
       " u'Deep And Wide',\n",
       " u'Furslide',\n",
       " u'John Lennon',\n",
       " u'Soul Asylum',\n",
       " u'Big Brother & the Holding Company',\n",
       " u'Judas Priest',\n",
       " u'Gorillaz',\n",
       " u'Blur',\n",
       " u'Incubus',\n",
       " u'Fourplay',\n",
       " u'Weather Report',\n",
       " u'George Howard',\n",
       " u'Miles Davis',\n",
       " u'The Beach Boys',\n",
       " u'Weezer',\n",
       " u'John Vanderslice',\n",
       " u'Bad Company',\n",
       " u'Sash!',\n",
       " u'Girls Against Boys',\n",
       " u'Westbam',\n",
       " u'Lisa Loeb',\n",
       " u'T. Rex',\n",
       " u'Pink Floyd',\n",
       " u'Anita Baker',\n",
       " u'Johnny Fiasco',\n",
       " u'Rammstein',\n",
       " u'Ian Brown',\n",
       " u'Nine Inch Nails',\n",
       " u'The Rolling Stones',\n",
       " u'Fuel',\n",
       " u'Donna Gardier',\n",
       " u'k.d. lang',\n",
       " u'Nat \"King\" Cole',\n",
       " u'test artist 1',\n",
       " u'Loverboy',\n",
       " u'B-Tribe',\n",
       " u\"Harry 'Choo Choo' Romero\",\n",
       " u'New Order',\n",
       " u'Herbie Hancock',\n",
       " u'Outkast',\n",
       " u'Queens of the Stone Age',\n",
       " u'Julia Fordham/India.Arie',\n",
       " u'Sleeper',\n",
       " u'Bruce Dickinson',\n",
       " u'Kula Shaker',\n",
       " u'Procol Harum',\n",
       " u'Diana Krall',\n",
       " u'Linkin Park',\n",
       " u'Living Colour',\n",
       " u'Ash',\n",
       " u'Ernest Ranglin',\n",
       " u'Audioslave',\n",
       " u'Van Morrison',\n",
       " u'Various Artists',\n",
       " u'The Electric Prunes',\n",
       " u'Orbital',\n",
       " u'Buckcherry',\n",
       " u'Perez Prado',\n",
       " u'Faith No More',\n",
       " u'Hawkwind',\n",
       " u'Innerzone Orchestra',\n",
       " u'Queen Adreena',\n",
       " u'John Miles',\n",
       " u'Frankie Goes To Hollywood',\n",
       " u'Mike & the Mechanics',\n",
       " u'Liquid Tension Experiment',\n",
       " u'Lakki Patey',\n",
       " u'Billie Holiday',\n",
       " u'Jeff Golub',\n",
       " u'Lil Walt',\n",
       " u'At the Drive-In',\n",
       " u'Everything But the Girl',\n",
       " u'Cyclefly',\n",
       " u'Bobbi Humphrey',\n",
       " u'The Gillmor Gang',\n",
       " u'Limbik Frequencies',\n",
       " u'Michael Franks',\n",
       " u'Roachford',\n",
       " u'Jazzmasters',\n",
       " u'Paul Hardcastle',\n",
       " u'Aqua',\n",
       " u'Special EFX',\n",
       " u'Fiona Apple',\n",
       " u'Sadao Watanabe',\n",
       " u'Steve Miller',\n",
       " u'Yngwie Malmsteen',\n",
       " u'The Waterboys',\n",
       " u'Kombo',\n",
       " u'Jonathan Butler',\n",
       " u'Mr Fingers',\n",
       " u'Jeff Kashiwa',\n",
       " u'Dave Weckl',\n",
       " u'Monk',\n",
       " u'Benny Goodman & His Orchestra',\n",
       " u'Glenn Frey',\n",
       " u'Yulara',\n",
       " u'Lee Ritneour',\n",
       " u'Miles Davis and John Lee Hooker',\n",
       " u'Miles Davis & Marcus Miller',\n",
       " u\"Slamin' Gladys\",\n",
       " u'Moondance',\n",
       " u'Ronny Jordan',\n",
       " u'Brian Krinek',\n",
       " u'Millencolin',\n",
       " u'Rick Wakeman',\n",
       " u'Berlin',\n",
       " u'Smith',\n",
       " u'Dancing Fantasy',\n",
       " u'Machines Of Loving Grace',\n",
       " u'Finley Quaye',\n",
       " u'Paul Taylor',\n",
       " u'Robyn Miller',\n",
       " u\"\\u05d2'\\u05e0\\u05d2\\u05d5\",\n",
       " u'The Scorpions',\n",
       " u'ananda project',\n",
       " u'Rick Braun',\n",
       " u'Stanley Clarke',\n",
       " u'Solaris Heights',\n",
       " u'Thrush Hermit',\n",
       " u'Stanley Jordan',\n",
       " u'Gun',\n",
       " u'Eddie M',\n",
       " u'New Radicals',\n",
       " u'Neal Morse',\n",
       " u'Erroll Garner',\n",
       " u'George Shearing',\n",
       " u'Chef',\n",
       " u'Beatallica',\n",
       " u'Brant Bjork',\n",
       " u'Summer',\n",
       " u'Eric Burdon & The Animals',\n",
       " u'Baddiel, Skinner & The Lightning Seeds',\n",
       " u'Morning Dance',\n",
       " u'The Seahorses',\n",
       " u'Norman Brown',\n",
       " u'Satriani, Joe',\n",
       " u'Janus Stark',\n",
       " u'Shanks & Bigfoot',\n",
       " u'Tales of the Texas Rangers',\n",
       " u'Clam Abuse',\n",
       " u'Fourplay/Phil Collins',\n",
       " u'Heavy Stereo',\n",
       " u'urban jazz coalition',\n",
       " u'Art Blakey',\n",
       " u'Ottmar Liebert',\n",
       " u'12 Rods',\n",
       " u'Benny Goodman and Peggy Lee',\n",
       " u'David Hudson And Friends',\n",
       " u'Paul Oakenfold & Andy Gray',\n",
       " u'Ike Quebec',\n",
       " u'Miami Sound Machine',\n",
       " u'Rob Blaikie & Stuart Mitchell',\n",
       " u'Jazz',\n",
       " u'Samuel Barber',\n",
       " u'Collapsed Lung',\n",
       " u'Wayman Tisdale',\n",
       " u'Shed Seven',\n",
       " u'Weekender',\n",
       " u'Appartment 26',\n",
       " u'Suzie Higgie',\n",
       " u'DumDums',\n",
       " u'Ian Dury and The Blockheads',\n",
       " u'Frank & Nancy Sinatra',\n",
       " u'One Minute Silence',\n",
       " u'Harold Faltermeyer',\n",
       " u'Mescalito',\n",
       " u'The J. Geils Band',\n",
       " u'The Mighty Mighty Bosstones',\n",
       " u'bah samba',\n",
       " u'Cantaloupe Woman',\n",
       " u'Brandon Fields/Phil Perry',\n",
       " u'Tok Tok Tok',\n",
       " u'Five',\n",
       " u'Frankie Valli',\n",
       " u'Kim Waters',\n",
       " u'Steve Oliver',\n",
       " u'Kenny G',\n",
       " u'The Delfonics',\n",
       " u'Crazy Town',\n",
       " u'BWB',\n",
       " u'Joe McBride',\n",
       " u'Dave Grusin',\n",
       " u'Down To The Bone',\n",
       " u'Brothers Johnson',\n",
       " u'Stanley Myers',\n",
       " u'Andreas Johnson',\n",
       " u'Just Offshore',\n",
       " u'Benny Goodman',\n",
       " u'Keiko Matsui',\n",
       " u'Drugstore (feat. Thom Yorke)',\n",
       " u'Dust',\n",
       " u'Jane Siberry',\n",
       " u'Roger McGuinn',\n",
       " u'Guru Tashina Daniels',\n",
       " u'Jimmy McGriff',\n",
       " u'Green Day',\n",
       " u'Derek and the Dominos',\n",
       " u'Birdland',\n",
       " u'Bob Seger',\n",
       " u'Operation Ivy',\n",
       " u'Comedy',\n",
       " u'Grant Green',\n",
       " u'The Troggs',\n",
       " u'Travels',\n",
       " u'Bryan Savage',\n",
       " u'Fredrik Stark and Citydreams',\n",
       " u'Richard Elliot',\n",
       " u'Najee',\n",
       " u'Robert Greenidge/Michael Utley',\n",
       " u'Giordano',\n",
       " u'Run-D.M.C. vs. Jason Nevins',\n",
       " u'Tomaso Giovanni Albinoni',\n",
       " u'Wes Montgomery',\n",
       " u'The Royal Philharmonic Orchestra',\n",
       " u'Craig Chaquico',\n",
       " u'Maysa',\n",
       " u'Richard Blackwood',\n",
       " u'John Barry',\n",
       " u'Natalie Cole',\n",
       " u'Bob Baldwin',\n",
       " u'60ft Dolls',\n",
       " u'Lou Rawls',\n",
       " u'Bachman-Turner Overdrive',\n",
       " u'Chris Rea',\n",
       " u'Rocket From The Crypt',\n",
       " u'The Guess Who',\n",
       " u'Black NASA',\n",
       " u'Ed Calle',\n",
       " u'Divers',\n",
       " u'Peter White',\n",
       " u'Desert Sessions',\n",
       " u'Gladiator',\n",
       " u'Boy Hits Car',\n",
       " u'Steppenwolf',\n",
       " u'Cheap Trick',\n",
       " u'Powerman 5000',\n",
       " u'The Kleptones',\n",
       " u'Sponge',\n",
       " u'Georges Bizet',\n",
       " u'Cutting Crew',\n",
       " u'Benny Goodman & Peggy Lee',\n",
       " u'Meat Loaf & Bonnie Tyler',\n",
       " u'Hootie & the Blowfish',\n",
       " u'MC Hawking',\n",
       " u'Joan Osborne',\n",
       " u'The Bluetones',\n",
       " u'Duran Duran Feat. Melle Mel &',\n",
       " u'Congalegre',\n",
       " u'Powderfinger',\n",
       " u'Giacomo Puccini',\n",
       " u'The Primitives',\n",
       " u'Goldfinger-',\n",
       " u'Apollo 440',\n",
       " u'Fine Young Cannibals',\n",
       " u'Spin Doctors',\n",
       " u'Oleander',\n",
       " u'Wheatus',\n",
       " u'Pepsi Charts',\n",
       " u'Toploader',\n",
       " u'Mr. Big',\n",
       " u'Frank Black',\n",
       " u'Godsmack',\n",
       " u'The Bangles',\n",
       " u'Radiator',\n",
       " u'Elwood',\n",
       " u'Counts for Rita',\n",
       " u'Headswim',\n",
       " u'Luciano Ligabue',\n",
       " u'A',\n",
       " u'Eagle-Eye Cherry',\n",
       " u'Richie Havens',\n",
       " u'Scatman John',\n",
       " u'Natalie Merchant',\n",
       " u'Squirtgun',\n",
       " u'Save Ferris',\n",
       " u'Harvey Danger',\n",
       " u'Bush',\n",
       " u'Golden Earring',\n",
       " u'Third Eye Blind',\n",
       " u'Thin Lizzy',\n",
       " u'Arsenal',\n",
       " u'Kid Rock',\n",
       " u'Tal Bachman',\n",
       " u'The Cars',\n",
       " u'Graham Central Station',\n",
       " u'Baz Luhrmann',\n",
       " u'The Marshall Tucker Band',\n",
       " u'Stan Getz & Charlie Byrd',\n",
       " u'Steve Reid',\n",
       " u'Steve Laury',\n",
       " u'Gay Dad',\n",
       " u'Marietta',\n",
       " u'Charlie Parker',\n",
       " u'Zoot Sims',\n",
       " u'Gota',\n",
       " u'Andy Williams',\n",
       " u'Pieces Of A Dream',\n",
       " u'Mojo',\n",
       " u'Richard Groove Holmes',\n",
       " u'Larry Goldings/David Sanborn',\n",
       " u'Romatt Project',\n",
       " u'America - A Horse With No Name',\n",
       " u'Three Sounds',\n",
       " u'Medicine',\n",
       " u'Philippe Saisse',\n",
       " u'Everette Harp',\n",
       " u'Phil Collins Big Band',\n",
       " u'The Phil Collins Big Band',\n",
       " u'Terrorvision',\n",
       " u'Warren Bernhardt',\n",
       " u'Gerald Albright/Lee Ritenour',\n",
       " u'Frenzal Rhomb',\n",
       " u'F.I.N.E',\n",
       " u'Symposium',\n",
       " u'Strawbs',\n",
       " u'Puddle of Mudd',\n",
       " u'Crash Test Dummies',\n",
       " u'James Bond',\n",
       " u'Kenny Loggins',\n",
       " u'Europe',\n",
       " u'Carl Douglas',\n",
       " u'Kittie',\n",
       " u'Ricky Martin',\n",
       " u'The Battle of Los Angeles',\n",
       " u'Jeff Beck with Terry Bozzio & Tony Hymas',\n",
       " u'Canto Gregoriano',\n",
       " u\"King's X\",\n",
       " u'Acoustic Alchemy',\n",
       " u'George Shelby',\n",
       " u'Lao Tizer',\n",
       " u'Boney James',\n",
       " u'Ken Navarro',\n",
       " u'Charlie Hunter/Norah Jones',\n",
       " u'Chieli Minucci',\n",
       " u'Take 6/Joe Sample',\n",
       " u'Kevin Mahogany',\n",
       " u'Warren Hill',\n",
       " u'Kirk Whalum',\n",
       " u'V.I.P. Club',\n",
       " u'Groovopolis',\n",
       " u'Chris Bennett',\n",
       " u'Dave Koz/Jeff Koz',\n",
       " u'Candy Dulfer/David A. Stewart',\n",
       " u'Jesse Cook',\n",
       " u'Eric Marienthal',\n",
       " u'Laura Chandler',\n",
       " u'Randy Scott',\n",
       " u'Bob Mintzer Quartet',\n",
       " u'Bob James/David Sanborn/Al Jarreau',\n",
       " u'Above The Clouds/Michael McDonald',\n",
       " u'Dotsero',\n",
       " u'Doug Cameron',\n",
       " u'Astrud Gilberto/Stan Getz',\n",
       " u'Tab Two',\n",
       " u'Tommy Emmanuel',\n",
       " u'Tom Scott/Craig Chaquico',\n",
       " u'Al Jarreau/Joe Cocker',\n",
       " u'Derrick Edmondson',\n",
       " u'Sixpence None the Richer',\n",
       " u'Patti Austin',\n",
       " u'Tony Windle',\n",
       " u'Marc Antoine',\n",
       " u'Michael Lington',\n",
       " u'Ray Obiedo',\n",
       " u'Solar Wind/Eric Marienthal',\n",
       " u'Alex Bugnon',\n",
       " u'Shakatak',\n",
       " u'Jeff Lorber',\n",
       " u'Martin Taylor',\n",
       " u'Julia Fordham',\n",
       " u'Marilyn Scott',\n",
       " u'Donald Fagen',\n",
       " u'Mike Phillips',\n",
       " u'Natalie Cole/Diana Krall',\n",
       " u'Bona Fide',\n",
       " u'Lee Ritenour/Dave Grusin',\n",
       " u'Crusaders',\n",
       " u'Joe Walsh',\n",
       " u'Betty Boo',\n",
       " u'In the Middle (Parts I and II)',\n",
       " u\"You're Starting Too Fast\",\n",
       " u'Soul Source',\n",
       " u\"Barry White - You're My Everything\",\n",
       " u'Supreme Beings of Leisure',\n",
       " u'Jimmy Reid',\n",
       " u'Element Four',\n",
       " u'TransAtlantic',\n",
       " u'Mystick Krewe of Clearlight',\n",
       " u'Shilts',\n",
       " u'lionel hampton',\n",
       " u'Cantaloupe Island',\n",
       " u'Miss Brown To You',\n",
       " u'Loud Minority',\n",
       " u'Giant',\n",
       " u'Coisa Mais Linda',\n",
       " u'Rainy Days and Mondays',\n",
       " u'Step Right up yo the Bottom',\n",
       " u'Between Races',\n",
       " u'Key to the Highway',\n",
       " u'Walk on the Wild Side',\n",
       " u'Best Jazz Ever',\n",
       " u'Running Away',\n",
       " u'Watermelon Man',\n",
       " u'So What',\n",
       " u'Baise, Count And His Orchestra / Frank Sinatra',\n",
       " u'Benny Goodman and His Orchestra',\n",
       " u'East West Connection feat. Eugene \"hideaway\" Bridges',\n",
       " u\"Spock's Beard\",\n",
       " u'Clutch',\n",
       " u'Teena Marie',\n",
       " u'Larry Greene',\n",
       " u'metro',\n",
       " u'John Patitucci',\n",
       " u'Gabriel Ananda',\n",
       " u'Blackbyrd',\n",
       " u'Larry Mullen And Adam Clayton',\n",
       " u'James Brown, Jane Fonda, Bob Sinclar, Stardust',\n",
       " u'm.i.k.e.',\n",
       " u'Diana Krall and Dave Grusin',\n",
       " u'Jackie Brown OST',\n",
       " u'Diffuser',\n",
       " u'Euge Groove',\n",
       " u'Gerald Albright',\n",
       " u'Clueless Soundtrack',\n",
       " u'Pat Metheny, Dave Holland, Roy Haynes',\n",
       " u'The Shadows',\n",
       " u'The Mamas & the Papas',\n",
       " u'Run-D.M.C.',\n",
       " u'Backyard Babies',\n",
       " u'Jools Holland',\n",
       " u'Mot\\xf6rhead',\n",
       " u'Sevendust',\n",
       " u'Michael Andrews',\n",
       " u'Chuck Berry',\n",
       " u'Yukihiro Fukutomi',\n",
       " u'4 Non Blondes',\n",
       " u'Spyro Gyra',\n",
       " u'Semisonic',\n",
       " u'The Byrds',\n",
       " u'EMF',\n",
       " u'Courtney Pine',\n",
       " u'Free',\n",
       " u'Derek Sherinian',\n",
       " u'Steve Miller Band',\n",
       " u'Mother Love Bone',\n",
       " u'Fatso Jetson',\n",
       " u'Marcus Miller',\n",
       " u'Savage Garden',\n",
       " u'Cliff Richard',\n",
       " u'Jaco Pastorius',\n",
       " u'Art Pepper',\n",
       " u'dEUS',\n",
       " u'Carly Simon',\n",
       " u'Lit',\n",
       " u'Beastie Boys',\n",
       " u'The Blues Brothers',\n",
       " u'Ugly Kid Joe',\n",
       " u'The Wallflowers',\n",
       " u\"Fun Lovin' Criminals\",\n",
       " u'Collective Soul',\n",
       " u'Monster Magnet',\n",
       " u'Days Of The New',\n",
       " u'Tuck And Patti',\n",
       " u'Don McLean',\n",
       " u'Chris Cornell',\n",
       " u'Christian McBride',\n",
       " u'Lee Morgan',\n",
       " u'Level 42',\n",
       " u'Soulwax',\n",
       " u'Janis Ian',\n",
       " u'The Beautiful South',\n",
       " u'The Pretenders',\n",
       " u'Status Quo',\n",
       " u'Edvard Grieg',\n",
       " u'Lou Donaldson',\n",
       " u'Stanley Turrentine',\n",
       " u'Sonny Rollins',\n",
       " u'Joe Sample',\n",
       " u'Derek & Clive',\n",
       " u'Electric Wizard',\n",
       " u'Chumbawamba',\n",
       " u'Bran Van 3000',\n",
       " u'Original Soundtrack',\n",
       " u'The Dandy Warhols']"
      ]
     },
     "execution_count": 81,
     "metadata": {},
     "output_type": "execute_result"
    }
   ],
   "source": [
    "artistRDD.filter(lambda t: t[0] in artistsForUser).map(lambda t: t[1]).collect()"
   ]
  },
  {
   "cell_type": "code",
   "execution_count": 84,
   "metadata": {
    "collapsed": false
   },
   "outputs": [],
   "source": [
    "# can't recommend, only in spark  versions greater than 1.4.0. bummer.\n",
    "recommendations = model.predict(userID, 1000055)"
   ]
  },
  {
   "cell_type": "code",
   "execution_count": 85,
   "metadata": {
    "collapsed": false
   },
   "outputs": [
    {
     "data": {
      "text/plain": [
       "0.4970475819364981"
      ]
     },
     "execution_count": 85,
     "metadata": {},
     "output_type": "execute_result"
    }
   ],
   "source": [
    "recommendations"
   ]
  },
  {
   "cell_type": "markdown",
   "metadata": {},
   "source": [
    "## So, since recommendations are only available in spark versions greater than 1.4.0.  I guess I can just do a quick summary of the data."
   ]
  },
  {
   "cell_type": "code",
   "execution_count": 89,
   "metadata": {
    "collapsed": false
   },
   "outputs": [],
   "source": [
    "# who is the most played artist.  \n",
    "# do this by summing up all the played instances of this particular artist.\n",
    "artistPlayRDD = (userArtistRDD\n",
    "                 .map(lambda r: (r.product, r.rating))\n",
    "                 .reduceByKey(lambda a1, a2: a1+a2)\n",
    "                 .cache()\n",
    "                 )"
   ]
  },
  {
   "cell_type": "code",
   "execution_count": null,
   "metadata": {
    "collapsed": true
   },
   "outputs": [],
   "source": [
    "top10PlayedArtists = artistPlayRDD.takeOrdered(10, key=lambda t: -1*t[1])"
   ]
  },
  {
   "cell_type": "code",
   "execution_count": 94,
   "metadata": {
    "collapsed": false
   },
   "outputs": [],
   "source": [
    "top10PlayedArtists = artistPlayRDD.join(artistRDD).takeOrdered(10, key=lambda t: -1*t[1][0])"
   ]
  },
  {
   "cell_type": "code",
   "execution_count": 99,
   "metadata": {
    "collapsed": false
   },
   "outputs": [
    {
     "name": "stdout",
     "output_type": "stream",
     "text": [
      "Artist: Radiohead           Plays: 2502596.0\n",
      "Artist: The Beatles         Plays: 2259825.0\n",
      "Artist: Green Day           Plays: 1931143.0\n",
      "Artist: Metallica           Plays: 1543430.0\n",
      "Artist: System of a Down    Plays: 1426254.0\n",
      "Artist: Pink Floyd          Plays: 1399665.0\n",
      "Artist: Nine Inch Nails     Plays: 1361977.0\n",
      "Artist: Modest Mouse        Plays: 1328969.0\n",
      "Artist: Bright Eyes         Plays: 1234773.0\n",
      "Artist: Nirvana             Plays: 1203348.0\n"
     ]
    }
   ],
   "source": [
    "for artist, plays in [(t[1][1], t[1][0]) for t in top10PlayedArtists]:\n",
    "    print(\"Artist: {:20}Plays:{:10}\".format(artist, plays))"
   ]
  },
  {
   "cell_type": "markdown",
   "metadata": {},
   "source": [
    "## Which User played the most tracks?"
   ]
  },
  {
   "cell_type": "code",
   "execution_count": null,
   "metadata": {
    "collapsed": true
   },
   "outputs": [],
   "source": [
    "userPlayRDD = (userArtistRDD\n",
    "              .map(lambda r: (r.user, r.rating))\n",
    "              .reduceByKey(lambda u1, u2: u1+u2)\n",
    "              .cache())\n",
    "top10PlayingUsers = userPlayRDD.takeOrdered(10, key=lambda t: -1*t[1])"
   ]
  },
  {
   "cell_type": "code",
   "execution_count": 102,
   "metadata": {
    "collapsed": false
   },
   "outputs": [
    {
     "name": "stdout",
     "output_type": "stream",
     "text": [
      "User: 1059637             Plays:   674412.0\n",
      "User: 2064012             Plays:   548427.0\n",
      "User: 2069337             Plays:   393515.0\n",
      "User: 2023977             Plays:   285978.0\n",
      "User: 1046559             Plays:   183972.0\n",
      "User: 1052461             Plays:   175822.0\n",
      "User: 1070932             Plays:   168977.0\n",
      "User: 1031009             Plays:   167273.0\n",
      "User: 2020513             Plays:   165642.0\n",
      "User: 2062243             Plays:   151504.0\n"
     ]
    }
   ],
   "source": [
    "for user, plays in top10PlayingUsers:\n",
    "    print(\"User: {:<20}Plays: {:10}\".format(user, plays))\n",
    "    "
   ]
  },
  {
   "cell_type": "code",
   "execution_count": null,
   "metadata": {
    "collapsed": true
   },
   "outputs": [],
   "source": []
  }
 ],
 "metadata": {
  "kernelspec": {
   "display_name": "Python 2",
   "language": "python",
   "name": "python2"
  },
  "language_info": {
   "codemirror_mode": {
    "name": "ipython",
    "version": 2
   },
   "file_extension": ".py",
   "mimetype": "text/x-python",
   "name": "python",
   "nbconvert_exporter": "python",
   "pygments_lexer": "ipython2",
   "version": "2.7.6"
  }
 },
 "nbformat": 4,
 "nbformat_minor": 0
}
