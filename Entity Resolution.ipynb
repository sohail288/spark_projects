{
 "cells": [
  {
   "cell_type": "markdown",
   "metadata": {},
   "source": [
    "# Entity Resolution Practice and Text Analytics"
   ]
  },
  {
   "cell_type": "markdown",
   "metadata": {},
   "source": [
    "## This lab is inspired from a lab in Berkeley's CS100, however with a new dataset there are new challenges\n",
    "\n",
    "## Entity resolution is the process of matching too apparently divergent records.  \n",
    "## For example, if you have two songs in your music library and both are the same song, but have different spellings for the artist or other metadata then they will be incorrectly labeled as two distinct entities.  This leads to a lower quality experience when dealing with a music library.\n",
    "\n",
    "## Similarly, two distinct records may inadvertantly be added to a dataset due to errors in the data entry process.  "
   ]
  },
  {
   "cell_type": "markdown",
   "metadata": {},
   "source": [
    "## Deduplication or Entity Resolution seeks to minimize records duplicates by reconciling them based on feature similarity.  This is called <u> Cross linking </u>."
   ]
  },
  {
   "cell_type": "markdown",
   "metadata": {},
   "source": [
    "## This lab will use the Abt-Buy dataset, so let's get it first"
   ]
  },
  {
   "cell_type": "code",
   "execution_count": 1,
   "metadata": {
    "collapsed": true
   },
   "outputs": [],
   "source": [
    "import zipfile\n",
    "import urllib\n",
    "import os\n",
    "import re\n",
    "\n",
    "url = 'http://dbs.uni-leipzig.de/file/Abt-Buy.zip';\n",
    "dest_directory = os.path.join(\"../../data/MyData\", \"abt\")\n",
    "\n",
    "def getData():\n",
    "    global url\n",
    "    global dest_directory\n",
    "    #data = urllib.urlopen(url)\n",
    "    \n",
    "    abt_zipfile_name = \"abt.zip\"\n",
    "    if not os.path.exists(dest_directory):\n",
    "        os.makedirs(dest_directory)\n",
    "    \n",
    "    abt_zip_path = os.path.join(dest_directory, abt_zipfile_name)\n",
    "    if not os.path.exists(abt_zip_path):\n",
    "        abt_zip = urllib.urlopen(url)\n",
    "        # write it to file\n",
    "        with open(abt_zip_path, \"wb\") as fh:\n",
    "            fh.write(abt_zip.read())\n",
    "        \n",
    "    if not all(map(lambda f_name: os.path.exists(os.path.join(dest_directory, f_name)), [\"Abt.csv\", \"Buy.csv\", 'abt_buy_perfectMapping.csv'])):\n",
    "        with zipfile.ZipFile(abt_zip_path, 'r') as zf:\n",
    "            zf.extractall(dest_directory)\n",
    "            \n",
    "    \n",
    "    \n",
    "    \n",
    "getData()"
   ]
  },
  {
   "cell_type": "markdown",
   "metadata": {},
   "source": [
    "## Now that you have the data, read it in and check the first few lines of each file"
   ]
  },
  {
   "cell_type": "code",
   "execution_count": 2,
   "metadata": {
    "collapsed": true
   },
   "outputs": [],
   "source": [
    "STOPWORDS_FILE = \"../../data/cs100/lab3/stopwords.txt\"\n",
    "ABT_FILE, BUY_FILE, GOLD_STANDARD = (\"Abt.csv\", \"Buy.csv\", 'abt_buy_perfectMapping.csv')\n",
    "\n",
    "\n"
   ]
  },
  {
   "cell_type": "code",
   "execution_count": 3,
   "metadata": {
    "collapsed": false
   },
   "outputs": [
    {
     "data": {
      "text/plain": [
       "\" Don't run this, it was used to test the upcoming functions\\nABT_FILE_RDD = sc.textFile(os.path.join(dest_directory, ABT_FILE))\\nBUY_FILE_RDD = sc.textFile(os.path.join(dest_directory, BUY_FILE))\\nGOLD_STANDARD_RDD = sc.textFile(os.path.join(dest_directory, GOLD_STANDARD))\\nSTOPWORDS = sc.textFile(STOPWORDS_FILE)\\n\""
      ]
     },
     "execution_count": 3,
     "metadata": {},
     "output_type": "execute_result"
    }
   ],
   "source": [
    "\"\"\" Don't run this, it was used to test the upcoming functions\n",
    "ABT_FILE_RDD = sc.textFile(os.path.join(dest_directory, ABT_FILE))\n",
    "BUY_FILE_RDD = sc.textFile(os.path.join(dest_directory, BUY_FILE))\n",
    "GOLD_STANDARD_RDD = sc.textFile(os.path.join(dest_directory, GOLD_STANDARD))\n",
    "STOPWORDS = sc.textFile(STOPWORDS_FILE)\n",
    "\"\"\""
   ]
  },
  {
   "cell_type": "code",
   "execution_count": 4,
   "metadata": {
    "collapsed": true
   },
   "outputs": [],
   "source": [
    "#print map(lambda array: \",\".join(array), ABT_FILE_RDD.map(lambda entry: entry.split(\",\")).filter(lambda split_entry: split_entry[-1]!=\"\").take(2))\n",
    "\n",
    "#abt_sample_line = ABT_FILE_RDD.take(3)[1]"
   ]
  },
  {
   "cell_type": "code",
   "execution_count": 5,
   "metadata": {
    "collapsed": true
   },
   "outputs": [],
   "source": [
    "\n",
    "#print BUY_FILE_RDD.take(10)[9]\n",
    "#buy_sample_line = BUY_FILE_RDD.take(1)[0]"
   ]
  },
  {
   "cell_type": "code",
   "execution_count": 6,
   "metadata": {
    "collapsed": true
   },
   "outputs": [],
   "source": [
    "#print GOLD_STANDARD.take(2)"
   ]
  },
  {
   "cell_type": "code",
   "execution_count": 7,
   "metadata": {
    "collapsed": true
   },
   "outputs": [],
   "source": [
    "#print STOPWORDS.take(2)"
   ]
  },
  {
   "cell_type": "markdown",
   "metadata": {},
   "source": [
    "## Now let's make parsing functions and regex to put it into a conformable structure"
   ]
  },
  {
   "cell_type": "markdown",
   "metadata": {},
   "source": [
    "## structures for the data\n"
   ]
  },
  {
   "cell_type": "code",
   "execution_count": 8,
   "metadata": {
    "collapsed": true
   },
   "outputs": [],
   "source": [
    "ABT_RE = re.compile(r'(?P<id>.+),\"(?P<name>.*)\",\"(?P<description>.*)\",(?P<price>.*)')\n",
    "BUY_RE = re.compile(r'(?P<id>[0-9A-Za-z]+),\"?(?P<name>.*)\"?,\"?(?P<description>.*)\"?,\"?(?P<manufacturer>.*)\"?,(?P<price>.*)')\n",
    "GOLD_RE = re.compile(r'\"?(.+)\"?,\"?(.+)\"?')"
   ]
  },
  {
   "cell_type": "code",
   "execution_count": 9,
   "metadata": {
    "collapsed": true
   },
   "outputs": [],
   "source": [
    "import re\n",
    "\n",
    "def parseDataLine(line, regx):\n",
    "    \n",
    "    match = regx.match(line)\n",
    "    print match\n",
    "    if match and match.group(1).strip('\"').startswith(\"id\"):\n",
    "        print \"Headerline:{}\".format(line)\n",
    "        return (line, 0)\n",
    "    elif match is None:\n",
    "        print \"Error in reading line: {}\".format(line)\n",
    "        return (line, -1)\n",
    "    # gold standard\n",
    "    elif len(match.groups()) == 2:\n",
    "        return (match.group(1), match.group(2), 1)\n",
    "        \n",
    "    else:\n",
    "        match_dict = match.groupdict()\n",
    "        return (match_dict.pop('id'), match_dict, 1)\n",
    "    \n",
    "\n",
    "\n"
   ]
  },
  {
   "cell_type": "markdown",
   "metadata": {},
   "source": [
    "## Test the regex on all the data"
   ]
  },
  {
   "cell_type": "code",
   "execution_count": 10,
   "metadata": {
    "collapsed": true
   },
   "outputs": [],
   "source": [
    "#print GOLD_STANDARD_RDD.take(2)[1]\n",
    "#parseDataLine(GOLD_STANDARD_RDD.take(1)[0], GOLD_RE)"
   ]
  },
  {
   "cell_type": "code",
   "execution_count": 11,
   "metadata": {
    "collapsed": true
   },
   "outputs": [],
   "source": [
    "#print parseDataLine(abt_sample_line, ABT_RE)"
   ]
  },
  {
   "cell_type": "code",
   "execution_count": 12,
   "metadata": {
    "collapsed": true
   },
   "outputs": [],
   "source": [
    "#print ABT_RE.match(abt_sample_line).group(1)\n",
    "#print abt_sample_line\n",
    "#print ABT_RE"
   ]
  },
  {
   "cell_type": "code",
   "execution_count": 13,
   "metadata": {
    "collapsed": true
   },
   "outputs": [],
   "source": [
    "#print parseDataLine(buy_sample_line, BUY_RE )"
   ]
  },
  {
   "cell_type": "markdown",
   "metadata": {},
   "source": [
    "## Streamline the data acquisition process\n",
    "### uncomment above lines to debug the regex process"
   ]
  },
  {
   "cell_type": "code",
   "execution_count": 14,
   "metadata": {
    "collapsed": false
   },
   "outputs": [
    {
     "name": "stdout",
     "output_type": "stream",
     "text": [
      "Bad lines count: 0\n",
      "\"id\",\"name\",\"description\",\"price\"\n",
      "Good lines: 1081\n",
      "Bad lines:0\n",
      "Total lines:1082\n",
      "Bad lines count: 0\n",
      "\"idAbt\",\"idBuy\"\n",
      "Good lines: 1097\n",
      "Bad lines:0\n",
      "Total lines:1098\n",
      "Bad lines count: 1\n",
      "\"id\",\"name\",\"description\",\"manufacturer\",\"price\"\n",
      "Good lines: 1092\n",
      "Bad lines:1\n",
      "Total lines:1093\n"
     ]
    }
   ],
   "source": [
    "def parseData(filePath,regx):\n",
    "    \"\"\"Parse data file\n",
    "    Args:\n",
    "        filePath (str): input file name complete\n",
    "    Returns:\n",
    "        rdd with parsed lines\"\"\"\n",
    "    return sc.textFile(filePath, 4,0).map(lambda l: parseDataLine(l,regx))\n",
    "    \n",
    "\n",
    "def loadDataFile(file_name, regx):\n",
    "    file_path = os.path.join(dest_directory, file_name)\n",
    "    \n",
    "    all_lines = parseData(file_path, regx)\n",
    "    \n",
    "    bad_lines = all_lines.filter(lambda t: t[-1]==-1).map(lambda t: t[0])\n",
    "    good_lines = all_lines.filter(lambda t: t[-1]==1).map(lambda t: t[:-1]).cache()\n",
    "    header_lines = all_lines.filter(lambda t: t[-1]==0).map(lambda t: t[0])\n",
    "    \n",
    "    \n",
    "    print \"Bad lines count: {}\".format(bad_lines.count())\n",
    "    for bad_line in bad_lines.take(10):\n",
    "        print bad_line\n",
    "        \n",
    "    for header_line in header_lines.take(10):\n",
    "        print header_line\n",
    "        \n",
    "    print \"Good lines: {}\\nBad lines:{}\\nTotal lines:{}\".format(good_lines.count(), bad_lines.count(), all_lines.count())\n",
    "    \n",
    "    return good_lines\n",
    "    \n",
    "    \n",
    "    \n",
    "    \n",
    "parsed_abt_rdd = loadDataFile(ABT_FILE, ABT_RE)\n",
    "parsed_gold_rdd = loadDataFile(GOLD_STANDARD, GOLD_RE)\n",
    "parsed_buy_rdd = loadDataFile(BUY_FILE, BUY_RE)"
   ]
  },
  {
   "cell_type": "code",
   "execution_count": 15,
   "metadata": {
    "collapsed": false
   },
   "outputs": [
    {
     "name": "stdout",
     "output_type": "stream",
     "text": [
      "('552', {'price': '', 'description': 'Sony Turntable - PSLX350H/ Belt Drive System/ 33-1/3 and 45 RPM Speeds/ Servo Speed Control/ Supplied Moving Magnet Phono Cartridge/ Bonded Diamond Stylus/ Static Balance Tonearm/ Pitch Control', 'name': 'Sony Turntable - PSLX350H'})\n",
      "('580', {'price': '$399.00', 'description': \"Bose Acoustimass 5 Series III Speaker System - AM53BK/ 2 Dual Cube Speakers With Two 2-1/2' Wide-range Drivers In Each Speaker/ Powerful Bass Module With Two 5-1/2' Woofers/ 200 Watts Max Power/ Black Finish\", 'name': 'Bose Acoustimass 5 Series III Speaker System - AM53BK'})\n",
      "('4696', {'price': '$49.00', 'description': 'Sony Switcher - SBV40S/ Eliminates Disconnecting And Reconnecting Cables/ Compact Design/ 4 A/V Inputs With S-Video Jacks/ 1 A/V Output With S-Video (Y/C)Jack/ 2 Audio Output', 'name': 'Sony Switcher - SBV40S'})\n",
      "('5644', {'price': '', 'description': 'Sony 5 Disc CD Player- CDPCE375/ 5 Disc Changer/ Variable Line Output/ CD-R/RW Playback Capability/ 20 Track Music Calendar/ Digital Servo Control/ Remote Commander Remote Control', 'name': 'Sony 5 Disc CD Player - CDPCE375'})\n",
      "('6284', {'price': '$158.00', 'description': 'Bose 161 Bookshelf Speakers In White - 161WH/ Articulated Array Speaker Design/ High-Excursion Twiddler Drivers/ Magnetically Shielded/ Priced Per Pair/ White Finish', 'name': 'Bose 27028 161 Bookshelf Pair Speakers In White - 161WH'})\n",
      "('6493', {'price': '$375.00', 'description': 'Denon Stereo Tuner - TU1500RD/ RDS Radio Data System/ AM-FM 40 Station Random Memory/ Rotary Tuning Knob/ Dot Matrix FL Display/ Optional Remote', 'name': 'Denon Stereo Tuner - TU1500RD'})\n",
      "('6726', {'price': '', 'description': 'KitchenAid Pasta Roller And Cutter - KPRA/ One Pasta Roller/ Two Pasta Cutters/ Cleaning Brush/ Chrome Finish', 'name': 'KitchenAid Pasta Roller And Cutter - KPRA'})\n",
      "('6742', {'price': '', 'description': 'Panasonic Yeast Pro Automatic Breadmaker - SDYD250/ Patented Yeast Dispenser/ 2.5 lb To 1.5 lb Loaf/ Choice Of Bread And Baking Modes/ 13 Hour Countdown Digital Timer/ Nonstick Coating For Easy Cleanup', 'name': 'Panasonic Yeast Pro Automatic Breadmaker - SDYD250'})\n",
      "('7195', {'price': '', 'description': 'Sony Vertical-In-The-Ear Stereo Headphones - MDRJ10/ Clip On Style/ 13.5 MM Driver Unit/ Blue Finish', 'name': 'Sony Vertical-In-The-Ear Stereo Headphones - MDRJ10'})\n",
      "('7783', {'price': '', 'description': 'Panasonic 2-Line Integrated Telephone - KXTSC14W/ Call Waiting/ 50-Station Caller ID/ Voice Mail Message-Waiting Indicator/ Speakerphone/ 3-Line LCD Display/ White Finish', 'name': 'Panasonic 2-Line Integrated Telephone - KXTSC14W'})\n"
     ]
    }
   ],
   "source": [
    "# look at data\n",
    "for i in parsed_abt_rdd.take(10):\n",
    "    print i"
   ]
  },
  {
   "cell_type": "markdown",
   "metadata": {},
   "source": [
    "## Are there any instances where price is not empty and is not a monetary amount?"
   ]
  },
  {
   "cell_type": "code",
   "execution_count": 16,
   "metadata": {
    "collapsed": false
   },
   "outputs": [
    {
     "name": "stdout",
     "output_type": "stream",
     "text": [
      "There were 0 cases where price was neither a monetary amount or an empty string\n",
      "There were 77 cases where price was neither a monetary amount or an empty string\n",
      "('205593354', {'price': '698.00\"', 'description': 'Denon\"', 'name': 'Denon AVR-3808CI A/V Receiver - AVR3808CI\",\"Dolby Pro Logic IIx, Dolby Digital Surround, DTS-ES, DTS Neo:6, DTS 96/24, Neural SurroundFM, AM, XM\"', 'manufacturer': '$1'})\n",
      "('205593367', {'price': '849.77\"', 'description': 'Denon\"', 'name': 'Denon AVR-4308CI A/V Receiver - AVR4308CI\",\"Dolby Pro Logic IIx, Dolby Digital Surround, DTS-ES, DTS Neo:6, DTS 96/24, Neural SurroundFM, AM, XM\"', 'manufacturer': '$1'})\n",
      "('205599985', {'price': '029.88\"', 'description': 'Canon\"', 'name': 'Canon EOS 40D Digital SLR Camera with EF 28-135mm f/3.5-5.6 IS USM Lens - 1901B017\",\"Canon EOS 40D Digital SLR Camera with 28-135mm Lens\"', 'manufacturer': '$1'})\n",
      "('206419131', {'price': '521.09\"', 'description': 'Nikon\"', 'name': 'Nikon D300 Digital SLR Camera - 25432\",\"12.3 Megapixel - 3\\' Active Matrix TFT Color LCD\"', 'manufacturer': '$1'})\n",
      "('207388755', {'price': '499.00\"', 'description': 'Panasonic\"', 'name': 'Panasonic VIERA TH-50PZ85U 50\\' Plasma TV\",\"50\\' - ATSC, NTSC - 16:9 - 1920 x 1080 - HDTV\"', 'manufacturer': '$1'})\n",
      "('207388756', {'price': '149.99\"', 'description': 'Panasonic\"', 'name': 'Panasonic Viera TH-46PZ85U 46\\' Plasma TV\",\"46\\' - ATSC, NTSC - 16:9 - 1920 x 1080 - Surround - HDTV\"', 'manufacturer': '$1'})\n",
      "('207388758', {'price': '364.96\"', 'description': 'Panasonic\"', 'name': 'Panasonic Viera TH-50PZ80U 50\\' Plasma TV\",\"50\\' - ATSC, NTSC - 16:9 - 1920 x 1080 - Surround - HDTV\"', 'manufacturer': '$1'})\n",
      "('207388759', {'price': '249.94\"', 'description': 'Panasonic\"', 'name': 'Panasonic Viera TH-46PZ80U 46\\' Plasma TV\",\"46\\' - ATSC, NTSC - 16:9 - 1920 x 1080 - Surround - HDTV\"', 'manufacturer': '$1'})\n",
      "('207390309', {'price': '999.00\"', 'description': 'BOSE\"', 'name': 'Bose Lifestyle 48 Home Theater System - 43479\",\"DVD Player, 5.1 Speakers - Progressive Scan - White\"', 'manufacturer': '$3'})\n",
      "('207390641', {'price': '049.99\"', 'description': 'Sharp\"', 'name': 'Sharp AQUOS LC-52SE94U 52\\' LCD TV\",\"52\\' - Active Matrix TFT - ATSC, NTSC - 16:9 - 1920 x 1080 - HDTV\"', 'manufacturer': '$2'})\n",
      "('207595882', {'price': '599.98\"', 'description': 'Samsung\"', 'name': 'Samsung LN46A650 46\\' LCD TV\",\"Samsung LN46A650 - 46\\' 1080p LCD HDTV - 50,000:1 Dynamic Contrast Ratio - 120Hz - 4ms Response Time\"', 'manufacturer': '$1'})\n",
      "('207642166', {'price': '895.00\"', 'description': 'Samsung\"', 'name': 'Samsung LN52A650 52\\' LCD TV\",\"Samsung LN52A650 - 52\\' 1080p LCD HDTV - 50,000:1 Dynamic Contrast Ratio - 120Hz - 4ms Response Time\"', 'manufacturer': '$1'})\n",
      "('207652055', {'price': '579.00\"', 'description': 'Samsung\"', 'name': 'Samsung LN52A550 - 52\\' Widescreen 1080p LCD HDTV - 30,000:1 Dynamic Contrast Ratio - 5ms Response Time - Piano Black\",', 'manufacturer': '$1'})\n",
      "('207652056', {'price': '143.99\"', 'description': 'Samsung\"', 'name': 'Samsung LN46A550 46\\' LCD TV\",\"Samsung LN46A550 - 46\\' Widescreen 1080p LCD HDTV - 30,000:1 Dynamic Contrast Ratio - 5ms Response Time - Piano Black\"', 'manufacturer': '$1'})\n",
      "('207653548', {'price': '294.90\"', 'description': 'Samsung\"', 'name': 'Samsung PN58A550 58\\' Plasma TV\",\"Samsung PN58A550 - 58\\' Widescreen 1080p Plasma HDTV - 1,000,000:1 Dynamic Contrast Ratio - Piano Black\"', 'manufacturer': '$2'})\n",
      "('207660497', {'price': '279.98\"', 'description': 'Samsung\"', 'name': 'Samsung LN40A650 40\\' LCD TV\",\"Samsung LN40A650 - 40\\' 1080p LCD HDTV - 50,000:1 Dynamic Contrast Ratio - 120Hz - 4ms Response Time\"', 'manufacturer': '$1'})\n",
      "('207660499', {'price': '499.98\"', 'description': 'Samsung\"', 'name': 'Samsung PN50A550 50\\' Plasma TV\",\"Samsung PN50A550 - 50\\' Widescreen 1080p Plasma HDTV - 1,000,000:1 Dynamic Contrast Ratio - Piano Black\"', 'manufacturer': '$1'})\n",
      "('207876534', {'price': '711.19\"', 'description': 'Panasonic\"', 'name': 'Panasonic Viera TH-50PZ800U - 50\\' Widescreen 1080p Plasma HDTV - 1,000,000:1 Dynamic Contrast Ratio\",', 'manufacturer': '$1'})\n",
      "('207900170', {'price': '079.96\"', 'description': 'Samsung\"', 'name': 'Samsung 6 Series HL56A650 56\\' Projection TV\",\"Samsung HL56A650 - 56\\' Widescreen 1080p DLP HDTV w/ Built in NTSC/ATSC Tuner - Piano Black\"', 'manufacturer': '$1'})\n",
      "('207900171', {'price': '076.94\"', 'description': 'Samsung\"', 'name': 'Samsung 6 Series HL61A650 61\\' Projection TV\",\"Samsung HL61A650 - 61\\' Widescreen 1080p DLP HDTV w/ Built in NTSC/ATSC Tuner - Piano Black\"', 'manufacturer': '$1'})\n"
     ]
    }
   ],
   "source": [
    "def checkPrice(dataRDD):\n",
    "    priceless = dataRDD.filter(lambda (id, data): data['price'] != \"\" and \"$\" not in data['price'])\n",
    "    \n",
    "    print \"There were {} cases where price was neither a monetary amount or an empty string\".format(priceless.count())\n",
    "    \n",
    "    for i in priceless.take(20):\n",
    "        print i\n",
    "\n",
    "checkPrice(parsed_abt_rdd)\n",
    "checkPrice(parsed_buy_rdd)\n",
    "\n"
   ]
  },
  {
   "cell_type": "markdown",
   "metadata": {},
   "source": [
    "## a lot of weirdness going on with the buy dataset, the manufacturer,description and other fields seem to not match up"
   ]
  },
  {
   "cell_type": "markdown",
   "metadata": {},
   "source": [
    "## we'll be using the bag of words approach for conflation, so the key is to make a list that contains all the words from these rdd with stopwords and punctuation removed"
   ]
  },
  {
   "cell_type": "code",
   "execution_count": 17,
   "metadata": {
    "collapsed": true
   },
   "outputs": [],
   "source": [
    "def joinTextFromRDD(dataRDD):\n",
    "    \"\"\" put the text from the description name and if it has a manufacturer into a list of words\n",
    "    Args:\n",
    "        dataRDD(rdd): rdd that has following format (id, data_dict)\n",
    "    Returns:\n",
    "        RDD: has form (id, string containing all words from description)\n",
    "    \"\"\"\n",
    "    \n",
    "    return (dataRDD\n",
    "            .map(lambda (id, data): (id,                       #spark map accross rows\n",
    "                                     map(lambda t: t[1],       #get the values from tuple of data entries\n",
    "                                           filter(lambda t: t[0] != 'price', tuple(data.items())))))  #convert data dict to tuple\n",
    "            .map(lambda (id, list_): (id, \" \".join(              #spark map a list to a string\n",
    "                    map(lambda element: element.strip('\"'), list_ #give spark map cleaned quotes elements\n",
    "                                                      )))))\n",
    "    \n",
    "joined_buy_rdd = joinTextFromRDD(parsed_buy_rdd)\n",
    "joined_abt_rdd = joinTextFromRDD(parsed_abt_rdd)"
   ]
  },
  {
   "cell_type": "markdown",
   "metadata": {},
   "source": [
    "## Bag of words operates on finding similar tokens across documents.  Tokens are the atomic unit of comparison amongst strings\n",
    "\n",
    "### To implement this behavior we will make a function that returns tokens from a string of words"
   ]
  },
  {
   "cell_type": "code",
   "execution_count": 18,
   "metadata": {
    "collapsed": false
   },
   "outputs": [
    {
     "data": {
      "text/plain": [
       "['d-link',\n",
       " 'd-link',\n",
       " 'broadband',\n",
       " 'cable',\n",
       " 'modem',\n",
       " 'd-link',\n",
       " 'express',\n",
       " 'ethernetwork',\n",
       " 'high-speed',\n",
       " 'docsis',\n",
       " '2.0',\n",
       " 'cable',\n",
       " 'modem',\n",
       " 'dcm-202']"
      ]
     },
     "execution_count": 18,
     "metadata": {},
     "output_type": "execute_result"
    }
   ],
   "source": [
    "import string\n",
    "\n",
    "test_string = 'D-Link D-Link Broadband Cable Modem D-Link Express EtherNetwork High-Speed DOCSIS 2.0 Cable Modem - DCM-202'\n",
    "\n",
    "\n",
    "def processAndTokenize(string_):\n",
    "    \"\"\"Returns a list of words that have been filtered for punctuations and are lowered\n",
    "    Args:\n",
    "        string (str): string to split\n",
    "    Returns:\n",
    "        list: list of tokens\"\"\"\n",
    "    return filter(lambda token: token not in string.punctuation, \n",
    "                  map(lambda filtered_word: filtered_word.strip(string.punctuation),\n",
    "                    map(lambda word: re.sub(r'[\\',]',\"\", word.lower()), re.split(r'[\\s]', string_))))\n",
    "\n",
    "processAndTokenize(test_string)"
   ]
  },
  {
   "cell_type": "code",
   "execution_count": 19,
   "metadata": {
    "collapsed": false
   },
   "outputs": [
    {
     "data": {
      "text/plain": [
       "<_sre.SRE_Match at 0xb049a640>"
      ]
     },
     "execution_count": 19,
     "metadata": {},
     "output_type": "execute_result"
    }
   ],
   "source": [
    "inter_word_dash = r'\\w+-\\w+'\n",
    "re.match(inter_word_dash, \"walk-man\")"
   ]
  },
  {
   "cell_type": "markdown",
   "metadata": {},
   "source": [
    "## Also get rid of all stopwords"
   ]
  },
  {
   "cell_type": "code",
   "execution_count": 20,
   "metadata": {
    "collapsed": false
   },
   "outputs": [],
   "source": [
    "stop_words = sc.textFile(STOPWORDS_FILE).collect()"
   ]
  },
  {
   "cell_type": "code",
   "execution_count": 21,
   "metadata": {
    "collapsed": false
   },
   "outputs": [
    {
     "name": "stdout",
     "output_type": "stream",
     "text": [
      "STopwords are:\n",
      "all\n",
      "just\n",
      "being\n",
      "over\n",
      "both\n",
      "through\n",
      "yourselves\n",
      "its\n",
      "before\n",
      "herself\n",
      "had\n",
      "should\n",
      "to\n",
      "only\n",
      "under\n",
      "ours\n",
      "has\n",
      "do\n",
      "them\n",
      "his\n",
      "very\n",
      "they\n",
      "not\n",
      "during\n",
      "now\n",
      "him\n",
      "nor\n",
      "did\n",
      "this\n",
      "she\n",
      "each\n",
      "further\n",
      "where\n",
      "few\n",
      "because\n",
      "doing\n",
      "some\n",
      "are\n",
      "our\n",
      "ourselves\n",
      "out\n",
      "what\n",
      "for\n",
      "while\n",
      "does\n",
      "above\n",
      "between\n",
      "t\n",
      "be\n",
      "we\n",
      "who\n",
      "were\n",
      "here\n",
      "hers\n",
      "by\n",
      "on\n",
      "about\n",
      "of\n",
      "against\n",
      "s\n",
      "or\n",
      "own\n",
      "into\n",
      "yourself\n",
      "down\n",
      "your\n",
      "from\n",
      "her\n",
      "their\n",
      "there\n",
      "been\n",
      "whom\n",
      "too\n",
      "themselves\n",
      "was\n",
      "until\n",
      "more\n",
      "himself\n",
      "that\n",
      "but\n",
      "don\n",
      "with\n",
      "than\n",
      "those\n",
      "he\n",
      "me\n",
      "myself\n",
      "these\n",
      "up\n",
      "will\n",
      "below\n",
      "can\n",
      "theirs\n",
      "my\n",
      "and\n",
      "then\n",
      "is\n",
      "am\n",
      "it\n",
      "an\n",
      "as\n",
      "itself\n",
      "at\n",
      "have\n",
      "in\n",
      "any\n",
      "if\n",
      "again\n",
      "no\n",
      "when\n",
      "same\n",
      "how\n",
      "other\n",
      "which\n",
      "you\n",
      "after\n",
      "most\n",
      "such\n",
      "why\n",
      "a\n",
      "off\n",
      "i\n",
      "yours\n",
      "so\n",
      "the\n",
      "having\n",
      "once\n",
      "['hello', 'world']\n"
     ]
    }
   ],
   "source": [
    "print \"STopwords are:\"\n",
    "for i in stop_words:\n",
    "    print i\n",
    "    \n",
    "def tokenize(string_):\n",
    "    return filter(lambda token: token not in stop_words, processAndTokenize(string_))\n",
    "    \n",
    "print tokenize(\"hello, world\")"
   ]
  },
  {
   "cell_type": "code",
   "execution_count": 22,
   "metadata": {
    "collapsed": false
   },
   "outputs": [],
   "source": [
    "abtTokenized = joined_abt_rdd.map(lambda (id, string_): (id, tokenize(string_))).cache()\n",
    "buyTokenized = joined_buy_rdd.map(lambda (id, string_): (id, tokenize(string_))).cache()"
   ]
  },
  {
   "cell_type": "code",
   "execution_count": 23,
   "metadata": {
    "collapsed": false
   },
   "outputs": [
    {
     "name": "stdout",
     "output_type": "stream",
     "text": [
      "('10011646', ['linksys', 'linksys', 'etherfast', '8-port', '10/100', 'switch', 'new/workgroup', 'linksys', 'etherfast', 'ezxs88w', 'ethernet', 'switch', 'ezxs88w'])\n",
      "('10140760', ['linksys', '5', 'x', '10/100base-tx', 'lan', 'linksys', 'etherfast', 'ezxs55w', 'ethernet', 'switch'])\n",
      "('10221960', ['netgear', 'netgear', 'fs105', 'prosafe', '5', 'port', '10/100', 'desktop', 'switch', 'netgear', 'prosafe', 'fs105', 'ethernet', 'switch', 'fs105na'])\n",
      "('10246269', ['belkin', '1', 'x', 'hd-15', '1', 'x', 'hd-15', '10ft', 'beige', 'belkin', 'pro', 'series', 'high', 'integrity', 'vga/svga', 'monitor', 'extension', 'cable', 'f3h982-10'])\n",
      "('10315184', ['netgear', 'netgear', 'prosafe', '16', 'port', '10/100', 'rackmount', 'switch', 'jfs516na', 'netgear', 'prosafe', 'jfs516', 'ethernet', 'switch'])\n",
      "('10316920', ['lacie', 'lacie', 'pocket', 'usb', 'floppy', '1.44', 'mb', 'lacie', 'pocket', 'floppy', 'disk', 'drive', '706018'])\n",
      "('10326220', ['canon', '36', 'page', '4', 'x', '6', 'canon', 'kp', '36ip', 'print', 'cartridge', 'paper', 'kit', '7737a001'])\n",
      "('10333368', ['kensington', 'ps/2', 'kensington', 'orbit', 'optical', 'trackball', 'usb', 'w/ps2', 'adapter', '64327\"\"optical', 'usb'])\n",
      "('10333846', ['linksys', '16', 'x', '10/100base-tx', 'lan', 'linksys', 'etherfast', 'ef4116', 'ethernet', 'switch'])\n",
      "('10333848', ['linksys', '24', 'x', '10/100base-tx', 'lan', 'linksys', 'etherfast', 'ef4124', 'ethernet', 'switch'])\n"
     ]
    }
   ],
   "source": [
    "for i in buyTokenized.take(10):\n",
    "    print i "
   ]
  },
  {
   "cell_type": "markdown",
   "metadata": {},
   "source": [
    "## Count distinct tokens"
   ]
  },
  {
   "cell_type": "code",
   "execution_count": 24,
   "metadata": {
    "collapsed": false
   },
   "outputs": [
    {
     "name": "stdout",
     "output_type": "stream",
     "text": [
      "ther are 5953 distinct tokens in the abt data set, and 3340 distinct tokens in the buy dataset. total: 9293\n"
     ]
    }
   ],
   "source": [
    "def countTokens(tokenizedRDD):\n",
    "    return tokenizedRDD.flatMap(lambda t:t[1]).distinct().count()\n",
    "\n",
    "print \"ther are {} distinct tokens in the abt data set, and {} distinct tokens in the buy dataset. total: {}\".format(\n",
    "    countTokens(abtTokenized), countTokens(buyTokenized), countTokens(abtTokenized)+countTokens(buyTokenized))"
   ]
  },
  {
   "cell_type": "code",
   "execution_count": 25,
   "metadata": {
    "collapsed": false
   },
   "outputs": [
    {
     "data": {
      "text/plain": [
       "82"
      ]
     },
     "execution_count": 25,
     "metadata": {},
     "output_type": "execute_result"
    }
   ],
   "source": [
    "# biggest token\n",
    "abtTokenized.map(lambda t: len(t[1])).max()"
   ]
  },
  {
   "cell_type": "markdown",
   "metadata": {
    "collapsed": true
   },
   "source": [
    "# Now for methods that detect duplicates\n",
    "\n",
    "## In bag of words, we compare the similarity of tokens across two records.  \n",
    "## Weights are given to each token in accordance with rarity accross all records and occurence between two records"
   ]
  },
  {
   "cell_type": "code",
   "execution_count": 26,
   "metadata": {
    "collapsed": false
   },
   "outputs": [],
   "source": [
    "# first try implementing an unweighted token counting algorithm\n",
    "from collections import defaultdict\n",
    "\n",
    "def dictOfTokens(list_of_tokens):\n",
    "    dict_tokens = defaultdict(int)\n",
    "    for i in list_of_tokens:\n",
    "        dict_tokens[i] += 1\n",
    "    return dict_tokens\n",
    "\n",
    "dict1= dictOfTokens([\"apple\", \"apple\", \"banana\"])\n",
    "dict2= dictOfTokens([\"banana\", \"banana\",\"apple\",  \"banana\"])"
   ]
  },
  {
   "cell_type": "code",
   "execution_count": 27,
   "metadata": {
    "collapsed": false
   },
   "outputs": [
    {
     "name": "stdout",
     "output_type": "stream",
     "text": [
      "defaultdict(<type 'int'>, {'apple': 1, 'banana': -2})\n"
     ]
    }
   ],
   "source": [
    "def similarityOfDicts(dict1, dict2):\n",
    "    \"\"\"computes similarity of tokens accross two records by favoring those records that have equal occurences of similar\n",
    "    tokens accross the records\n",
    "    \"\"\"\n",
    "    joined_dict = defaultdict(int)\n",
    "    for k in dict1:\n",
    "        joined_dict[k] += dict1[k]\n",
    "    for k in dict2:\n",
    "        joined_dict[k] -= dict2[k]\n",
    "    return joined_dict\n",
    "\n",
    "print similarityOfDicts(dict1, dict2)"
   ]
  },
  {
   "cell_type": "code",
   "execution_count": 28,
   "metadata": {
    "collapsed": false
   },
   "outputs": [
    {
     "name": "stdout",
     "output_type": "stream",
     "text": [
      "3\n"
     ]
    }
   ],
   "source": [
    "def divergenceOfDicts(joined_dict):\n",
    "    return reduce(lambda x,y: x+y, map(lambda (k,v): abs(v), joined_dict.items()))\n",
    "\n",
    "print divergenceOfDicts(similarityOfDicts(dict1,dict2))"
   ]
  },
  {
   "cell_type": "markdown",
   "metadata": {},
   "source": [
    "## This naive way works by selecting those records that have low divergence of terms between them"
   ]
  },
  {
   "cell_type": "markdown",
   "metadata": {},
   "source": [
    "## try it on the dataset"
   ]
  },
  {
   "cell_type": "code",
   "execution_count": 29,
   "metadata": {
    "collapsed": false
   },
   "outputs": [],
   "source": [
    "cart = (abtTokenized.cartesian(buyTokenized)\n",
    "        .map(lambda t: ((t[0][0], t[1][0]), (dictOfTokens(t[0][1]), dictOfTokens(t[1][1]))))\n",
    "        .map(lambda t: (t[0], divergenceOfDicts(similarityOfDicts(*t[1])))))"
   ]
  },
  {
   "cell_type": "code",
   "execution_count": 30,
   "metadata": {
    "collapsed": false
   },
   "outputs": [],
   "source": [
    "duplicates = cart.filter(lambda t: t[1] < 20).map(lambda t: t[0])"
   ]
  },
  {
   "cell_type": "markdown",
   "metadata": {},
   "source": [
    "## test on the gold standard to see how many possible duplicates we caught"
   ]
  },
  {
   "cell_type": "code",
   "execution_count": 31,
   "metadata": {
    "collapsed": false
   },
   "outputs": [
    {
     "data": {
      "text/plain": [
       "72"
      ]
     },
     "execution_count": 31,
     "metadata": {},
     "output_type": "execute_result"
    }
   ],
   "source": [
    "duplicates.intersection(parsed_gold_rdd).count()"
   ]
  },
  {
   "cell_type": "markdown",
   "metadata": {},
   "source": [
    "## which is 72/total_true = "
   ]
  },
  {
   "cell_type": "code",
   "execution_count": 32,
   "metadata": {
    "collapsed": false
   },
   "outputs": [
    {
     "data": {
      "text/plain": [
       "0.06563354603463993"
      ]
     },
     "execution_count": 32,
     "metadata": {},
     "output_type": "execute_result"
    }
   ],
   "source": [
    "float(72)/parsed_gold_rdd.count()"
   ]
  },
  {
   "cell_type": "markdown",
   "metadata": {},
   "source": [
    "## now I will try it with difference thresholds"
   ]
  },
  {
   "cell_type": "markdown",
   "metadata": {
    "collapsed": false
   },
   "source": [
    "```python\n",
    "#this takes a long time so i commented it out\n",
    "best_threshold = None\n",
    "best_percentage = 0\n",
    "total_gold_counts = parsed_gold_rdd.count()\n",
    "for thresh in range(10,100,10):\n",
    "    current_duplicates = cart.filter(lambda t: t[1] < thresh).map(lambda t: t[0])\n",
    "    intersected_counts = current_duplicates.intersection(parsed_gold_rdd).count()\n",
    "    percentage = float(intersected_counts)/total_gold_counts\n",
    "    print \"For threshold of {}, the intersected counts are {} and percent of true caught is: {}\".format(\n",
    "        thresh, intersected_counts, percentage)\n",
    "    if percentage > best_percentage:\n",
    "        best_percentage = percentage\n",
    "        best_threshold = thresh\n",
    "\n",
    "```"
   ]
  },
  {
   "cell_type": "markdown",
   "metadata": {},
   "source": [
    "## eventually as the threshold increases, we can expect to see all dupes being matched, this is because the maximum divergence is only 120.  We are including lots of false positives"
   ]
  },
  {
   "cell_type": "markdown",
   "metadata": {
    "collapsed": false
   },
   "source": [
    "<h1 style=\"width:30%;display:inline; border: solid 2px black;\">Entity Resolution Algorithms</h1>\n",
    "<h1 style=\"width:49%; border: solid 2px black;display:inline\">And Definitions</h1>\n"
   ]
  },
  {
   "cell_type": "markdown",
   "metadata": {},
   "source": [
    "<style>\n",
    "th {color:red;}\n",
    "</style>\n",
    "\n",
    "<table class=\"algorithms\">\n",
    "    <thead>\n",
    "        <tr>\n",
    "            <th scope=\"col\">Algorithm Name</th>\n",
    "            <th scope=\"col\">Description</th>\n",
    "        </tr> \n",
    "    </thead>\n",
    "    <tbody>\n",
    "        <tr>\n",
    "            <td>TF-IDF</td>\n",
    "            <td>Term-Frequency/Inverse-Document-Frequency works by assigning weights to tokens based on their rarity and frequency of occurences. it is the product of TF and IDF\n",
    "                $$\\text{TF-IDF}(t)=TF(t)*IDF(t)$$\n",
    "                where t is a token\n",
    "            </td>\n",
    "        </tr>\n",
    "        <tr>\n",
    "            <td>Term-Frequency</td>\n",
    "            <td>It is the proportion of token relative to all the tokens in a document and is calculated by <br>\n",
    "                $$TF(\\text{token})=\\frac{count\\text{(token)}}{count(\\text{allTokensInDocument)}}$$\n",
    "                Essentially, if a token appears inside a document numerous times, then it must be critical to the semantics of the document.\n",
    "            </td>\n",
    "        </tr>\n",
    "        <tr>\n",
    "            <td>Inverse-Document-Frequency</td>\n",
    "            <td>If two documents share a word that is rare in the overall dataset, then the probability that the two\n",
    "            documents being similar is increased. Given a set of documents $U$ with cardinality $N$, the IDF of a token $t$ is\n",
    "                \n",
    "                $$IDF(t) = \\frac{N}{n(t)} $$\n",
    "                Where $n(t)$ is the number of documents containing token $t$\n",
    "            </td>\n",
    "        </tr>\n",
    "    </tbody>\n",
    "    <tfoot>\n",
    "        <tr>\n",
    "            <td colspan=2> There are a lot more that you can use </td>\n",
    "        </tr>\n",
    "       \n",
    "    </tfoot>\n",
    "</table>"
   ]
  },
  {
   "cell_type": "markdown",
   "metadata": {},
   "source": [
    "## Now I am going to make a function that calculates the term frequencies of tokens in a set"
   ]
  },
  {
   "cell_type": "code",
   "execution_count": 33,
   "metadata": {
    "collapsed": false
   },
   "outputs": [
    {
     "data": {
      "text/plain": [
       "{'apple': 0.25, 'banana': 0.75}"
      ]
     },
     "execution_count": 33,
     "metadata": {},
     "output_type": "execute_result"
    }
   ],
   "source": [
    "def termFrequency(tokens):\n",
    "    \"\"\"Calculates the term frequencies of a set of tokens\n",
    "    Args\n",
    "        tokens (list): list of tokens\n",
    "    Returns\n",
    "        (dict): a dictionary of tokens with associated term frequencies\n",
    "    \"\"\"\n",
    "    tf = defaultdict(int)\n",
    "    for i in tokens:\n",
    "        tf[i] += 1\n",
    "    return dict(map(lambda (k,v): (k,float(v)/len(tokens)), tf.items()))\n",
    "\n",
    "termFrequency([\"banana\", \"banana\",\"apple\",  \"banana\"])\n",
    "\n"
   ]
  },
  {
   "cell_type": "markdown",
   "metadata": {},
   "source": [
    "## Now, I need to create IDFs for all terms \n",
    "## Heres the formula again, $IDF(t) = \\frac{N}{n(t)}$"
   ]
  },
  {
   "cell_type": "code",
   "execution_count": 34,
   "metadata": {
    "collapsed": false
   },
   "outputs": [
    {
     "data": {
      "text/plain": [
       "[('finish', 1.321515892420538),\n",
       " ('black', 2.00556586270872),\n",
       " ('digital', 3.5913621262458473),\n",
       " ('system', 4.523012552301255),\n",
       " ('lcd', 4.741228070175438),\n",
       " ('sony', 5.93956043956044),\n",
       " ('built-in', 6.0055555555555555),\n",
       " ('display', 6.284883720930233),\n",
       " ('compatible', 6.473053892215569),\n",
       " ('technology', 6.714285714285714)]"
      ]
     },
     "execution_count": 34,
     "metadata": {},
     "output_type": "execute_result"
    }
   ],
   "source": [
    "def idf(rdd):\n",
    "    N = rdd.count()\n",
    "    \n",
    "    allTerms = rdd.flatMap(lambda t: set(t[1]))\n",
    "    countTerms = allTerms.map(lambda term: (term, 1))\n",
    "    termPerDocument = countTerms.reduceByKey(lambda x,y: x+y)\n",
    "    return termPerDocument.mapValues(lambda v: N/float(v))\n",
    "\n",
    "idf(abtTokenized).takeOrdered(10, lambda t:t[1])"
   ]
  },
  {
   "cell_type": "markdown",
   "metadata": {},
   "source": [
    "## gather all the documents from both sides and place them into one corpus"
   ]
  },
  {
   "cell_type": "code",
   "execution_count": 35,
   "metadata": {
    "collapsed": false
   },
   "outputs": [],
   "source": [
    "corpus = abtTokenized.union(buyTokenized)\n",
    "\n",
    "#for i in corpus.sample(False, .1).collect():\n",
    " #   print i"
   ]
  },
  {
   "cell_type": "code",
   "execution_count": 36,
   "metadata": {
    "collapsed": true
   },
   "outputs": [],
   "source": [
    "idfs = idf(corpus)"
   ]
  },
  {
   "cell_type": "code",
   "execution_count": 37,
   "metadata": {
    "collapsed": false
   },
   "outputs": [
    {
     "data": {
      "text/plain": [
       "[('finish', 2.653235653235653),\n",
       " ('black', 3.0391608391608393),\n",
       " ('digital', 4.555555555555555),\n",
       " ('lcd', 5.392059553349876),\n",
       " ('sony', 6.036111111111111),\n",
       " ('system', 7.416382252559727),\n",
       " ('x', 9.366379310344827),\n",
       " ('hdtv', 9.96788990825688),\n",
       " ('camera', 10.757425742574258),\n",
       " ('panasonic', 10.757425742574258),\n",
       " ('built-in', 11.436842105263159),\n",
       " ('series', 11.93956043956044),\n",
       " ('display', 11.93956043956044),\n",
       " ('canon', 12.139664804469273),\n",
       " ('control', 12.27683615819209),\n",
       " ('compatible', 12.857988165680473),\n",
       " ('technology', 13.331288343558283),\n",
       " ('video', 13.496894409937887),\n",
       " ('2', 13.58125),\n",
       " ('panel', 13.753164556962025),\n",
       " ('memory', 13.840764331210192),\n",
       " ('1080p', 14.486666666666666),\n",
       " ('dvd', 14.583892617449665),\n",
       " ('color', 14.782312925170068),\n",
       " ('3', 14.782312925170068),\n",
       " ('zoom', 14.782312925170068),\n",
       " ('resolution', 16.096296296296295),\n",
       " ('5', 16.096296296296295),\n",
       " ('tv', 16.21641791044776),\n",
       " ('megapixel', 16.46212121212121),\n",
       " ('contrast', 16.715384615384615),\n",
       " ('1', 16.844961240310077),\n",
       " ('4', 16.844961240310077),\n",
       " ('lg', 17.246031746031747),\n",
       " ('flat', 17.666666666666668),\n",
       " ('white', 17.666666666666668),\n",
       " ('time', 17.666666666666668),\n",
       " ('high', 17.811475409836067),\n",
       " ('silver', 17.811475409836067),\n",
       " ('capacity', 17.958677685950413),\n",
       " ('case', 18.108333333333334),\n",
       " ('player', 18.108333333333334),\n",
       " ('dynamic', 18.26050420168067),\n",
       " ('usb', 18.26050420168067),\n",
       " ('ratio', 18.415254237288135),\n",
       " ('home', 18.895652173913042),\n",
       " ('full', 19.06140350877193),\n",
       " ('samsung', 19.401785714285715),\n",
       " ('audio', 19.576576576576578),\n",
       " ('hdmi', 20.5),\n",
       " ('widescreen', 20.695238095238096),\n",
       " ('image', 20.89423076923077),\n",
       " ('ipod', 20.89423076923077),\n",
       " ('ft', 21.097087378640776),\n",
       " ('lens', 21.30392156862745),\n",
       " ('remote', 21.73),\n",
       " ('wireless', 22.1734693877551),\n",
       " ('optical', 22.635416666666668),\n",
       " ('drive', 22.635416666666668),\n",
       " ('16:9', 23.117021276595743),\n",
       " ('mount', 23.117021276595743),\n",
       " ('tuner', 23.365591397849464),\n",
       " ('battery', 23.619565217391305),\n",
       " ('cable', 23.619565217391305),\n",
       " ('hd', 23.619565217391305),\n",
       " ('sound', 24.144444444444446),\n",
       " ('auto', 24.144444444444446),\n",
       " ('card', 24.144444444444446),\n",
       " ('playback', 24.977011494252874),\n",
       " ('steel', 25.267441860465116),\n",
       " ('pro', 25.564705882352943),\n",
       " ('design', 25.86904761904762),\n",
       " ('speaker', 25.86904761904762),\n",
       " ('receiver', 25.86904761904762),\n",
       " ('response', 26.180722891566266),\n",
       " ('mode', 26.180722891566266),\n",
       " ('hours', 26.82716049382716),\n",
       " ('photo', 26.82716049382716),\n",
       " ('radio', 26.82716049382716),\n",
       " ('portable', 26.82716049382716),\n",
       " ('cu', 26.82716049382716),\n",
       " ('1920', 27.1625),\n",
       " ('dolby', 27.1625),\n",
       " ('hard', 27.1625),\n",
       " ('dual', 27.50632911392405),\n",
       " ('electronics', 27.858974358974358),\n",
       " ('bluetooth', 27.858974358974358),\n",
       " ('cordless', 28.22077922077922),\n",
       " ('apple', 28.592105263157894),\n",
       " ('controls', 28.592105263157894),\n",
       " ('camcorder', 28.973333333333333),\n",
       " ('processor', 29.364864864864863),\n",
       " ('power', 29.364864864864863),\n",
       " ('stainless', 30.180555555555557),\n",
       " ('1080', 30.6056338028169),\n",
       " ('10', 31.492753623188406),\n",
       " ('stereo', 31.492753623188406),\n",
       " ('surround', 31.492753623188406),\n",
       " ('phone', 31.955882352941178),\n",
       " ('speakers', 32.43283582089552)]"
      ]
     },
     "execution_count": 37,
     "metadata": {},
     "output_type": "execute_result"
    }
   ],
   "source": [
    "idfs.takeOrdered(100, lambda (k,v):v)"
   ]
  },
  {
   "cell_type": "markdown",
   "metadata": {},
   "source": [
    "## to see a distribution of the idfs use a histogram\n"
   ]
  },
  {
   "cell_type": "code",
   "execution_count": 38,
   "metadata": {
    "collapsed": false
   },
   "outputs": [
    {
     "data": {
      "text/plain": [
       "<matplotlib.text.Text at 0xb04bff0c>"
      ]
     },
     "execution_count": 38,
     "metadata": {},
     "output_type": "execute_result"
    },
    {
     "data": {
      "image/png": "[encoded data removed]",
      "text/plain": [
       "<matplotlib.figure.Figure at 0xb04bf98c>"
      ]
     },
     "metadata": {},
     "output_type": "display_data"
    }
   ],
   "source": [
    "import matplotlib.pyplot as plt\n",
    "\n",
    "idf_vals = idfs.map(lambda (k,v): v).collect()\n",
    "fig = plt.figure(figsize=(8,3))\n",
    "thePlot = plt.hist(idf_vals, bins=50, log=True)\n",
    "fig.suptitle(\"IDF Histogram\", fontsize=20)"
   ]
  },
  {
   "cell_type": "markdown",
   "metadata": {},
   "source": [
    "## Now that we have IDF and TF functions, the next step is to calculate the tf-idf of a token\n",
    "\n",
    "## this function will need to take in an idfs dictionary, so it is best to broadcast the idf dictionary"
   ]
  },
  {
   "cell_type": "code",
   "execution_count": 39,
   "metadata": {
    "collapsed": false
   },
   "outputs": [],
   "source": [
    "idfs_broadcast = sc.broadcast(idfs.collectAsMap())"
   ]
  },
  {
   "cell_type": "code",
   "execution_count": 40,
   "metadata": {
    "collapsed": true
   },
   "outputs": [],
   "source": [
    "def tf_idf(tokens, idfs):\n",
    "    tf_dict = termFrequency(tokens)\n",
    "    return dict(map(lambda (k,v): (k,v*idfs.get(k,0)), tf_dict.items()))\n"
   ]
  },
  {
   "cell_type": "code",
   "execution_count": 41,
   "metadata": {
    "collapsed": false
   },
   "outputs": [
    {
     "name": "stdout",
     "output_type": "stream",
     "text": [
      "testing abt id: 552: it has tokens: {'control': 0.8466783557373855, '33-1/3': 74.93103448275862, 'turntable': 9.366379310344827, 'static': 74.93103448275862, 'pitch': 74.93103448275862, 'tonearm': 74.93103448275862, 'speed': 1.4692359702501692, 'bonded': 74.93103448275862, 'pslx350h': 149.86206896551724, 'servo': 12.488505747126437, 'rpm': 5.763925729442971, '45': 10.704433497536947, 'system': 0.2557373190537837, 'supplied': 24.977011494252874, 'belt': 5.352216748768473, 'diamond': 10.704433497536947, 'cartridge': 1.6651340996168582, 'moving': 74.93103448275862, 'sony': 0.41628352490421455, 'phono': 24.977011494252874, 'stylus': 10.704433497536947, 'drive': 0.7805316091954023, 'magnet': 14.986206896551725, 'balance': 14.986206896551725, 'speeds': 9.366379310344827}\n"
     ]
    }
   ],
   "source": [
    "(test_id,test_tokens) = abtTokenized.take(1)[0]\n",
    "\n",
    "print \"testing abt id: {}: it has tokens: {}\".format(test_id,tf_idf(test_tokens, idfs_broadcast.value))"
   ]
  },
  {
   "cell_type": "markdown",
   "metadata": {},
   "source": [
    "## Next step is to get the cosine similarity between  two different document tokens"
   ]
  },
  {
   "cell_type": "code",
   "execution_count": 42,
   "metadata": {
    "collapsed": true
   },
   "outputs": [],
   "source": [
    "def dot(dict_values_a, dict_values_b):\n",
    "    return sum(map(lambda k: dict_values_a.get(k,0) * dict_values_b.get(k,0), dict_values_a.keys()))\n",
    "\n",
    "def norm(dict_values):\n",
    "    return sum(map(lambda v: v*v, dict_values.values()))**.5\n",
    "\n",
    "def cossim(values_a, values_b):\n",
    "    \"\"\" Calculates the cosine similarity between two set of tokens with their associated weights\n",
    "    Args:\n",
    "        values_a (dict): dict with tokens as keys and weights as values\n",
    "        values_b (dict): dict with tokens as keys and weights as values\n",
    "    Returns:\n",
    "        float: cosine similarity between two records\n",
    "    \"\"\"\n",
    "    return dot(values_a, values_b)/norm(values_a)/norm(values_b)\n",
    "    "
   ]
  },
  {
   "cell_type": "code",
   "execution_count": 43,
   "metadata": {
    "collapsed": false
   },
   "outputs": [
    {
     "data": {
      "text/plain": [
       "{'10/100': 9.551648351648351,\n",
       " '100basetx': 31.04285714285714,\n",
       " '100mbps': 62.08571428571428,\n",
       " '10baset': 31.04285714285714,\n",
       " '10mbps': 62.08571428571428,\n",
       " '200mbps': 15.52142857142857,\n",
       " '20mbps': 62.08571428571428,\n",
       " '5': 0.45989417989417986,\n",
       " '5-port': 41.39047619047619,\n",
       " 'auto-sensing': 124.17142857142856,\n",
       " 'autosensing': 20.695238095238096,\n",
       " 'duplex': 6.898412698412699,\n",
       " 'etherfast10/100': 124.17142857142856,\n",
       " 'ezxs55w': 62.08571428571428,\n",
       " 'full': 0.5446115288220552,\n",
       " 'half': 15.52142857142857,\n",
       " 'hardware': 6.898412698412699,\n",
       " 'integrating': 62.08571428571428,\n",
       " 'linksys': 3.1042857142857145,\n",
       " 'modes': 2.002764976958525,\n",
       " 'network': 1.8813852813852812,\n",
       " 'perfect': 8.869387755102041,\n",
       " 'port': 1.7246031746031747,\n",
       " 'ports': 6.535338345864662,\n",
       " 'run': 20.695238095238096,\n",
       " 'switch': 2.956462585034014,\n",
       " 'switched': 20.695238095238096}"
      ]
     },
     "execution_count": 43,
     "metadata": {},
     "output_type": "execute_result"
    }
   ],
   "source": [
    "abt_sample_id,buy_sample_id = parsed_gold_rdd.take(2)[1]\n",
    "sample_record_abt = abtTokenized.filter(lambda t: t[0] == abt_sample_id).map(lambda (k,v): tf_idf(v, idfs_broadcast.value)).collect()[0]\n",
    "sample_record_buy = buyTokenized.filter(lambda t: t[0]== buy_sample_id).map(lambda (k,v): tf_idf(v, idfs_broadcast.value)).collect()[0]\n",
    "sample_record_abt"
   ]
  },
  {
   "cell_type": "code",
   "execution_count": 44,
   "metadata": {
    "collapsed": false
   },
   "outputs": [
    {
     "name": "stdout",
     "output_type": "stream",
     "text": [
      "0.237964471568\n"
     ]
    }
   ],
   "source": [
    "sample_cosim = cossim(sample_record_abt,sample_record_buy )\n",
    "print sample_cosim"
   ]
  },
  {
   "cell_type": "code",
   "execution_count": 45,
   "metadata": {
    "collapsed": false
   },
   "outputs": [],
   "source": [
    "def getCosineSimilarity(string1, string2):\n",
    "    \"\"\"Returns the cosine similarity between two documents.  Broadcast variable is used for idfs\"\"\"\n",
    "    return cossim(tf_idf(tokenize(string1), idfs_broadcast.value), \n",
    "                         tf_idf(tokenize(string2), idfs_broadcast.value))\n"
   ]
  },
  {
   "cell_type": "markdown",
   "metadata": {},
   "source": [
    "## Now we can make a cartesian product of all our records from one data set to another and then see which pairs produce the lowest cosine similarity"
   ]
  },
  {
   "cell_type": "code",
   "execution_count": 46,
   "metadata": {
    "collapsed": false
   },
   "outputs": [],
   "source": [
    "cartStrings = joined_abt_rdd.cartesian(joined_buy_rdd).cache()\n"
   ]
  },
  {
   "cell_type": "code",
   "execution_count": 47,
   "metadata": {
    "collapsed": false
   },
   "outputs": [],
   "source": [
    "def calculateSimilarity(rec):\n",
    "    abt_record = rec[0]\n",
    "    buy_record = rec[1]\n",
    "    \n",
    "    abt_id, abt_string = abt_record\n",
    "    buy_id, buy_string = buy_record\n",
    "    \n",
    "    return (abt_id, buy_id, getCosineSimilarity(abt_string, buy_string))\n",
    "    "
   ]
  },
  {
   "cell_type": "code",
   "execution_count": 48,
   "metadata": {
    "collapsed": false
   },
   "outputs": [
    {
     "data": {
      "text/plain": [
       "PythonRDD[112] at RDD at PythonRDD.scala:43"
      ]
     },
     "execution_count": 48,
     "metadata": {},
     "output_type": "execute_result"
    }
   ],
   "source": [
    "cosineSimilarties = cartStrings.map(calculateSimilarity).cache()\n",
    "cosineSimilarties.cache()"
   ]
  },
  {
   "cell_type": "code",
   "execution_count": 49,
   "metadata": {
    "collapsed": true
   },
   "outputs": [],
   "source": [
    "def getSimilarity(abt_id, buy_id):\n",
    "    return cosineSimilarties.filter(\n",
    "        lambda (a,b,c): a==abt_id and b==buy_id).map(\n",
    "        lambda (a,b,c): c).collect()[0]"
   ]
  },
  {
   "cell_type": "code",
   "execution_count": 50,
   "metadata": {
    "collapsed": false
   },
   "outputs": [
    {
     "name": "stdout",
     "output_type": "stream",
     "text": [
      "[('38477', '10011646'), ('38475', '10140760'), ('33053', '10221960'), ('27248', '10246269'), ('25262', '10315184')]\n"
     ]
    }
   ],
   "source": [
    "print parsed_gold_rdd.take(5)"
   ]
  },
  {
   "cell_type": "markdown",
   "metadata": {
    "collapsed": false
   },
   "source": [
    "## Average cosimilarity between actual duplicates is 0.2098705146493882"
   ]
  },
  {
   "cell_type": "code",
   "execution_count": 51,
   "metadata": {
    "collapsed": false
   },
   "outputs": [
    {
     "data": {
      "text/plain": [
       "PythonRDD[114] at RDD at PythonRDD.scala:43"
      ]
     },
     "execution_count": 51,
     "metadata": {},
     "output_type": "execute_result"
    }
   ],
   "source": [
    "sims = cosineSimilarties.map(lambda args: (\"{} {}\".format(*args[:2]), args[2]))\n",
    "sims.cache()\n"
   ]
  },
  {
   "cell_type": "code",
   "execution_count": 52,
   "metadata": {
    "collapsed": false
   },
   "outputs": [
    {
     "data": {
      "text/plain": [
       "[('38477 10011646', 0)]"
      ]
     },
     "execution_count": 52,
     "metadata": {},
     "output_type": "execute_result"
    }
   ],
   "source": [
    "gold_formatted = parsed_gold_rdd.map(lambda t: (\"{} {}\".format(*t), 0))\n",
    "gold_formatted.take(1)\n"
   ]
  },
  {
   "cell_type": "markdown",
   "metadata": {},
   "source": [
    "## A quick refresher on joins, the output is that keys present in both data sets are in the final set, and the values are a tuple of their original values\n"
   ]
  },
  {
   "cell_type": "code",
   "execution_count": 53,
   "metadata": {
    "collapsed": true
   },
   "outputs": [],
   "source": [
    "a = sc.parallelize(zip(('a', 'b', 'c'), range(3)))\n",
    "b = sc.parallelize([('c', 4)])"
   ]
  },
  {
   "cell_type": "code",
   "execution_count": 54,
   "metadata": {
    "collapsed": false
   },
   "outputs": [
    {
     "data": {
      "text/plain": [
       "[('c', (2, 4))]"
      ]
     },
     "execution_count": 54,
     "metadata": {},
     "output_type": "execute_result"
    }
   ],
   "source": [
    "a.join(b).take(1)"
   ]
  },
  {
   "cell_type": "markdown",
   "metadata": {},
   "source": [
    "## The next few steps show the joining of the duplicates rdd with the similarities rdd along with the antijoin of the duplicates rdd with the similarities rdd (to get the non-duplicates)"
   ]
  },
  {
   "cell_type": "code",
   "execution_count": null,
   "metadata": {
    "collapsed": false
   },
   "outputs": [],
   "source": [
    "trueDups = sims.join(gold_formatted).map(lambda t: (t[0], t[1][0])).cache()\n",
    "trueDups.take(1)"
   ]
  },
  {
   "cell_type": "code",
   "execution_count": null,
   "metadata": {
    "collapsed": false
   },
   "outputs": [],
   "source": [
    "trueDups.map(lambda t: t[1]).mean()"
   ]
  },
  {
   "cell_type": "code",
   "execution_count": null,
   "metadata": {
    "collapsed": false
   },
   "outputs": [],
   "source": [
    "nonDupes = sims.leftOuterJoin(gold_formatted).filter(lambda t: t[1][1] == None).cache()"
   ]
  },
  {
   "cell_type": "code",
   "execution_count": null,
   "metadata": {
    "collapsed": false
   },
   "outputs": [],
   "source": [
    "nonDupes.map(lambda t: t[1][0]).mean()"
   ]
  },
  {
   "cell_type": "markdown",
   "metadata": {},
   "source": [
    "## A good threshold for testing for duplicity is therefore about .20"
   ]
  },
  {
   "cell_type": "markdown",
   "metadata": {
    "collapsed": true
   },
   "source": [
    "# <span style=\"color:blue\">A faster way of entity resolution using distributive computing</span>"
   ]
  },
  {
   "cell_type": "markdown",
   "metadata": {
    "collapsed": true
   },
   "source": [
    "Instead of checking to see if a document contains a token.  A better way to find out which documents are similar is by using an inverse index that uses the tokens as the keys and the values are the documents that contain those tokens.  Now there is no need to search every document to see which are similar.  Just use the inverse index.  \n",
    "\n",
    "By the way, inverse indexes are also called concordances.  They are similar to indexes in the back of most books, however concordances were often used to indicate which text a reader would most likely use in a library.\n",
    "\n"
   ]
  },
  {
   "cell_type": "code",
   "execution_count": null,
   "metadata": {
    "collapsed": false
   },
   "outputs": [],
   "source": [
    "#get the weights of both data sets\n",
    "abtWeights = abtTokenized.mapValues(lambda x: tf_idf(x, idfs_broadcast.value))\n",
    "buyWeights = buyTokenized.mapValues(lambda x: tf_idf(x, idfs_broadcast.value))\n",
    "\n",
    "print abtWeights.count()\n",
    "print buyWeights.count()\n",
    "                                                    "
   ]
  },
  {
   "cell_type": "code",
   "execution_count": null,
   "metadata": {
    "collapsed": false
   },
   "outputs": [],
   "source": [
    "# compute the norms\n",
    "abtNorms = abtWeights.mapValues(norm)\n",
    "buyNorms = buyWeights.mapValues(norm)\n",
    "\n",
    "# broadcast them for later use\n",
    "abtNormsBroadcast, buyNormsBroadcast = map(lambda x: sc.broadcast(x.collectAsMap()), [abtNorms, buyNorms])\n",
    "\n",
    "print abtNorms.take(1)\n",
    "print buyNorms.take(1)"
   ]
  },
  {
   "cell_type": "code",
   "execution_count": null,
   "metadata": {
    "collapsed": false
   },
   "outputs": [],
   "source": []
  },
  {
   "cell_type": "markdown",
   "metadata": {},
   "source": [
    "## Make the inverted indices by inverting the token and id pairs in the weights rdd"
   ]
  },
  {
   "cell_type": "code",
   "execution_count": null,
   "metadata": {
    "collapsed": false
   },
   "outputs": [],
   "source": [
    "def invert(record):\n",
    "    id = record[0]\n",
    "    return map(lambda t: (t,id), record[1])"
   ]
  },
  {
   "cell_type": "code",
   "execution_count": null,
   "metadata": {
    "collapsed": false
   },
   "outputs": [],
   "source": [
    "abtInv = abtWeights.flatMap(invert).cache()\n",
    "buyInv = buyWeights.flatMap(invert).cache()"
   ]
  },
  {
   "cell_type": "code",
   "execution_count": null,
   "metadata": {
    "collapsed": false,
    "scrolled": true
   },
   "outputs": [],
   "source": [
    "abtInv.take(1)"
   ]
  },
  {
   "cell_type": "code",
   "execution_count": null,
   "metadata": {
    "collapsed": false
   },
   "outputs": [],
   "source": [
    "# join the two data sets\n",
    "common_tokens = (abtInv.join(buyInv).map(lambda record: (record[1], record[0]))\n",
    "        .reduceByKey(lambda token1, token2: token1+' '+token2).mapValues(lambda x: x.split())).cache()"
   ]
  },
  {
   "cell_type": "code",
   "execution_count": null,
   "metadata": {
    "collapsed": false
   },
   "outputs": [],
   "source": [
    "common_tokens.take(10)"
   ]
  },
  {
   "cell_type": "markdown",
   "metadata": {},
   "source": [
    "## Now compute the cosine similarity...again"
   ]
  },
  {
   "cell_type": "code",
   "execution_count": null,
   "metadata": {
    "collapsed": true
   },
   "outputs": [],
   "source": [
    "abtWeightsBroadcast = sc.broadcast(abtWeights.collectAsMap())\n",
    "buyWeightsBroadcast = sc.broadcast(buyWeights.collectAsMap())\n",
    "def invCosineSimilarties(record):\n",
    "    abt_id = record[0][0]\n",
    "    buy_id = record[0][1]\n",
    "    \n",
    "    abt_rec = abtWeightsBroadcast.value.get(abt_id)\n",
    "    buy_rec = buyWeightsBroadcast.value.get(buy_id)\n",
    "    \n",
    "    common_tokens = record[1]\n",
    "    tokens_sum = sum(map(lambda t: abt_rec.get(t)*buy_rec.get(t), common_tokens ))\n",
    "    \n",
    "    rv = tokens_sum / abtNormsBroadcast.value.get(abt_id)/ buyNormsBroadcast.value.get(buy_id)\n",
    "    \n",
    "    key = abt_id, buy_id\n",
    "    \n",
    "    return (key, rv)\n",
    "    "
   ]
  },
  {
   "cell_type": "code",
   "execution_count": null,
   "metadata": {
    "collapsed": true
   },
   "outputs": [],
   "source": [
    "similaritiesRdd = (common_tokens.map(invCosineSimilarties).cache())"
   ]
  },
  {
   "cell_type": "code",
   "execution_count": null,
   "metadata": {
    "collapsed": false
   },
   "outputs": [],
   "source": [
    "similaritiesRdd.map(lambda (k,v): v).mean()"
   ]
  },
  {
   "cell_type": "markdown",
   "metadata": {
    "collapsed": true
   },
   "source": [
    "<hr>\n",
    "# Evaluation\n",
    "<hr>"
   ]
  },
  {
   "cell_type": "markdown",
   "metadata": {},
   "source": [
    "#### Now that we have a method of comparing document similarities it's time to evaluate how our model performs.  To start, as before, pick a threshold cosine value to delineate duplicate vs non-duplicate.  Earlier we found that .20 may be a good threshold, but now we will just go through a space of possible threshold values and see which threshold value performs the best.\n",
    "\n",
    "#### In entity resolution, the effectiveness of a method is measured by three attributes: recall, precision, and F statistic.\n",
    "\n",
    "#### precision is the number of entries that we labeled as true that were true divided by the number of entries that we said were true and are true plus the number of entries that we erroneously classified as true\n",
    "\n",
    "#### recall is the number of entries we labeled as true that were actually true divided by the number of entries that we said that were actually true plus the number of entries that were true but we labeled as negative\n",
    "\n",
    "#### precision: $\\frac{tp}{tp + fp}$\n",
    "\n",
    "#### recall:  $\\frac{tp}{tp + fn}$\n",
    "\n",
    "#### f1 statistic: $2\\frac{\\text{precision}*\\text{recall}}{\\text{precision}+\\text{recall}}$\n",
    "\n",
    "\n",
    "<img src=\"https://upload.wikimedia.org/wikipedia/commons/2/26/Precisionrecall.svg\">\n",
    "\n",
    "<a href=\"https://commons.wikimedia.org/wiki/File:Precisionrecall.svg#/media/File:Precisionrecall.svg\">Precisionrecall</a>\" by <a href=\"//commons.wikimedia.org/wiki/User:Walber\" title=\"User:Walber\">Walber</a> - <span class=\"int-own-work\" lang=\"en\">Own work</span>. Licensed under <a href=\"http://creativecommons.org/licenses/by-sa/4.0\" title=\"Creative Commons Attribution-Share Alike 4.0\">CC BY-SA 4.0</a> via <a href=\"https://commons.wikimedia.org/wiki/\">Commons</a>."
   ]
  },
  {
   "cell_type": "code",
   "execution_count": 72,
   "metadata": {
    "collapsed": false
   },
   "outputs": [],
   "source": [
    "# first create the similarities rdd with the key as a joined string of the two ids\n",
    "simRDD = similaritiesRdd.map(lambda (x,y): ((\" \").join(x), y))\n",
    "\n",
    "simValues = simRDD.map(lambda x: x[1]).cache()"
   ]
  },
  {
   "cell_type": "code",
   "execution_count": 73,
   "metadata": {
    "collapsed": false
   },
   "outputs": [
    {
     "data": {
      "text/plain": [
       "[2.3619486845819208e-05,\n",
       " 4.087265674957665e-06,\n",
       " 0.012599920137237831,\n",
       " 0.00040561887369464935,\n",
       " 0.00010763451035335205]"
      ]
     },
     "execution_count": 73,
     "metadata": {},
     "output_type": "execute_result"
    }
   ],
   "source": [
    "simValues.take(5)"
   ]
  },
  {
   "cell_type": "markdown",
   "metadata": {},
   "source": [
    "## Next we join the gold standard rdd"
   ]
  },
  {
   "cell_type": "code",
   "execution_count": 75,
   "metadata": {
    "collapsed": false
   },
   "outputs": [],
   "source": [
    "def getGoldStandardValue(record):\n",
    "    return record[1][1] if record[1][1] else 0\n",
    "\n",
    "trueDupsSimRDD = (gold_formatted.leftOuterJoin(simRDD).map(getGoldStandardValue).cache())"
   ]
  },
  {
   "cell_type": "markdown",
   "metadata": {},
   "source": [
    "## The next step is to implement a threshold testing facility by using spark accumulators.  \n",
    "\n",
    "## For reference, spark accumulators are used to keep track of events inside transformations.  They are typically used with ints but can be user defined by inheriting from AccumulatorParam. The user must override the zero and addInPlace methods. Accumulator behavior can be unpredictable if used improperly or tasks are reran"
   ]
  },
  {
   "cell_type": "code",
   "execution_count": 79,
   "metadata": {
    "collapsed": false
   },
   "outputs": [],
   "source": [
    "## this part is directly from the CS100 lab since I couldn't decipher what was going on\n",
    "\n",
    "from pyspark.accumulators import AccumulatorParam\n",
    "\n",
    "\n",
    "class VectorAccumulatorParam(AccumulatorParam):\n",
    "    \n",
    "    def zero(self, value):\n",
    "        return [0] * len(value)\n",
    "    \n",
    "    def addInPlace(self, val1, val2):\n",
    "        for i in xrange(len(val1)):\n",
    "            val1[i] += val2[i]\n",
    "        return val1\n",
    "\n",
    "def set_bit(x, value, length):\n",
    "    bits = []\n",
    "    for y in xrange(length):\n",
    "        if (x == y):\n",
    "          bits.append(value)\n",
    "        else:\n",
    "          bits.append(0)\n",
    "    return bits\n",
    "\n",
    "\n",
    "BINS = 101\n",
    "nthresholds = 100\n",
    "\n",
    "zeros = [0] * BINS\n",
    "fpCounts = sc.accumulator(zeros, VectorAccumulatorParam())\n",
    "\n",
    "def bin(similarity):\n",
    "    return int(similarity * nthresholds)\n",
    "\n",
    "def add_element(score):\n",
    "    global fpCounts\n",
    "    b = bin(score)\n",
    "    fpCounts += set_bit(b, 1, BINS)\n",
    "\n",
    "\n",
    "simValues.foreach(add_element)\n",
    "\n",
    "# remove true dups from counts\n",
    "def sub_element(score):\n",
    "    global fpCounts\n",
    "    b = bin(score)\n",
    "    fpCounts += set_bit(b, -1, BINS)\n",
    "    \n",
    "trueDupsSimRDD.foreach(sub_element)\n",
    "\n",
    "def falsepos(threshold):\n",
    "    fpList = fpCounts.value\n",
    "    return sum([fpList[b] for b in range(0, BINS) if float(b) / nthresholds >= threshold])\n",
    "\n",
    "def falseneg(threshold):\n",
    "    return trueDupsSimRDD.filter(lambda x: x < threshold).count()\n",
    "\n",
    "def truepos(threshold):\n",
    "    # out of all the duplicates we will remove the ones that we incorrectly labeled\n",
    "    return trueDupsSimRDD.count() - falsenegDict[threshold]"
   ]
  },
  {
   "cell_type": "code",
   "execution_count": 87,
   "metadata": {
    "collapsed": true
   },
   "outputs": [],
   "source": [
    "def precision(threshold):\n",
    "    tp = trueposDict[threshold]\n",
    "    return float(tp)/(tp+falseposDict[threshold])\n",
    "\n",
    "def recall(threshold):\n",
    "    tp = trueposDict[threshold]\n",
    "    return (float(tp)/(tp+falsenegDict[threshold]))\n",
    "\n",
    "def f1(threshold):\n",
    "    recall_ = recall(threshold)\n",
    "    precision_ = precision(threshold)\n",
    "    return (2.0*(recall_*precision_)/(recall_+precision_))\n"
   ]
  },
  {
   "cell_type": "code",
   "execution_count": 88,
   "metadata": {
    "collapsed": true
   },
   "outputs": [],
   "source": [
    "thresholds = [float(n) / nthresholds for n in range(0, nthresholds)]\n",
    "falseposDict = dict([(t, falsepos(t)) for t in thresholds])\n",
    "falsenegDict = dict([(t, falseneg(t)) for t in thresholds])\n",
    "trueposDict = dict([(t, truepos(t)) for t in thresholds])"
   ]
  },
  {
   "cell_type": "code",
   "execution_count": 89,
   "metadata": {
    "collapsed": false
   },
   "outputs": [],
   "source": [
    "precisions = [precision(t) for t in thresholds]\n",
    "recalls = [recall(t) for t in thresholds]\n",
    "fmeasures = [f1(t) for t in thresholds]"
   ]
  },
  {
   "cell_type": "code",
   "execution_count": 90,
   "metadata": {
    "collapsed": false
   },
   "outputs": [
    {
     "data": {
      "image/png": "[encoded data removed]",
      "text/plain": [
       "<matplotlib.figure.Figure at 0xb096580c>"
      ]
     },
     "metadata": {},
     "output_type": "display_data"
    }
   ],
   "source": [
    "fig = plt.figure()\n",
    "plt.plot(thresholds, precisions)\n",
    "plt.plot(thresholds, recalls)\n",
    "plt.plot(thresholds, fmeasures)\n",
    "plt.legend(['Precision', 'Recall', 'F-measure'])\n",
    "pass"
   ]
  },
  {
   "cell_type": "markdown",
   "metadata": {},
   "source": [
    "## Looks like the best threshold is about .10, as before, at about .20 cosine value, we are pretty sure that a duplicate is a duplicate, however at this point the boundaries between duplicity are vague so we leave out a bunch of duplicates and falsely label them."
   ]
  },
  {
   "cell_type": "markdown",
   "metadata": {},
   "source": [
    "# Next steps use nltk or stemming library to performing stemming on the data before performing cosine similarity"
   ]
  },
  {
   "cell_type": "code",
   "execution_count": null,
   "metadata": {
    "collapsed": true
   },
   "outputs": [],
   "source": []
  },
  {
   "cell_type": "code",
   "execution_count": null,
   "metadata": {
    "collapsed": false
   },
   "outputs": [],
   "source": []
  }
 ],
 "metadata": {
  "kernelspec": {
   "display_name": "Python 2",
   "language": "python",
   "name": "python2"
  },
  "language_info": {
   "codemirror_mode": {
    "name": "ipython",
    "version": 2
   },
   "file_extension": ".py",
   "mimetype": "text/x-python",
   "name": "python",
   "nbconvert_exporter": "python",
   "pygments_lexer": "ipython2",
   "version": "2.7.6"
  }
 },
 "nbformat": 4,
 "nbformat_minor": 0
}
