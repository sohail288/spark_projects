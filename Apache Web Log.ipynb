{
 "cells": [
  {
   "cell_type": "markdown",
   "metadata": {},
   "source": [
    "# Myriams Table\n",
    "## Myriams Table has hired you to go through their logs\n",
    "## Your job is to help them understand these three things\n",
    "\n",
    "<h3>\n",
    "    <ol>\n",
    "        <li>Which resource is the most accessed?</li>\n",
    "        <li>Who is the most requester?</li>\n",
    "        <li>If there are 404s occuring, why are they occuring?</li>\n",
    "    </ol>\n",
    "</h3>"
   ]
  },
  {
   "cell_type": "markdown",
   "metadata": {},
   "source": [
    "## as a recap how are apache log files formatted\n",
    "\n",
    ">201.46.34.200 - - [07/Jul/2015:20:42:30 +0400] \"GET /wp-content/themes/MT/images/whbg.png HTTP/1.1\" 200 2983 \"http://myriamstable.com/\" \"Mozilla/5.0 (Windows NT 6.1; WOW64) AppleWebKit/537.36 (KHTML, like Gecko) Chrome/36.0.1985.143 Safari/537.36\"\n",
    "\n"
   ]
  },
  {
   "cell_type": "markdown",
   "metadata": {},
   "source": [
    "## They are formated this way\n",
    "> url_of_requester (unavailable requester id) (unvailable_remote_ident) (date of access) request protocol code size \n",
    "\n",
    "## In addition, you have \n",
    "> root_url ua_string\n",
    " "
   ]
  },
  {
   "cell_type": "code",
   "execution_count": 7,
   "metadata": {
    "collapsed": true
   },
   "outputs": [],
   "source": [
    "url = 'http://myriamstable.com/logs/access.log'"
   ]
  },
  {
   "cell_type": "code",
   "execution_count": 8,
   "metadata": {
    "collapsed": false
   },
   "outputs": [
    {
     "data": {
      "text/plain": [
       "9"
      ]
     },
     "execution_count": 8,
     "metadata": {},
     "output_type": "execute_result"
    }
   ],
   "source": [
    "import re\n",
    "# the regex for the log\n",
    "log_re = re.compile(r\"(?P<request_ip>\\d+\\.\\d+\\.\\d+\\.\\d+)\\s(?P<req_id>\\S+)\\s(?P<remote_id>\\S+)\\s*\\[(?P<date>[^\\]]+)\\]\\s*\\\"(?P<method>\\w+)\\s(?P<url>\\S+)\\s*(?P<protocol>\\S+)\\\"\\s*(?P<response>\\d{3})\\s*(?P<size>\\d+)\")\n",
    "\n",
    "sample_log_entry = '201.46.34.200 - - [07/Jul/2015:20:42:30 +0400] \"GET /wp-content/themes/MT/images/whbg.png HTTP/1.1\" 200 2983 \"http://myriamstable.com/\" \"Mozilla/5.0 (Windows NT 6.1; WOW64) AppleWebKit/537.36 (KHTML, like Gecko) Chrome/36.0.1985.143 Safari/537.36\"'\n",
    "# this can be used like so\n",
    "\n",
    "matches = re.match(log_re, sample_log_entry)\n",
    "\n",
    "len(matches.groupdict())"
   ]
  },
  {
   "cell_type": "markdown",
   "metadata": {},
   "source": [
    "## data can be arranged in rows with the Spark SQL Row object\n",
    "\n",
    "```python\n",
    "row = Row(ip_address = 'ipaddress', date='date', ...)\n",
    "```\n",
    "\n",
    "## so the first step is to do some preliminary cleaning: converting date to python datetime obj\n"
   ]
  },
  {
   "cell_type": "code",
   "execution_count": 9,
   "metadata": {
    "collapsed": false
   },
   "outputs": [
    {
     "data": {
      "text/plain": [
       "datetime.datetime(2015, 7, 7, 20, 42, 30)"
      ]
     },
     "execution_count": 9,
     "metadata": {},
     "output_type": "execute_result"
    }
   ],
   "source": [
    "import datetime\n",
    "\n",
    "month_map = {'Jan': 1, 'Feb': 2, 'Mar':3, 'Apr':4, 'May':5, 'Jun':6, 'Jul':7,\n",
    "    'Aug':8,  'Sep': 9, 'Oct':10, 'Nov': 11, 'Dec': 12}\n",
    "\n",
    "date_re = re.compile(r'(?P<day>\\d{2})/(?P<month>\\w{3})/(?P<year>\\d{4}):(?P<hour>\\d{2}):(?P<minute>\\d{2}):(?P<second>\\d{2})\\s*(?P<tzinfo>\\S+)')\n",
    "date_fmt = \"%d/%b/%Y:%H:%M:%S %z\"\n",
    "\n",
    "\n",
    "def stringToDate(apache_date):\n",
    "    \"\"\" Apache date is of the format  07/Jul/2015:20:42:30 +0400\n",
    "        month must be converted to its numeric value\n",
    "    \"\"\"\n",
    "    match_dict = date_re.match(apache_date).groupdict()\n",
    "    \n",
    "    return datetime.datetime(int(match_dict['year']), int(month_map[match_dict['month']]), int(match_dict['day']), int(match_dict['hour']),\n",
    "                            int(match_dict['minute']), int(match_dict['second']))\n",
    "    \n",
    "stringToDate(matches.groupdict()['date'])"
   ]
  },
  {
   "cell_type": "code",
   "execution_count": 10,
   "metadata": {
    "collapsed": false
   },
   "outputs": [
    {
     "data": {
      "text/plain": [
       "(Row(client_id=None, date_time=datetime.datetime(2015, 7, 7, 20, 42, 30), host='201.46.34.200', method='GET', protocol='HTTP/1.1', response=200, size=2983L, url='/wp-content/themes/MT/images/whbg.png', user_id='-'),\n",
       " 1)"
      ]
     },
     "execution_count": 10,
     "metadata": {},
     "output_type": "execute_result"
    }
   ],
   "source": [
    "# Row\n",
    "from pyspark.sql import Row \n",
    "\n",
    "def parseLogline(logline):\n",
    "    \"\"\" parses apache logline, returns a Row object if successful along with a 1 to indicate success\n",
    "    otherwise returns 0 if failed along with original line\"\"\"\n",
    "    try:\n",
    "        match_dict = log_re.match(logline).groupdict()\n",
    "    except AttributeError:\n",
    "        return (logline, 0)\n",
    "    if match_dict.get(\"size\") == '-':\n",
    "        size = long(0)\n",
    "    else:\n",
    "        size = long(match_dict.get(\"size\"))\n",
    "    \n",
    "    return (Row(\n",
    "        host=match_dict.get(\"request_ip\"),\n",
    "        client_id = match_dict.get(\"request_id\"),\n",
    "        user_id = match_dict.get(\"remote_id\"),\n",
    "        date_time = stringToDate(match_dict.get(\"date\")),\n",
    "        method = match_dict.get(\"method\"),\n",
    "        url = match_dict.get('url'),\n",
    "        protocol = match_dict.get('protocol'),\n",
    "        response = int(match_dict.get('response')),\n",
    "        size = size\n",
    "        ),1)\n",
    "    \n",
    "parseLogline(sample_log_entry)"
   ]
  },
  {
   "cell_type": "markdown",
   "metadata": {},
   "source": [
    "## time to batch process the logs\n",
    "\n",
    "## we will return two rdds, success, and failures"
   ]
  },
  {
   "cell_type": "code",
   "execution_count": null,
   "metadata": {
    "collapsed": false
   },
   "outputs": [],
   "source": [
    "import urllib\n",
    "\n",
    "def processLogs():\n",
    "    lines = map(lambda l: l.strip(), urllib.urlopen(url).readlines())\n",
    "    \n",
    "    print(\"Here is what the lines look like: \")\n",
    "    for l in lines[:10]:\n",
    "        print l\n",
    "    linesRDD = sc.parallelize(lines).map(parseLogline).cache()\n",
    "    \n",
    "    failures = linesRDD.filter(lambda (l,code): code==0)\n",
    "    successes = linesRDD.filter(lambda (l, code): code==1)\n",
    "    \n",
    "    return successes, failures\n",
    "\n",
    "successes, failures = processLogs()\n",
    "    "
   ]
  },
  {
   "cell_type": "code",
   "execution_count": null,
   "metadata": {
    "collapsed": false
   },
   "outputs": [],
   "source": [
    "successes.take(20)"
   ]
  },
  {
   "cell_type": "code",
   "execution_count": null,
   "metadata": {
    "collapsed": false
   },
   "outputs": [],
   "source": [
    "print(\"The number of failures: \")\n",
    "failures.count()\n",
    "\n",
    "for i in failures.collect():\n",
    "    print i"
   ]
  },
  {
   "cell_type": "markdown",
   "metadata": {},
   "source": [
    "## The failed logs seem to be the result of someone trying to hack the site"
   ]
  },
  {
   "cell_type": "markdown",
   "metadata": {},
   "source": [
    "## anyhow, time for some statistics\n"
   ]
  },
  {
   "cell_type": "code",
   "execution_count": 57,
   "metadata": {
    "collapsed": true
   },
   "outputs": [],
   "source": [
    "successes = successes.map(lambda (r,v):r).cache()"
   ]
  },
  {
   "cell_type": "markdown",
   "metadata": {},
   "source": [
    "## Which resource is the most accessed"
   ]
  },
  {
   "cell_type": "code",
   "execution_count": 59,
   "metadata": {
    "collapsed": true
   },
   "outputs": [],
   "source": [
    "resources_counts = successes.map(lambda r: (r.url,1)).reduceByKey(lambda x,y:x+y)"
   ]
  },
  {
   "cell_type": "code",
   "execution_count": 64,
   "metadata": {
    "collapsed": false
   },
   "outputs": [
    {
     "data": {
      "text/plain": [
       "[('/wp-login.php', 434732),\n",
       " ('/', 33573),\n",
       " ('/xmlrpc.php', 29449),\n",
       " ('/wp-admin/admin-ajax.php', 15128),\n",
       " ('/wp-content/themes/MT/', 12394),\n",
       " ('/robots.txt', 8860),\n",
       " ('/wp-includes/js/jquery/jquery.js?ver=1.8.3', 4194),\n",
       " ('/wp-content/themes/MT/style.css', 3859),\n",
       " ('/wp-content/themes/MT/js/jqModal.css', 3781),\n",
       " ('/wp-content/themes/MT/styles/gold.css', 3764),\n",
       " ('/wp-content/themes/MT/styles/brown.css', 3753),\n",
       " ('/wp-content/themes/MT/js/cookie.js', 3468),\n",
       " ('/wp-content/themes/MT/js/jquery.jcarousel.min.js', 3460),\n",
       " ('/wp-content/themes/MT/js/jqModal.js', 3431),\n",
       " ('/wp-content/themes/MT/js/custom.js', 3385),\n",
       " ('/wp-content/uploads/2013/06/farmtotable-1240x390.png', 3330),\n",
       " ('//wp-login.php', 3025),\n",
       " ('/wp-content/themes/MT/styles/brown/bigdoth.png', 2934),\n",
       " ('/wp-content/themes/MT/styles/gold/nextdot.png', 2923),\n",
       " ('/wp-content/themes/MT/styles/gold/prevdot.png', 2918),\n",
       " ('/wp-content/uploads/2013/06/localcatering-1240x390.png', 2898),\n",
       " ('/wp-content/uploads/2013/06/organiccatering-150x150.png', 2888),\n",
       " ('/wp-content/uploads/2013/06/localcatering-150x150.png', 2876),\n",
       " ('/wp-content/uploads/2013/06/farmtotable-150x150.png', 2860),\n",
       " ('/wp-content/themes/MT/images/ajax-loader.gif', 2750),\n",
       " ('/wp-content/themes/MT/styles/brown/bg-tile.png', 2728),\n",
       " ('/wp-content/themes/MT/images/goleft.png', 2717),\n",
       " ('/wp-content/themes/MT/images/goright.png', 2700),\n",
       " ('/wp-content/themes/MT/images/whbg.png', 2685),\n",
       " ('/wp-content/uploads/2013/06/breakfast-254x182.png', 2678),\n",
       " ('/?feed=rss2', 2671),\n",
       " ('/wp-content/uploads/2013/04/lunch-254x182.png', 2642),\n",
       " ('/wp-content/uploads/2013/06/smallplates-254x182.png', 2633),\n",
       " ('/wp-content/uploads/2013/06/tea-254x182.png', 2625),\n",
       " ('/wp-content/uploads/2013/06/vegetarian-254x182.png', 2615),\n",
       " ('/wp-content/uploads/2013/06/salads-254x182.png', 2606),\n",
       " ('/wp-content/uploads/2013/03/dessert-254x182.png', 2603),\n",
       " ('/wp-content/uploads/2013/06/picnic-254x182.png', 2600),\n",
       " ('/wp-content/uploads/2013/05/maincourse-254x182.png', 2585),\n",
       " ('/wp-content/themes/MT/images/galclose.png', 2585),\n",
       " ('/wp-content/uploads/2013/01/appetizers-254x182.png', 2565),\n",
       " ('/favicon.ico', 2543),\n",
       " ('/wp-content/themes/MT/styles/brown/imgblock.png', 2525),\n",
       " ('/wp-content/themes/MT/images/clear.png', 2524),\n",
       " ('/?menu_categories=menus', 2477),\n",
       " ('/wp-content/themes/MT/images/goverlay.png', 2420),\n",
       " ('/wp-content/themes/MT/images/nexter.png', 2387),\n",
       " ('/wp-content/themes/MT/images/prevver.png', 2386),\n",
       " ('/wp-content/themes/MT/styles/brown/blackbox.png', 2337),\n",
       " ('/wp-includes/js/comment-reply.min.js?ver=3.5.2', 2222),\n",
       " ('/wp-content/themes/MT/styles/gold/bigdot.png', 2170),\n",
       " ('/wp-content/themes/MT/styles/brown/prevdot.png', 2169),\n",
       " ('/wp-content/themes/MT/styles/brown/nextdot.png', 2165),\n",
       " ('/wp-content/uploads/2013/06/organiccatering-1240x390.png', 2124),\n",
       " ('/wp-admin/admin-ajax.php?action=wordfence_testAjax', 2042),\n",
       " ('/?page_id=8', 2035),\n",
       " ('/wp-content/elomone.html', 1707),\n",
       " ('/wp-content/themes/MT/styles/brown/winnerbg.png', 1589),\n",
       " ('/?p=190', 1329),\n",
       " ('/?page_id=21', 1286),\n",
       " ('/?p=7', 1275),\n",
       " ('/?page_id=16', 1246),\n",
       " ('/?page_id=79', 1140),\n",
       " ('/?p=32', 1091),\n",
       " ('/wp-content/themes/MT/images/links.png', 1063),\n",
       " ('/wp-login.php/wp-login.php', 1004),\n",
       " ('/wp-content/themes/MT/images/clear2.png', 997),\n",
       " ('/logs/access.log', 966),\n",
       " ('http://myriamstable.com/wp-login.php/', 933),\n",
       " ('/?menus=main-course', 876),\n",
       " ('/?menus=appetizers-finger-foods', 777),\n",
       " ('/?menus=breakfast-brunch', 766),\n",
       " ('/?feed=comments-rss2', 702),\n",
       " ('/?author=2', 591),\n",
       " ('/?author=1', 580),\n",
       " ('/?menus=lunch', 579),\n",
       " ('/?menus=sides-salads', 541),\n",
       " ('/?menus=small-plates', 540),\n",
       " ('/?menus=vegetarian-options', 539),\n",
       " ('/?menus=teas-beverages', 530),\n",
       " ('/?menus=desserts', 510),\n",
       " ('/wp-admin/', 476),\n",
       " ('/?menus=picnic', 473),\n",
       " ('/wp-comments-post.php', 401),\n",
       " ('/wp-login.php?redirect_to=http%3A%2F%2Fmyriamstable.com%2Fwp-admin%2F&reauth=1',\n",
       "  377),\n",
       " ('/wp-content/themes/MT/styles/brown/xcross.png', 368),\n",
       " ('/?cat=1', 360),\n",
       " ('/?m=201010', 347),\n",
       " ('/wp-content/themes/MT/images/loading.gif', 310),\n",
       " ('/?page_id=200', 292),\n",
       " ('/wp-admin/admin-ajax.php?action=revslider_show_image&img=../wp-config.php',\n",
       "  203),\n",
       " ('/wp-content/404.php', 202),\n",
       " ('http://myriamstable.com/wp-login.php', 192),\n",
       " ('/wp-content/themes/MT/images/clear3.png', 173),\n",
       " ('/wp-login.php?action=register', 161),\n",
       " ('/?author=3', 155),\n",
       " ('/wp-login.php?registration=disabled', 154),\n",
       " ('/logs/', 152),\n",
       " ('/?author=4', 145),\n",
       " ('/logs/xmlrpc.php', 138)]"
      ]
     },
     "execution_count": 64,
     "metadata": {},
     "output_type": "execute_result"
    }
   ],
   "source": [
    "resources_counts.takeOrdered(100, lambda (k,v): -1*v)"
   ]
  },
  {
   "cell_type": "markdown",
   "metadata": {},
   "source": [
    "## the most accessed resources include the login page with stylistic resources.  \n",
    "## the first non-trivial resources are the\n",
    ">  ('/?page_id=8', 2035),\n",
    " ('/wp-content/elomone.html', 1707),\n",
    " \n",
    "## resources"
   ]
  },
  {
   "cell_type": "markdown",
   "metadata": {},
   "source": [
    "## the most requester"
   ]
  },
  {
   "cell_type": "code",
   "execution_count": null,
   "metadata": {
    "collapsed": false
   },
   "outputs": [],
   "source": [
    "\n",
    "requesters = successes.map(lambda r: (r.host, 1)).reduceByKey(lambda x,y: x+y)\n",
    "requesters.takeOrdered(10, lambda (k,v): -1*v)"
   ]
  },
  {
   "cell_type": "markdown",
   "metadata": {},
   "source": [
    "## Response Codes\n",
    "### see what types of responses the users are getting\n"
   ]
  },
  {
   "cell_type": "code",
   "execution_count": 71,
   "metadata": {
    "collapsed": true
   },
   "outputs": [],
   "source": [
    "response_codes = successes.map(lambda r: (r.response, 1)).reduceByKey(lambda x,y: x+y).cache()"
   ]
  },
  {
   "cell_type": "code",
   "execution_count": 72,
   "metadata": {
    "collapsed": false
   },
   "outputs": [
    {
     "data": {
      "text/plain": [
       "[(417, 1),\n",
       " (200, 700579),\n",
       " (301, 7248),\n",
       " (302, 1217),\n",
       " (304, 8755),\n",
       " (400, 11),\n",
       " (401, 1),\n",
       " (403, 37),\n",
       " (404, 33975),\n",
       " (206, 1398),\n",
       " (500, 12744),\n",
       " (413, 1),\n",
       " (405, 26)]"
      ]
     },
     "execution_count": 72,
     "metadata": {},
     "output_type": "execute_result"
    }
   ],
   "source": [
    "response_codes.collect()"
   ]
  },
  {
   "cell_type": "markdown",
   "metadata": {},
   "source": [
    "## looks good mostly getting 200s\n",
    "## let's see the distribution of them with a pie chart"
   ]
  },
  {
   "cell_type": "code",
   "execution_count": 74,
   "metadata": {
    "collapsed": true
   },
   "outputs": [],
   "source": [
    "labels = response_codes.map(lambda (code, count): code).collect()\n",
    "total_count = successes.count()\n",
    "proportions = response_codes.map(lambda (code, count): float(count)/total_count).collect()\n"
   ]
  },
  {
   "cell_type": "code",
   "execution_count": 76,
   "metadata": {
    "collapsed": false
   },
   "outputs": [
    {
     "data": {
      "text/plain": [
       "([417, 200, 301, 302, 304, 400, 401, 403, 404, 206, 500, 413, 405],\n",
       " [1.3054949588312165e-06,\n",
       "  0.9146023527630148,\n",
       "  0.009462227461608658,\n",
       "  0.0015887873648975904,\n",
       "  0.0114296083645673,\n",
       "  1.4360444547143381e-05,\n",
       "  1.3054949588312165e-06,\n",
       "  4.830331347675501e-05,\n",
       "  0.04435419122629058,\n",
       "  0.0018250819524460405,\n",
       "  0.016637227755345024,\n",
       "  1.3054949588312165e-06,\n",
       "  3.394286892961163e-05])"
      ]
     },
     "execution_count": 76,
     "metadata": {},
     "output_type": "execute_result"
    }
   ],
   "source": [
    "labels, proportions"
   ]
  },
  {
   "cell_type": "code",
   "execution_count": 103,
   "metadata": {
    "collapsed": false
   },
   "outputs": [
    {
     "name": "stdout",
     "output_type": "stream",
     "text": [
      "[417, 200, 301, 302, 304, 400, 401, 403, 404, 206, 500, 413, 405]\n",
      "13\n"
     ]
    },
    {
     "data": {
      "text/plain": [
       "(-1.0067678620009572,\n",
       " 1.988420259492764,\n",
       " -1.0042554681491873,\n",
       " 1.0070709851587858)"
      ]
     },
     "execution_count": 103,
     "metadata": {},
     "output_type": "execute_result"
    },
    {
     "data": {
      "image/png": "[encoded data removed]",
      "text/plain": [
       "<matplotlib.figure.Figure at 0xb0e5556c>"
      ]
     },
     "metadata": {},
     "output_type": "display_data"
    }
   ],
   "source": [
    "import matplotlib.pyplot as plt\n",
    "colors = ['red', 'lightskyblue', 'gold', 'purple', 'lightcoral', 'yellow', 'black','orange', 'green', 'pink', 'blue',\n",
    "         'aqua', 'darkgreen']\n",
    "print labels\n",
    "def fixPercent(percent):\n",
    "    return \"%.2f\"\n",
    "\n",
    "explode = [.2, 0, 0, 0, 0, 0, .4, .5, .5, 1,0, 0, 0]\n",
    "print len(explode)\n",
    "plt.pie(proportions, labels = labels, colors=colors, explode= explode)\n",
    "plt.axis('equal')"
   ]
  },
  {
   "cell_type": "markdown",
   "metadata": {},
   "source": [
    "## Further analysis, temporal analysis"
   ]
  }
 ],
 "metadata": {
  "kernelspec": {
   "display_name": "Python 2",
   "language": "python",
   "name": "python2"
  },
  "language_info": {
   "codemirror_mode": {
    "name": "ipython",
    "version": 2
   },
   "file_extension": ".py",
   "mimetype": "text/x-python",
   "name": "python",
   "nbconvert_exporter": "python",
   "pygments_lexer": "ipython2",
   "version": "2.7.6"
  }
 },
 "nbformat": 4,
 "nbformat_minor": 0
}
