{
 "cells": [
  {
   "cell_type": "markdown",
   "metadata": {},
   "source": [
    "# Myriams Table"
   ]
  },
  {
   "cell_type": "code",
   "execution_count": 3,
   "metadata": {
    "collapsed": false
   },
   "outputs": [
    {
     "data": {
      "text/html": [
       "\n",
       "        <iframe\n",
       "            width=\"600\"\n",
       "            height=\"480\"\n",
       "            src=\"http://myriamstable.com/\"\n",
       "            frameborder=\"0\"\n",
       "            allowfullscreen\n",
       "        ></iframe>\n",
       "        "
      ],
      "text/plain": [
       "<IPython.lib.display.IFrame at 0xb156242c>"
      ]
     },
     "execution_count": 3,
     "metadata": {},
     "output_type": "execute_result"
    }
   ],
   "source": [
    "from IPython.lib.display import IFrame\n",
    "IFrame(\"http://myriamstable.com/\", 600, 480)"
   ]
  },
  {
   "cell_type": "markdown",
   "metadata": {},
   "source": [
    "## Myriams Table has hired you to go through their logs\n",
    "## Your job is to help them understand these three things"
   ]
  },
  {
   "cell_type": "markdown",
   "metadata": {},
   "source": [
    "<h3>\n",
    "    <ol>\n",
    "        <li>Which resource is the most accessed?</li>\n",
    "        <li>Who is the most requester?</li>\n",
    "        <li>If there are 404s occuring, why are they occuring?</li>\n",
    "    </ol>\n",
    "</h3>"
   ]
  },
  {
   "cell_type": "markdown",
   "metadata": {},
   "source": [
    "as a recap, this is how apache log files appear\n",
    "\n",
    ">201.46.34.200 - - [07/Jul/2015:20:42:30 +0400] \"GET /wp-content/themes/MT/images/whbg.png HTTP/1.1\" 200 2983 \"http://myriamstable.com/\" \"Mozilla/5.0 (Windows NT 6.1; WOW64) AppleWebKit/537.36 (KHTML, like Gecko) Chrome/36.0.1985.143 Safari/537.36\"\n",
    "\n"
   ]
  },
  {
   "cell_type": "markdown",
   "metadata": {},
   "source": [
    "essentially they follow this format\n",
    "> url_of_requester (unavailable requester id) (unvailable_remote_ident) (date of access) request protocol code size \n",
    "\n",
    "> root_url ua_string\n",
    " "
   ]
  },
  {
   "cell_type": "code",
   "execution_count": 8,
   "metadata": {
    "collapsed": true
   },
   "outputs": [],
   "source": [
    "URL = 'http://myriamstable.com/logs/access.log'"
   ]
  },
  {
   "cell_type": "code",
   "execution_count": 9,
   "metadata": {
    "collapsed": false
   },
   "outputs": [
    {
     "data": {
      "text/plain": [
       "9"
      ]
     },
     "execution_count": 9,
     "metadata": {},
     "output_type": "execute_result"
    }
   ],
   "source": [
    "import re\n",
    "# the regex for the log\n",
    "log_re = re.compile(r\"(?P<request_ip>\\d+\\.\\d+\\.\\d+\\.\\d+)\\s(?P<req_id>\\S+)\\s(?P<remote_id>\\S+)\\s*\\[(?P<date>[^\\]]+)\\]\\s*\\\"(?P<method>\\w+)\\s(?P<url>\\S+)\\s*(?P<protocol>\\S+)\\\"\\s*(?P<response>\\d{3})\\s*(?P<size>\\d+)\")\n",
    "\n",
    "sample_log_entry = '201.46.34.200 - - [07/Jul/2015:20:42:30 +0400] \"GET /wp-content/themes/MT/images/whbg.png HTTP/1.1\" 200 2983 \"http://myriamstable.com/\" \"Mozilla/5.0 (Windows NT 6.1; WOW64) AppleWebKit/537.36 (KHTML, like Gecko) Chrome/36.0.1985.143 Safari/537.36\"'\n",
    "# this can be used like so\n",
    "\n",
    "matches = re.match(log_re, sample_log_entry)\n",
    "\n",
    "len(matches.groupdict())"
   ]
  },
  {
   "cell_type": "markdown",
   "metadata": {},
   "source": [
    " data can be arranged in rows with the Spark SQL Row object\n",
    "\n",
    "```python\n",
    "row = Row(ip_address = 'ipaddress', date='date', ...)\n",
    "```\n",
    "\n",
    " so the first step is to do some preliminary cleaning: converting date to python datetime obj\n"
   ]
  },
  {
   "cell_type": "code",
   "execution_count": 39,
   "metadata": {
    "collapsed": false
   },
   "outputs": [
    {
     "data": {
      "text/plain": [
       "datetime.datetime(2015, 7, 7, 20, 42, 30)"
      ]
     },
     "execution_count": 39,
     "metadata": {},
     "output_type": "execute_result"
    }
   ],
   "source": [
    "import datetime\n",
    "\n",
    "month_map = {'Jan': 1, 'Feb': 2, 'Mar':3, 'Apr':4, 'May':5, 'Jun':6, 'Jul':7,\n",
    "    'Aug':8,  'Sep': 9, 'Oct':10, 'Nov': 11, 'Dec': 12}\n",
    "\n",
    "date_re = re.compile(r'(?P<day>\\d{2})/(?P<month>\\w{3})/(?P<year>\\d{4}):(?P<hour>\\d{2}):(?P<minute>\\d{2}):(?P<second>\\d{2})\\s*(?P<tzinfo>\\S+)')\n",
    "date_fmt = \"%d/%b/%Y:%H:%M:%S %z\"\n",
    "\n",
    "\n",
    "def stringToDate(apache_date):\n",
    "    \"\"\" Apache date is of the format  07/Jul/2015:20:42:30 +0400\n",
    "        month must be converted to its numeric value\n",
    "    \"\"\"\n",
    "    match_dict = date_re.match(apache_date).groupdict()\n",
    "    \n",
    "    return datetime.datetime(int(match_dict['year']), int(month_map[match_dict['month']]), int(match_dict['day']), \n",
    "                             int(match_dict['hour']), int(match_dict['minute']), int(match_dict['second']))\n",
    "    \n",
    "stringToDate(matches.groupdict()['date'])"
   ]
  },
  {
   "cell_type": "code",
   "execution_count": 11,
   "metadata": {
    "collapsed": false
   },
   "outputs": [
    {
     "data": {
      "text/plain": [
       "(Row(client_id=None, date_time=datetime.datetime(2015, 7, 7, 20, 42, 30), host='201.46.34.200', method='GET', protocol='HTTP/1.1', response=200, size=2983L, url='/wp-content/themes/MT/images/whbg.png', user_id='-'),\n",
       " 1)"
      ]
     },
     "execution_count": 11,
     "metadata": {},
     "output_type": "execute_result"
    }
   ],
   "source": [
    "# Row\n",
    "from pyspark.sql import Row \n",
    "\n",
    "def parseLogline(logline):\n",
    "    \"\"\" parses apache logline, returns a Row object if successful along with a 1 to indicate success\n",
    "    otherwise returns 0 if failed along with original line\"\"\"\n",
    "    try:\n",
    "        match_dict = log_re.match(logline).groupdict()\n",
    "    except AttributeError:\n",
    "        return (logline, 0)\n",
    "    if match_dict.get(\"size\") == '-':\n",
    "        size = long(0)\n",
    "    else:\n",
    "        size = long(match_dict.get(\"size\"))\n",
    "    \n",
    "    return (Row(\n",
    "        host=match_dict.get(\"request_ip\"),\n",
    "        client_id = match_dict.get(\"request_id\"),\n",
    "        user_id = match_dict.get(\"remote_id\"),\n",
    "        date_time = stringToDate(match_dict.get(\"date\")),\n",
    "        method = match_dict.get(\"method\"),\n",
    "        url = match_dict.get('url'),\n",
    "        protocol = match_dict.get('protocol'),\n",
    "        response = int(match_dict.get('response')),\n",
    "        size = size\n",
    "        ),1)\n",
    "    \n",
    "parseLogline(sample_log_entry)"
   ]
  },
  {
   "cell_type": "markdown",
   "metadata": {},
   "source": [
    "## time to batch process the logs\n",
    "\n",
    "we will return two rdds, success, and failures"
   ]
  },
  {
   "cell_type": "code",
   "execution_count": 12,
   "metadata": {
    "collapsed": false
   },
   "outputs": [
    {
     "name": "stdout",
     "output_type": "stream",
     "text": [
      "Here is what the lines look like: \n",
      "8.225.212.178 - - [24/Jun/2013:15:17:01 +0400] \"GET / HTTP/1.1\" 500 2097 \"-\" \"Mozilla/5.0 (Windows NT 6.1; WOW64) AppleWebKit/537.36 (KHTML, like Gecko) Chrome/27.0.1453.110 Safari/537.36\"\n",
      "8.225.212.178 - - [24/Jun/2013:15:17:01 +0400] \"GET /favicon.ico HTTP/1.1\" 404 507 \"-\" \"Mozilla/5.0 (Windows NT 6.1; WOW64) AppleWebKit/537.36 (KHTML, like Gecko) Chrome/27.0.1453.110 Safari/537.36\"\n",
      "8.225.212.178 - - [24/Jun/2013:15:17:48 +0400] \"GET /wp-admin/setup-config.php HTTP/1.1\" 200 1066 \"http://myriamstable.com/\" \"Mozilla/5.0 (Windows NT 6.1; WOW64) AppleWebKit/537.36 (KHTML, like Gecko) Chrome/27.0.1453.110 Safari/537.36\"\n",
      "8.225.212.178 - - [24/Jun/2013:15:17:48 +0400] \"GET /wp-admin/css/install.css?ver=3.5.2 HTTP/1.1\" 200 1662 \"http://myriamstable.com/wp-admin/setup-config.php\" \"Mozilla/5.0 (Windows NT 6.1; WOW64) AppleWebKit/537.36 (KHTML, like Gecko) Chrome/27.0.1453.110 Safari/537.36\"\n",
      "8.225.212.178 - - [24/Jun/2013:15:17:48 +0400] \"GET /wp-includes/css/buttons.css?ver=3.5.2 HTTP/1.1\" 200 2179 \"http://myriamstable.com/wp-admin/setup-config.php\" \"Mozilla/5.0 (Windows NT 6.1; WOW64) AppleWebKit/537.36 (KHTML, like Gecko) Chrome/27.0.1453.110 Safari/537.36\"\n",
      "8.225.212.178 - - [24/Jun/2013:15:17:48 +0400] \"GET /wp-admin/images/wordpress-logo.png?ver=20120216 HTTP/1.1\" 200 2774 \"http://myriamstable.com/wp-admin/setup-config.php\" \"Mozilla/5.0 (Windows NT 6.1; WOW64) AppleWebKit/537.36 (KHTML, like Gecko) Chrome/27.0.1453.110 Safari/537.36\"\n",
      "8.225.212.178 - - [24/Jun/2013:15:17:48 +0400] \"GET /favicon.ico HTTP/1.1\" 404 506 \"-\" \"Mozilla/5.0 (Windows NT 6.1; WOW64) AppleWebKit/537.36 (KHTML, like Gecko) Chrome/27.0.1453.110 Safari/537.36\"\n",
      "8.225.212.178 - - [24/Jun/2013:15:19:20 +0400] \"GET /wp-admin/setup-config.php?step=1 HTTP/1.1\" 200 1105 \"http://myriamstable.com/wp-admin/setup-config.php\" \"Mozilla/5.0 (Windows NT 6.1; WOW64) AppleWebKit/537.36 (KHTML, like Gecko) Chrome/27.0.1453.110 Safari/537.36\"\n",
      "8.225.212.178 - - [24/Jun/2013:15:19:20 +0400] \"GET /favicon.ico HTTP/1.1\" 404 506 \"-\" \"Mozilla/5.0 (Windows NT 6.1; WOW64) AppleWebKit/537.36 (KHTML, like Gecko) Chrome/27.0.1453.110 Safari/537.36\"\n",
      "8.225.212.178 - - [24/Jun/2013:15:19:56 +0400] \"POST /wp-admin/setup-config.php?step=2 HTTP/1.1\" 200 2625 \"http://myriamstable.com/wp-admin/setup-config.php?step=1\" \"Mozilla/5.0 (Windows NT 6.1; WOW64) AppleWebKit/537.36 (KHTML, like Gecko) Chrome/27.0.1453.110 Safari/537.36\"\n"
     ]
    }
   ],
   "source": [
    "import urllib\n",
    "\n",
    "def processLogs(log_url=URL):\n",
    "    lines = map(lambda l: l.strip(), urllib.urlopen(log_url).readlines())\n",
    "    \n",
    "    print(\"Here is what the lines look like: \")\n",
    "    for l in lines[:10]:\n",
    "        print l\n",
    "    linesRDD = sc.parallelize(lines).map(parseLogline).cache()\n",
    "    \n",
    "    failures = linesRDD.filter(lambda (l,code): code==0)\n",
    "    successes = linesRDD.filter(lambda (l, code): code==1)\n",
    "    \n",
    "    return successes, failures\n",
    "\n",
    "successes, failures = processLogs()\n",
    "    "
   ]
  },
  {
   "cell_type": "code",
   "execution_count": 13,
   "metadata": {
    "collapsed": false
   },
   "outputs": [
    {
     "data": {
      "text/plain": [
       "[(Row(client_id=None, date_time=datetime.datetime(2013, 6, 24, 15, 17, 1), host='8.225.212.178', method='GET', protocol='HTTP/1.1', response=500, size=2097L, url='/', user_id='-'),\n",
       "  1),\n",
       " (Row(client_id=None, date_time=datetime.datetime(2013, 6, 24, 15, 17, 1), host='8.225.212.178', method='GET', protocol='HTTP/1.1', response=404, size=507L, url='/favicon.ico', user_id='-'),\n",
       "  1),\n",
       " (Row(client_id=None, date_time=datetime.datetime(2013, 6, 24, 15, 17, 48), host='8.225.212.178', method='GET', protocol='HTTP/1.1', response=200, size=1066L, url='/wp-admin/setup-config.php', user_id='-'),\n",
       "  1),\n",
       " (Row(client_id=None, date_time=datetime.datetime(2013, 6, 24, 15, 17, 48), host='8.225.212.178', method='GET', protocol='HTTP/1.1', response=200, size=1662L, url='/wp-admin/css/install.css?ver=3.5.2', user_id='-'),\n",
       "  1),\n",
       " (Row(client_id=None, date_time=datetime.datetime(2013, 6, 24, 15, 17, 48), host='8.225.212.178', method='GET', protocol='HTTP/1.1', response=200, size=2179L, url='/wp-includes/css/buttons.css?ver=3.5.2', user_id='-'),\n",
       "  1),\n",
       " (Row(client_id=None, date_time=datetime.datetime(2013, 6, 24, 15, 17, 48), host='8.225.212.178', method='GET', protocol='HTTP/1.1', response=200, size=2774L, url='/wp-admin/images/wordpress-logo.png?ver=20120216', user_id='-'),\n",
       "  1),\n",
       " (Row(client_id=None, date_time=datetime.datetime(2013, 6, 24, 15, 17, 48), host='8.225.212.178', method='GET', protocol='HTTP/1.1', response=404, size=506L, url='/favicon.ico', user_id='-'),\n",
       "  1),\n",
       " (Row(client_id=None, date_time=datetime.datetime(2013, 6, 24, 15, 19, 20), host='8.225.212.178', method='GET', protocol='HTTP/1.1', response=200, size=1105L, url='/wp-admin/setup-config.php?step=1', user_id='-'),\n",
       "  1),\n",
       " (Row(client_id=None, date_time=datetime.datetime(2013, 6, 24, 15, 19, 20), host='8.225.212.178', method='GET', protocol='HTTP/1.1', response=404, size=506L, url='/favicon.ico', user_id='-'),\n",
       "  1),\n",
       " (Row(client_id=None, date_time=datetime.datetime(2013, 6, 24, 15, 19, 56), host='8.225.212.178', method='POST', protocol='HTTP/1.1', response=200, size=2625L, url='/wp-admin/setup-config.php?step=2', user_id='-'),\n",
       "  1),\n",
       " (Row(client_id=None, date_time=datetime.datetime(2013, 6, 24, 15, 19, 56), host='8.225.212.178', method='GET', protocol='HTTP/1.1', response=404, size=506L, url='/favicon.ico', user_id='-'),\n",
       "  1),\n",
       " (Row(client_id=None, date_time=datetime.datetime(2013, 6, 24, 15, 20, 35), host='8.225.212.178', method='GET', protocol='HTTP/1.1', response=200, size=1803L, url='/wp-admin/install.php', user_id='-'),\n",
       "  1),\n",
       " (Row(client_id=None, date_time=datetime.datetime(2013, 6, 24, 15, 20, 35), host='8.225.212.178', method='GET', protocol='HTTP/1.1', response=200, size=1628L, url='/wp-includes/css/buttons.min.css?ver=3.5.2', user_id='-'),\n",
       "  1),\n",
       " (Row(client_id=None, date_time=datetime.datetime(2013, 6, 24, 15, 20, 36), host='8.225.212.178', method='GET', protocol='HTTP/1.1', response=200, size=1564L, url='/wp-admin/css/install.min.css?ver=3.5.2', user_id='-'),\n",
       "  1),\n",
       " (Row(client_id=None, date_time=datetime.datetime(2013, 6, 24, 15, 20, 36), host='8.225.212.178', method='GET', protocol='HTTP/1.1', response=200, size=591L, url='/wp-admin/js/password-strength-meter.min.js?ver=3.5.2', user_id='-'),\n",
       "  1),\n",
       " (Row(client_id=None, date_time=datetime.datetime(2013, 6, 24, 15, 20, 36), host='8.225.212.178', method='GET', protocol='HTTP/1.1', response=200, size=1004L, url='/wp-admin/js/user-profile.min.js?ver=3.5.2', user_id='-'),\n",
       "  1),\n",
       " (Row(client_id=None, date_time=datetime.datetime(2013, 6, 24, 15, 20, 36), host='8.225.212.178', method='GET', protocol='HTTP/1.1', response=200, size=33802L, url='/wp-includes/js/jquery/jquery.js?ver=1.8.3', user_id='-'),\n",
       "  1),\n",
       " (Row(client_id=None, date_time=datetime.datetime(2013, 6, 24, 15, 20, 36), host='8.225.212.178', method='GET', protocol='HTTP/1.1', response=404, size=506L, url='/favicon.ico', user_id='-'),\n",
       "  1),\n",
       " (Row(client_id=None, date_time=datetime.datetime(2013, 6, 24, 15, 21, 7), host='8.225.212.178', method='POST', protocol='HTTP/1.1', response=200, size=1088L, url='/wp-admin/install.php?step=2', user_id='-'),\n",
       "  1),\n",
       " (Row(client_id=None, date_time=datetime.datetime(2013, 6, 24, 15, 21, 8), host='8.225.212.178', method='GET', protocol='HTTP/1.1', response=404, size=506L, url='/favicon.ico', user_id='-'),\n",
       "  1)]"
      ]
     },
     "execution_count": 13,
     "metadata": {},
     "output_type": "execute_result"
    }
   ],
   "source": [
    "successes.take(20)"
   ]
  },
  {
   "cell_type": "code",
   "execution_count": 14,
   "metadata": {
    "collapsed": false
   },
   "outputs": [
    {
     "name": "stdout",
     "output_type": "stream",
     "text": [
      "The number of failures: \n",
      "('180.42.38.250 - - [09/Oct/2014:20:18:51 +0400] \"GET /?x=() { :; }; echo Content-type:text/plain;echo;echo;echo M`expr 1330 + 7`H;  HTTP/1.0\" 200 22292 \"() { :; }; echo Content-type:text/plain;echo;echo;echo M`expr 1330 + 7`H;\" \"() { :; }; echo Content-type:text/plain;echo;echo;echo M`expr 1330 + 7`H;\"', 0)\n",
      "('184.107.144.146 - - [10/Oct/2014:01:25:04 +0400] \"GET /?x=() { :; }; echo Content-type:text/plain;echo;echo;echo M`expr 1330 + 7`H;  HTTP/1.0\" 200 22292 \"() { :; }; echo Content-type:text/plain;echo;echo;echo M`expr 1330 + 7`H;\" \"() { :; }; echo Content-type:text/plain;echo;echo;echo M`expr 1330 + 7`H;\"', 0)\n",
      "('119.245.205.2 - - [10/Oct/2014:05:46:18 +0400] \"GET /?x=() { :; }; echo Content-type:text/plain;echo;echo;echo M`expr 1330 + 7`H;  HTTP/1.0\" 200 22292 \"() { :; }; echo Content-type:text/plain;echo;echo;echo M`expr 1330 + 7`H;\" \"() { :; }; echo Content-type:text/plain;echo;echo;echo M`expr 1330 + 7`H;\"', 0)\n",
      "('149.210.143.103 - - [10/Oct/2014:10:43:25 +0400] \"GET /?x=() { :; }; echo Content-type:text/plain;echo;echo;echo M`expr 1330 + 7`H;  HTTP/1.0\" 200 22292 \"() { :; }; echo Content-type:text/plain;echo;echo;echo M`expr 1330 + 7`H;\" \"() { :; }; echo Content-type:text/plain;echo;echo;echo M`expr 1330 + 7`H;\"', 0)\n",
      "('31.210.77.94 - - [26/Oct/2014:16:03:03 +0400] \"GET /?x=() { :; }; echo Content-type:text/plain;echo;echo;echo M`expr 1330 + 7`H; uname -a HTTP/1.0\" 200 22292 \"() { :; }; echo Content-type:text/plain;echo;echo;echo M`expr 1330 + 7`H; uname -a\" \"() { :; }; echo Content-type:text/plain;echo;echo;echo M`expr 1330 + 7`H; uname -a\"', 0)\n",
      "('67.215.179.3 - - [27/Oct/2014:01:24:11 +0400] \"GET /?x=() { :; }; echo Content-type:text/plain;echo;echo;echo M`expr 1330 + 7`H; uname -a HTTP/1.0\" 200 22292 \"() { :; }; echo Content-type:text/plain;echo;echo;echo M`expr 1330 + 7`H; uname -a\" \"() { :; }; echo Content-type:text/plain;echo;echo;echo M`expr 1330 + 7`H; uname -a\"', 0)\n",
      "('181.165.120.195 - - [27/Oct/2014:10:46:41 +0400] \"GET /?x=() { :; }; echo Content-type:text/plain;echo;echo;echo M`expr 1330 + 7`H;  HTTP/1.0\" 200 22292 \"() { :; }; echo Content-type:text/plain;echo;echo;echo M`expr 1330 + 7`H;\" \"() { :; }; echo Content-type:text/plain;echo;echo;echo M`expr 1330 + 7`H;\"', 0)\n",
      "('212.83.157.218 - - [27/Oct/2014:17:08:51 +0400] \"GET /?x=() { :; }; echo Content-type:text/plain;echo;echo;echo M`expr 1330 + 7`H;  HTTP/1.0\" 200 22292 \"() { :; }; echo Content-type:text/plain;echo;echo;echo M`expr 1330 + 7`H;\" \"() { :; }; echo Content-type:text/plain;echo;echo;echo M`expr 1330 + 7`H;\"', 0)\n",
      "('217.147.201.27 - - [27/Oct/2014:22:29:11 +0400] \"GET /?x=() { :; }; echo Content-type:text/plain;echo;echo;echo M`expr 1330 + 7`H;  HTTP/1.0\" 200 22292 \"() { :; }; echo Content-type:text/plain;echo;echo;echo M`expr 1330 + 7`H;\" \"() { :; }; echo Content-type:text/plain;echo;echo;echo M`expr 1330 + 7`H;\"', 0)\n",
      "('67.215.179.3 - - [28/Oct/2014:04:25:03 +0400] \"GET /?x=() { :; }; echo Content-type:text/plain;echo;echo;echo M`expr 1330 + 7`H;  HTTP/1.0\" 200 22292 \"() { :; }; echo Content-type:text/plain;echo;echo;echo M`expr 1330 + 7`H;\" \"() { :; }; echo Content-type:text/plain;echo;echo;echo M`expr 1330 + 7`H;\"', 0)\n",
      "('212.83.157.218 - - [28/Oct/2014:10:21:10 +0400] \"GET /?x=() { :; }; echo Content-type:text/plain;echo;echo;echo M`expr 1330 + 7`H;  HTTP/1.0\" 200 22292 \"() { :; }; echo Content-type:text/plain;echo;echo;echo M`expr 1330 + 7`H;\" \"() { :; }; echo Content-type:text/plain;echo;echo;echo M`expr 1330 + 7`H;\"', 0)\n",
      "('205.186.138.148 - - [28/Oct/2014:16:08:42 +0400] \"GET /?x=() { :; }; echo Content-type:text/plain;echo;echo;echo M`expr 1330 + 7`H;  HTTP/1.0\" 200 22292 \"() { :; }; echo Content-type:text/plain;echo;echo;echo M`expr 1330 + 7`H;\" \"() { :; }; echo Content-type:text/plain;echo;echo;echo M`expr 1330 + 7`H;\"', 0)\n",
      "('23.21.114.107 - - [29/Oct/2014:04:24:44 +0400] \"GET /?x=() { :; }; echo Content-type:text/plain;echo;echo;echo M`expr 1330 + 7`H;  HTTP/1.0\" 200 22292 \"() { :; }; echo Content-type:text/plain;echo;echo;echo M`expr 1330 + 7`H;\" \"() { :; }; echo Content-type:text/plain;echo;echo;echo M`expr 1330 + 7`H;\"', 0)\n",
      "('64.90.57.127 - - [29/Oct/2014:10:28:16 +0400] \"GET /?x=() { :; }; echo Content-type:text/plain;echo;echo;echo M`expr 1330 + 7`H;  HTTP/1.0\" 200 22292 \"() { :; }; echo Content-type:text/plain;echo;echo;echo M`expr 1330 + 7`H;\" \"() { :; }; echo Content-type:text/plain;echo;echo;echo M`expr 1330 + 7`H;\"', 0)\n",
      "('205.186.138.148 - - [29/Oct/2014:18:47:45 +0400] \"GET /?x=() { :; }; echo Content-type:text/plain;echo;echo;echo M`expr 1330 + 7`H;  HTTP/1.0\" 200 22292 \"() { :; }; echo Content-type:text/plain;echo;echo;echo M`expr 1330 + 7`H;\" \"() { :; }; echo Content-type:text/plain;echo;echo;echo M`expr 1330 + 7`H;\"', 0)\n",
      "('87.117.215.158 - - [30/Oct/2014:03:54:48 +0400] \"GET /?x=() { :; }; echo Content-type:text/plain;echo;echo;echo M`expr 1330 + 7`H;  HTTP/1.0\" 200 22292 \"() { :; }; echo Content-type:text/plain;echo;echo;echo M`expr 1330 + 7`H;\" \"() { :; }; echo Content-type:text/plain;echo;echo;echo M`expr 1330 + 7`H;\"', 0)\n",
      "('31.210.77.94 - - [30/Oct/2014:14:26:08 +0400] \"GET /?x=() { :; }; echo Content-type:text/plain;echo;echo;echo M`expr 1330 + 7`H;  HTTP/1.0\" 200 22292 \"() { :; }; echo Content-type:text/plain;echo;echo;echo M`expr 1330 + 7`H;\" \"() { :; }; echo Content-type:text/plain;echo;echo;echo M`expr 1330 + 7`H;\"', 0)\n",
      "('109.168.109.105 - - [31/Oct/2014:18:39:03 +0400] \"GET /?x=() { :; }; echo Content-type:text/plain;echo;echo;echo M`expr 1330 + 7`H;  HTTP/1.0\" 200 22292 \"() { :; }; echo Content-type:text/plain;echo;echo;echo M`expr 1330 + 7`H;\" \"() { :; }; echo Content-type:text/plain;echo;echo;echo M`expr 1330 + 7`H;\"', 0)\n",
      "('87.117.215.158 - - [01/Nov/2014:05:18:47 +0400] \"GET /?x=() { :; }; echo Content-type:text/plain;echo;echo;echo M`expr 1330 + 7`H;  HTTP/1.0\" 200 22292 \"() { :; }; echo Content-type:text/plain;echo;echo;echo M`expr 1330 + 7`H;\" \"() { :; }; echo Content-type:text/plain;echo;echo;echo M`expr 1330 + 7`H;\"', 0)\n",
      "('205.186.138.148 - - [01/Nov/2014:16:47:34 +0400] \"GET /?x=() { :; }; echo Content-type:text/plain;echo;echo;echo M`expr 1330 + 7`H;  HTTP/1.0\" 200 22292 \"() { :; }; echo Content-type:text/plain;echo;echo;echo M`expr 1330 + 7`H;\" \"() { :; }; echo Content-type:text/plain;echo;echo;echo M`expr 1330 + 7`H;\"', 0)\n",
      "('212.83.157.218 - - [02/Nov/2014:03:31:23 +0400] \"GET /?x=() { :; }; echo Content-type:text/plain;echo;echo;echo M`expr 1330 + 7`H;  HTTP/1.0\" 200 22292 \"() { :; }; echo Content-type:text/plain;echo;echo;echo M`expr 1330 + 7`H;\" \"() { :; }; echo Content-type:text/plain;echo;echo;echo M`expr 1330 + 7`H;\"', 0)\n",
      "('64.90.57.127 - - [02/Nov/2014:15:32:14 +0400] \"GET /?x=() { :; }; echo Content-type:text/plain;echo;echo;echo M`expr 1330 + 7`H;  HTTP/1.0\" 200 22292 \"() { :; }; echo Content-type:text/plain;echo;echo;echo M`expr 1330 + 7`H;\" \"() { :; }; echo Content-type:text/plain;echo;echo;echo M`expr 1330 + 7`H;\"', 0)\n",
      "('203.195.187.33 - - [03/Nov/2014:00:54:03 +0400] \"GET /?x=() { :; }; echo Content-type:text/plain;echo;echo;echo M`expr 1330 + 7`H;  HTTP/1.0\" 200 22292 \"() { :; }; echo Content-type:text/plain;echo;echo;echo M`expr 1330 + 7`H;\" \"() { :; }; echo Content-type:text/plain;echo;echo;echo M`expr 1330 + 7`H;\"', 0)\n",
      "('64.34.72.213 - - [03/Nov/2014:14:08:57 +0400] \"GET /?x=() { :; }; echo Content-type:text/plain;echo;echo;echo M`expr 1330 + 7`H;  HTTP/1.0\" 200 22292 \"() { :; }; echo Content-type:text/plain;echo;echo;echo M`expr 1330 + 7`H;\" \"() { :; }; echo Content-type:text/plain;echo;echo;echo M`expr 1330 + 7`H;\"', 0)\n",
      "('180.42.38.250 - - [10/Nov/2014:18:14:39 +0400] \"GET /?x=() { :; }; echo Content-type:text/plain;echo;echo;echo M`expr 1330 + 7`H; uname -a HTTP/1.0\" 200 22292 \"() { :; }; echo Content-type:text/plain;echo;echo;echo M`expr 1330 + 7`H; uname -a\" \"() { :; }; echo Content-type:text/plain;echo;echo;echo M`expr 1330 + 7`H; uname -a\"', 0)\n",
      "('188.165.248.41 - - [11/Nov/2014:22:13:53 +0400] \"GET /?x=() { :; }; echo Content-type:text/plain;echo;echo;echo M`expr 1330 + 7`H; uname -a; netstat -tn | grep \\':80\\' | awk \\'{print $5}\\' | cut -f1 -d: | sort | uniq | wc -l HTTP/1.0\" 200 22292 \"() { :; }; echo Content-type:text/plain;echo;echo;echo M`expr 1330 + 7`H; uname -a; netstat -tn | grep \\':80\\' | awk \\'{print $5}\\' | cut -f1 -d: | sort | uniq | wc -l\" \"() { :; }; echo Content-type:text/plain;echo;echo;echo M`expr 1330 + 7`H; uname -a; netstat -tn | grep \\':80\\' | awk \\'{print $5}\\' | cut -f1 -d: | sort | uniq | wc -l\"', 0)\n",
      "('109.168.109.105 - - [17/Nov/2014:20:36:05 +0400] \"GET /?x=() { :; }; echo Content-type:text/plain;echo;echo;echo M`expr 1330 + 7`H; /bin/uname -a HTTP/1.0\" 200 22292 \"() { :; }; echo Content-type:text/plain;echo;echo;echo M`expr 1330 + 7`H; /bin/uname -a\" \"() { :; }; echo Content-type:text/plain;echo;echo;echo M`expr 1330 + 7`H; /bin/uname -a\"', 0)\n",
      "('14.63.170.53 - - [18/Nov/2014:01:37:50 +0400] \"GET /?x=() { :; }; echo Content-type:text/plain;echo;echo;echo M`expr 1330 + 7`H; /bin/uname -a HTTP/1.0\" 200 22292 \"() { :; }; echo Content-type:text/plain;echo;echo;echo M`expr 1330 + 7`H; /bin/uname -a\" \"() { :; }; echo Content-type:text/plain;echo;echo;echo M`expr 1330 + 7`H; /bin/uname -a\"', 0)\n",
      "('216.228.104.39 - - [18/Nov/2014:07:04:44 +0400] \"GET /?x=() { :; }; echo Content-type:text/plain;echo;echo;echo M`expr 1330 + 7`H; /bin/uname -a HTTP/1.0\" 200 22292 \"() { :; }; echo Content-type:text/plain;echo;echo;echo M`expr 1330 + 7`H; /bin/uname -a\" \"() { :; }; echo Content-type:text/plain;echo;echo;echo M`expr 1330 + 7`H; /bin/uname -a\"', 0)\n",
      "('14.63.170.53 - - [18/Nov/2014:12:24:23 +0400] \"GET /?x=() { :; }; echo Content-type:text/plain;echo;echo;echo M`expr 1330 + 7`H; /bin/uname -a HTTP/1.0\" 200 22292 \"() { :; }; echo Content-type:text/plain;echo;echo;echo M`expr 1330 + 7`H; /bin/uname -a\" \"() { :; }; echo Content-type:text/plain;echo;echo;echo M`expr 1330 + 7`H; /bin/uname -a\"', 0)\n",
      "('14.63.170.53 - - [18/Nov/2014:18:14:11 +0400] \"GET /?x=() { :; }; echo Content-type:text/plain;echo;echo;echo M`expr 1330 + 7`H; /bin/uname -a HTTP/1.0\" 200 22292 \"() { :; }; echo Content-type:text/plain;echo;echo;echo M`expr 1330 + 7`H; /bin/uname -a\" \"() { :; }; echo Content-type:text/plain;echo;echo;echo M`expr 1330 + 7`H; /bin/uname -a\"', 0)\n",
      "('94.23.232.18 - - [19/Nov/2014:00:07:57 +0400] \"GET /?x=() { :; }; echo Content-type:text/plain;echo;echo;echo M`expr 1330 + 7`H; /bin/uname -a HTTP/1.0\" 200 22292 \"() { :; }; echo Content-type:text/plain;echo;echo;echo M`expr 1330 + 7`H; /bin/uname -a\" \"() { :; }; echo Content-type:text/plain;echo;echo;echo M`expr 1330 + 7`H; /bin/uname -a\"', 0)\n",
      "('130.117.233.95 - - [19/Nov/2014:06:07:57 +0400] \"GET /?x=() { :; }; echo Content-type:text/plain;echo;echo;echo M`expr 1330 + 7`H;/bin/uname -a;echo @ HTTP/1.0\" 200 22292 \"() { :; }; echo Content-type:text/plain;echo;echo;echo M`expr 1330 + 7`H;/bin/uname -a;echo @\" \"() { :; }; echo Content-type:text/plain;echo;echo;echo M`expr 1330 + 7`H;/bin/uname -a;echo @\"', 0)\n",
      "('31.210.122.186 - - [19/Nov/2014:11:05:19 +0400] \"GET /?x=() { :; }; echo Content-type:text/plain;echo;echo;echo M`expr 1330 + 7`H;/bin/uname -a;echo @ HTTP/1.0\" 200 22292 \"() { :; }; echo Content-type:text/plain;echo;echo;echo M`expr 1330 + 7`H;/bin/uname -a;echo @\" \"() { :; }; echo Content-type:text/plain;echo;echo;echo M`expr 1330 + 7`H;/bin/uname -a;echo @\"', 0)\n",
      "('67.215.179.3 - - [20/Nov/2014:01:35:42 +0400] \"GET /?x=() { :; }; echo Content-type:text/plain;echo;echo;echo M`expr 1330 + 7`H; /bin/uname -a HTTP/1.0\" 200 22292 \"() { :; }; echo Content-type:text/plain;echo;echo;echo M`expr 1330 + 7`H; /bin/uname -a\" \"() { :; }; echo Content-type:text/plain;echo;echo;echo M`expr 1330 + 7`H; /bin/uname -a\"', 0)\n",
      "('66.207.212.113 - - [20/Nov/2014:06:57:08 +0400] \"GET /?x=() { :; }; echo Content-type:text/plain;echo;echo;echo M`expr 1330 + 7`H;/bin/uname -a;echo @ HTTP/1.0\" 200 22292 \"() { :; }; echo Content-type:text/plain;echo;echo;echo M`expr 1330 + 7`H;/bin/uname -a;echo @\" \"() { :; }; echo Content-type:text/plain;echo;echo;echo M`expr 1330 + 7`H;/bin/uname -a;echo @\"', 0)\n",
      "('49.212.176.177 - - [20/Nov/2014:13:47:16 +0400] \"GET /?x=() { :; }; echo Content-type:text/plain;echo;echo;echo M`expr 1330 + 7`H;/bin/uname -a;echo @ HTTP/1.0\" 200 22292 \"() { :; }; echo Content-type:text/plain;echo;echo;echo M`expr 1330 + 7`H;/bin/uname -a;echo @\" \"() { :; }; echo Content-type:text/plain;echo;echo;echo M`expr 1330 + 7`H;/bin/uname -a;echo @\"', 0)\n",
      "('67.198.141.98 - - [21/Nov/2014:16:29:13 +0400] \"GET /?x=() { :; }; echo Content-type:text/plain;echo;echo;echo M`expr 1330 + 7`H;/bin/uname -a;echo @ HTTP/1.0\" 200 22292 \"() { :; }; echo Content-type:text/plain;echo;echo;echo M`expr 1330 + 7`H;/bin/uname -a;echo @\" \"() { :; }; echo Content-type:text/plain;echo;echo;echo M`expr 1330 + 7`H;/bin/uname -a;echo @\"', 0)\n",
      "('216.228.104.39 - - [22/Nov/2014:00:06:07 +0400] \"GET /?x=() { :; }; echo Content-type:text/plain;echo;echo;echo M`expr 1330 + 7`H; /bin/uname -a HTTP/1.0\" 200 22292 \"() { :; }; echo Content-type:text/plain;echo;echo;echo M`expr 1330 + 7`H; /bin/uname -a\" \"() { :; }; echo Content-type:text/plain;echo;echo;echo M`expr 1330 + 7`H; /bin/uname -a\"', 0)\n",
      "('198.204.242.211 - - [22/Nov/2014:01:03:07 +0400] \"GET /?x=() { :; }; echo Content-type:text/plain;echo;echo;echo M`expr 1330 + 7`H; /bin/uname -a HTTP/1.0\" 200 22292 \"() { :; }; echo Content-type:text/plain;echo;echo;echo M`expr 1330 + 7`H; /bin/uname -a\" \"() { :; }; echo Content-type:text/plain;echo;echo;echo M`expr 1330 + 7`H; /bin/uname -a\"', 0)\n",
      "('4.53.111.74 - - [22/Nov/2014:11:52:39 +0400] \"GET /?x=() { :; }; echo Content-type:text/plain;echo;echo;echo M`expr 1330 + 7`H;/bin/uname -a;echo @ HTTP/1.0\" 200 22292 \"() { :; }; echo Content-type:text/plain;echo;echo;echo M`expr 1330 + 7`H;/bin/uname -a;echo @\" \"() { :; }; echo Content-type:text/plain;echo;echo;echo M`expr 1330 + 7`H;/bin/uname -a;echo @\"', 0)\n",
      "('212.83.157.218 - - [22/Nov/2014:20:20:54 +0400] \"GET /?x=() { :; }; echo Content-type:text/plain;echo;echo;echo M`expr 1330 + 7`H;/bin/uname -a;echo @ HTTP/1.0\" 200 22292 \"() { :; }; echo Content-type:text/plain;echo;echo;echo M`expr 1330 + 7`H;/bin/uname -a;echo @\" \"() { :; }; echo Content-type:text/plain;echo;echo;echo M`expr 1330 + 7`H;/bin/uname -a;echo @\"', 0)\n",
      "('212.83.157.218 - - [23/Nov/2014:03:28:51 +0400] \"GET /?x=() { :; }; echo Content-type:text/plain;echo;echo;echo M`expr 1330 + 7`H;/bin/uname -a;echo @ HTTP/1.0\" 200 22292 \"() { :; }; echo Content-type:text/plain;echo;echo;echo M`expr 1330 + 7`H;/bin/uname -a;echo @\" \"() { :; }; echo Content-type:text/plain;echo;echo;echo M`expr 1330 + 7`H;/bin/uname -a;echo @\"', 0)\n",
      "('87.98.216.119 - - [07/Jan/2015:08:16:31 +0400] \"GET /?x=() { :; }; echo Content-type:text/plain;echo;echo;echo M`expr 1330 + 7`H;/bin/uname -a;echo @ HTTP/1.0\" 200 22292 \"() { :; }; echo Content-type:text/plain;echo;echo;echo M`expr 1330 + 7`H;/bin/uname -a;echo @\" \"() { :; }; echo Content-type:text/plain;echo;echo;echo M`expr 1330 + 7`H;/bin/uname -a;echo @\"', 0)\n",
      "('37.187.55.112 - - [07/Jan/2015:16:19:20 +0400] \"GET /?x=() { :; }; echo Content-type:text/plain;echo;echo;echo M`expr 1330 + 7`H;/bin/uname -a;echo @ HTTP/1.0\" 200 22292 \"() { :; }; echo Content-type:text/plain;echo;echo;echo M`expr 1330 + 7`H;/bin/uname -a;echo @\" \"() { :; }; echo Content-type:text/plain;echo;echo;echo M`expr 1330 + 7`H;/bin/uname -a;echo @\"', 0)\n",
      "('192.95.50.50 - - [08/Jan/2015:23:25:08 +0400] \"GET /?x=() { :; }; echo Content-type:text/plain;echo;echo;echo M`expr 1330 + 7`H;/bin/uname -a;echo @ HTTP/1.0\" 200 22292 \"() { :; }; echo Content-type:text/plain;echo;echo;echo M`expr 1330 + 7`H;/bin/uname -a;echo @\" \"() { :; }; echo Content-type:text/plain;echo;echo;echo M`expr 1330 + 7`H;/bin/uname -a;echo @\"', 0)\n",
      "('78.183.251.150 - - [21/Jan/2015:21:23:35 +0400] \"log=admin&pwd=admin POST /wp-login.php HTTP/1.1\" 400 513 \"http://myriamstable.com/wp-login.php\" \"Mozilla/5.0 (Linux; U; Android 2.2) AppleWebKit/533.1 (KHTML, like Gecko) Version/4.0 Mobile Safari/533.1\"', 0)\n",
      "('66.207.212.113 - - [09/Feb/2015:10:11:37 +0400] \"GET /?x=() { :; }; echo Content-type:text/plain;echo;echo;echo M`expr 1330 + 7`H;/bin/uname -a;echo @ HTTP/1.0\" 200 22292 \"() { :; }; echo Content-type:text/plain;echo;echo;echo M`expr 1330 + 7`H;/bin/uname -a;echo @\" \"() { :; }; echo Content-type:text/plain;echo;echo;echo M`expr 1330 + 7`H;/bin/uname -a;echo @\"', 0)\n",
      "('121.254.172.13 - - [11/Feb/2015:17:26:25 +0400] \"GET /?x=() { :; }; echo Content-type:text/plain;echo;echo;echo M`expr 1330 + 7`H;/bin/uname -a;echo @ HTTP/1.0\" 200 22292 \"() { :; }; echo Content-type:text/plain;echo;echo;echo M`expr 1330 + 7`H;/bin/uname -a;echo @\" \"() { :; }; echo Content-type:text/plain;echo;echo;echo M`expr 1330 + 7`H;/bin/uname -a;echo @\"', 0)\n",
      "('212.183.175.87 - - [08/Mar/2015:17:30:13 +0400] \"GET /wp content/themes/goBusiness/includes/uploadify/upload_settings_image.php HTTP/1.0\" 404 485 \"-\" \"-\"', 0)\n",
      "('212.183.175.87 - - [08/Mar/2015:17:30:14 +0400] \"GET /wp content/themes/simplebalance/includes/uploadify/upload_settings_image.php HTTP/1.0\" 404 485 \"-\" \"-\"', 0)\n",
      "('76.12.108.248 - - [09/Mar/2015:00:39:26 +0400] \"GET /wp content/themes/goBusiness/includes/uploadify/upload_settings_image.php HTTP/1.0\" 404 485 \"-\" \"-\"', 0)\n",
      "('76.12.108.248 - - [09/Mar/2015:00:39:26 +0400] \"GET /wp content/themes/simplebalance/includes/uploadify/upload_settings_image.php HTTP/1.0\" 404 485 \"-\" \"-\"', 0)\n",
      "('178.62.244.22 - - [12/Mar/2015:03:37:38 +0400] \"GET /wp content/themes/goBusiness/includes/uploadify/upload_settings_image.php HTTP/1.0\" 404 485 \"-\" \"-\"', 0)\n",
      "('178.62.244.22 - - [12/Mar/2015:03:37:38 +0400] \"GET /wp content/themes/simplebalance/includes/uploadify/upload_settings_image.php HTTP/1.0\" 404 485 \"-\" \"-\"', 0)\n",
      "('80.68.90.67 - - [19/Mar/2015:17:23:22 +0400] \"GET /?x=() { :; }; echo Content-type:text/plain;echo;echo;echo M`expr 1330 + 7`H;/bin/uname -a;echo @ HTTP/1.0\" 200 22292 \"() { :; }; echo Content-type:text/plain;echo;echo;echo M`expr 1330 + 7`H;/bin/uname -a;echo @\" \"() { :; }; echo Content-type:text/plain;echo;echo;echo M`expr 1330 + 7`H;/bin/uname -a;echo @\"', 0)\n",
      "('87.106.145.128 - - [28/Apr/2015:10:16:55 +0400] \"GET /wp content/themes/goBusiness/includes/uploadify/upload_settings_image.php HTTP/1.0\" 404 485 \"-\" \"-\"', 0)\n",
      "('87.106.145.128 - - [28/Apr/2015:10:16:55 +0400] \"GET /wp content/themes/simplebalance/includes/uploadify/upload_settings_image.php HTTP/1.0\" 404 485 \"-\" \"-\"', 0)\n",
      "('213.208.176.125 - - [20/May/2015:23:37:04 +0400] \"GET /wp content/themes/goBusiness/includes/uploadify/upload_settings_image.php HTTP/1.0\" 404 485 \"-\" \"-\"', 0)\n",
      "('213.208.176.125 - - [20/May/2015:23:37:05 +0400] \"GET /wp content/themes/simplebalance/includes/uploadify/upload_settings_image.php HTTP/1.0\" 404 485 \"-\" \"-\"', 0)\n",
      "('87.239.222.243 - - [10/Sep/2015:23:19:49 +0400] \"GET /site/\\' UNION ALL SELECT FileToClob(\\'/etc/passwd\\',\\'server\\')::html,0 FROM sysusers WHERE username=USER --/.html HTTP/1.1\" 404 526 \"-\" \"Mozilla/5.00 (Nikto/2.1.6) (Evasions:None) (Test:000688)\"', 0)\n",
      "('87.239.222.243 - - [10/Sep/2015:23:19:49 +0400] \"GET /site/\\' UNION ALL SELECT FileToClob(\\'/etc/passwd\\',\\'server\\')::html,0 FROM sysusers WHERE username = USER --/.html HTTP/1.1\" 404 526 \"-\" \"Mozilla/5.00 (Nikto/2.1.6) (Evasions:None) (Test:000689)\"', 0)\n",
      "('87.239.222.243 - - [10/Sep/2015:23:20:03 +0400] \"GET /postnuke/modules.php?op=modload&name=Web_Links&file=index&req=viewlinkdetails&lid=666&ttitle=Mocosoft Utilities\\\\\\\\\\\\\"%3<script>alert(\\'Vulnerable\\')</script> HTTP/1.1\" 404 539 \"-\" \"Mozilla/5.00 (Nikto/2.1.6) (Evasions:None) (Test:000804)\"', 0)\n",
      "('87.239.222.243 - - [10/Sep/2015:23:20:16 +0400] \"GET /index.php?action=search&searchFor=\\\\\\\\\\\\\"><script>alert(\\'Vulnerable\\')</script > HTTP/1.1\" 301 489 \"-\" \"Mozilla/5.00 (Nikto/2.1.6) (Evasions:None) (Test:000877)\"', 0)\n",
      "('87.239.222.243 - - [10/Sep/2015:23:20:21 +0400] \"GET /cleartrust/ct_logon.asp?CTAuthMode=BASIC&CTLoginErrorMsg=xx&ct_orig_uri=\\\\\\\\\\\\\">< script>alert(1)/script><\\\\\\\\\\\\\" HTTP/1.1\" 404 543 \"-\" \"Mozilla/5.00 (Nikto/2.1.6) (Evasions:None) (Test:000903)\"', 0)\n",
      "('87.239.222.243 - - [10/Sep/2015:23:20:23 +0400] \"GET /article.php?sid=\\\\\\\\\\\\\"><Img Src=javascript:alert(\\'Vulnerable\\')><Img Src=\\\\\\\\\\\\\" HTTP/1.1\" 404 531 \"-\" \"Mozilla/5.00 (Nikto/2.1.6) (Evasions:None) (Test:000913)\"', 0)\n",
      "('87.239.222.243 - - [10/Sep/2015:23:20:23 +0400] \"GET /admin/login.php?path=\\\\\\\\\\\\\"></form><form name=a><input name=i value=XSS>&lt;script>alert(\\'Vulnerable\\')</script> HTTP/1.1\" 404 535 \"-\" \"Mozilla/5.00 (Nikto/2.1.6) (Evasions:None) (Test:000917)\"', 0)\n",
      "('87.239.222.243 - - [10/Sep/2015:23:20:33 +0400] \"GET /cgi-bin/handler/netsonar;cat /etc/passwd|?data=Download HTTP/1.1\" 404 511 \"-\" \"Mozilla/5.00 (Nikto/2.1.6) (Evasions:None) (Test:001070)\"', 0)\n",
      "('107.77.71.236 - - [25/Nov/2015:17:50:31 +0400] \"action=netlabs_get_ajaxdata&type=tweetsGET /wp-content/uploads/2013/06/farmtotable-1240x390.png HTTP/1.1\" 501 570 \"http://myriamstable.com/?page_id=8\" \"Mozilla/5.0 (iPhone; CPU iPhone OS 8_1 like Mac OS X) AppleWebKit/600.1.4 (KHTML, like Gecko) Version/8.0 Mobile/12B411 Safari/600.1.4\"', 0)\n"
     ]
    }
   ],
   "source": [
    "print(\"The number of failures: \")\n",
    "failures.count()\n",
    "\n",
    "for i in failures.collect():\n",
    "    print i"
   ]
  },
  {
   "cell_type": "markdown",
   "metadata": {},
   "source": [
    "The failed logs seem to be the result of someone trying to hack the site"
   ]
  },
  {
   "cell_type": "markdown",
   "metadata": {},
   "source": [
    "## anyhow, time for some statistics\n",
    "\n",
    "First get the spark row by itself"
   ]
  },
  {
   "cell_type": "code",
   "execution_count": 15,
   "metadata": {
    "collapsed": true
   },
   "outputs": [],
   "source": [
    "successes = successes.map(lambda (r,v):r).cache()"
   ]
  },
  {
   "cell_type": "markdown",
   "metadata": {},
   "source": [
    "## Which resource is the most accessed"
   ]
  },
  {
   "cell_type": "code",
   "execution_count": 16,
   "metadata": {
    "collapsed": false
   },
   "outputs": [],
   "source": [
    "resources_counts = successes.map(lambda r: (r.url,1)).reduceByKey(lambda x,y:x+y)"
   ]
  },
  {
   "cell_type": "code",
   "execution_count": 17,
   "metadata": {
    "collapsed": false
   },
   "outputs": [
    {
     "data": {
      "text/plain": [
       "[('/wp-login.php', 466968),\n",
       " ('/', 38879),\n",
       " ('/xmlrpc.php', 37345),\n",
       " ('/wp-admin/admin-ajax.php', 20123),\n",
       " ('/wp-content/themes/MT/', 16675),\n",
       " ('/robots.txt', 11547),\n",
       " ('/wp-includes/js/jquery/jquery.js?ver=1.8.3', 5283),\n",
       " ('/wp-content/themes/MT/style.css', 4978),\n",
       " ('/wp-content/themes/MT/js/jqModal.css', 4890),\n",
       " ('/wp-content/themes/MT/styles/gold.css', 4641),\n",
       " ('/wp-content/themes/MT/styles/brown.css', 4636),\n",
       " ('/wp-content/themes/MT/js/cookie.js', 4595),\n",
       " ('/wp-content/themes/MT/js/jquery.jcarousel.min.js', 4547),\n",
       " ('/wp-content/themes/MT/js/jqModal.js', 4537),\n",
       " ('/?feed=rss2', 4532),\n",
       " ('/wp-content/themes/MT/js/custom.js', 4495),\n",
       " ('/wp-content/uploads/2013/06/farmtotable-1240x390.png', 4143),\n",
       " ('/wp-content/uploads/2013/06/organiccatering-150x150.png', 3743),\n",
       " ('/wp-content/uploads/2013/06/localcatering-150x150.png', 3726),\n",
       " ('/wp-content/uploads/2013/06/farmtotable-150x150.png', 3706),\n",
       " ('/wp-content/themes/MT/styles/brown/bigdoth.png', 3695),\n",
       " ('/wp-content/themes/MT/styles/gold/nextdot.png', 3685),\n",
       " ('/wp-content/themes/MT/styles/gold/prevdot.png', 3667),\n",
       " ('/wp-content/themes/MT/images/goleft.png', 3650),\n",
       " ('/wp-content/uploads/2013/06/localcatering-1240x390.png', 3638),\n",
       " ('/wp-content/themes/MT/images/goright.png', 3636),\n",
       " ('/wp-content/uploads/2013/06/smallplates-254x182.png', 3616),\n",
       " ('/wp-content/themes/MT/images/ajax-loader.gif', 3600),\n",
       " ('//wp-login.php', 3567),\n",
       " ('/wp-content/uploads/2013/06/breakfast-254x182.png', 3564),\n",
       " ('/wp-content/uploads/2013/04/lunch-254x182.png', 3511),\n",
       " ('/wp-content/themes/MT/images/whbg.png', 3495),\n",
       " ('/wp-content/uploads/2013/06/tea-254x182.png', 3489),\n",
       " ('/wp-content/uploads/2013/06/salads-254x182.png', 3482),\n",
       " ('/wp-content/uploads/2013/06/vegetarian-254x182.png', 3468),\n",
       " ('/wp-content/uploads/2013/06/picnic-254x182.png', 3463),\n",
       " ('/wp-content/uploads/2013/05/maincourse-254x182.png', 3428),\n",
       " ('/wp-content/themes/MT/styles/brown/bg-tile.png', 3420),\n",
       " ('/wp-content/uploads/2013/01/appetizers-254x182.png', 3414),\n",
       " ('/wp-content/themes/MT/images/galclose.png', 3382),\n",
       " ('/wp-content/uploads/2013/03/dessert-254x182.png', 3295),\n",
       " ('/wp-content/themes/MT/images/clear.png', 3275),\n",
       " ('/favicon.ico', 3190),\n",
       " ('/wp-content/themes/MT/images/goverlay.png', 3166),\n",
       " ('/wp-content/themes/MT/styles/brown/imgblock.png', 3154),\n",
       " ('/?menu_categories=menus', 3153),\n",
       " ('/wp-content/themes/MT/images/prevver.png', 3124),\n",
       " ('/wp-content/themes/MT/images/nexter.png', 3121),\n",
       " ('/wp-includes/js/comment-reply.min.js?ver=3.5.2', 2927),\n",
       " ('/wp-content/themes/MT/styles/brown/blackbox.png', 2909),\n",
       " ('/?page_id=8', 2742),\n",
       " ('/wp-content/themes/MT/styles/brown/prevdot.png', 2709),\n",
       " ('/wp-content/themes/MT/styles/brown/nextdot.png', 2704),\n",
       " ('/wp-content/themes/MT/styles/gold/bigdot.png', 2689),\n",
       " ('/wp-content/uploads/2013/06/organiccatering-1240x390.png', 2608),\n",
       " ('/wp-admin/admin-ajax.php?action=wordfence_testAjax', 2230),\n",
       " ('/logs/access.log', 2179),\n",
       " ('/wp-content/themes/MT/styles/brown/winnerbg.png', 2104),\n",
       " ('/?p=7', 1892),\n",
       " ('/wp-content/elomone.html', 1709),\n",
       " ('/?page_id=21', 1661),\n",
       " ('/?page_id=16', 1548),\n",
       " ('/?p=190', 1540),\n",
       " ('/wp-content/themes/MT/images/links.png', 1453),\n",
       " ('/?page_id=79', 1440),\n",
       " ('/wp-content/themes/MT/images/clear2.png', 1378),\n",
       " ('/?p=32', 1262),\n",
       " ('/?menus=main-course', 1147),\n",
       " ('/?menus=breakfast-brunch', 1055),\n",
       " ('/wp-login.php/wp-login.php', 1004),\n",
       " ('/?menus=appetizers-finger-foods', 976),\n",
       " ('http://myriamstable.com/wp-login.php/', 933),\n",
       " ('/?menus=lunch', 798),\n",
       " ('/?feed=comments-rss2', 788),\n",
       " ('/?author=2', 749),\n",
       " ('/?author=1', 728),\n",
       " ('/?menus=teas-beverages', 694),\n",
       " ('/?menus=vegetarian-options', 693),\n",
       " ('/?menus=small-plates', 690),\n",
       " ('/?menus=sides-salads', 680),\n",
       " ('/?menus=desserts', 657),\n",
       " ('/wp-comments-post.php', 620),\n",
       " ('/?menus=picnic', 601),\n",
       " ('/wp-admin/', 577),\n",
       " ('/wp-content/themes/MT/styles/brown/xcross.png', 484),\n",
       " ('/?cat=1', 459),\n",
       " ('/?m=201010', 423),\n",
       " ('/wp-login.php?redirect_to=http%3A%2F%2Fmyriamstable.com%2Fwp-admin%2F&reauth=1',\n",
       "  417),\n",
       " ('/wp-content/themes/MT/images/loading.gif', 382),\n",
       " ('/?page_id=200', 323),\n",
       " ('/wp-content/themes/MT/images/clear3.png', 256),\n",
       " ('/wp-content/themes/MT/styles/green.css', 251),\n",
       " ('/wp-content/themes/MT/styles/white.css', 244),\n",
       " ('/wp-login.php?action=register', 215),\n",
       " ('/wp-content/themes/MT/styles/green/prevdot.png', 213),\n",
       " ('/wp-admin/admin-ajax.php?action=revslider_show_image&img=../wp-config.php',\n",
       "  212),\n",
       " ('/wp-content/themes/MT/styles/white/bigdoth.png', 212),\n",
       " ('/wp-includes/js/jquery/jquery.js?ver=1.11.3', 212),\n",
       " ('/wp-content/themes/MT/styles/green/nextdot.png', 210),\n",
       " ('/wp-includes/js/jquery/jquery-migrate.min.js?ver=1.2.1', 209)]"
      ]
     },
     "execution_count": 17,
     "metadata": {},
     "output_type": "execute_result"
    }
   ],
   "source": [
    "resources_counts.takeOrdered(100, lambda (k,v): -1*v)"
   ]
  },
  {
   "cell_type": "markdown",
   "metadata": {},
   "source": [
    "the most accessed resources include the login page with stylistic resources.  \n",
    "the first non-trivial resources are the\n",
    ">  ('/?page_id=8', 2035),\n",
    " ('/wp-content/elomone.html', 1707),\n",
    " "
   ]
  },
  {
   "cell_type": "markdown",
   "metadata": {},
   "source": [
    "## the most frequent requester"
   ]
  },
  {
   "cell_type": "code",
   "execution_count": 18,
   "metadata": {
    "collapsed": false
   },
   "outputs": [
    {
     "data": {
      "text/plain": [
       "[('89.41.60.22', 91038),\n",
       " ('50.31.74.182', 33876),\n",
       " ('5.135.185.71', 30605),\n",
       " ('95.170.156.107', 30598),\n",
       " ('37.59.241.233', 27485),\n",
       " ('37.187.72.206', 22305),\n",
       " ('199.204.248.102', 20856),\n",
       " ('185.22.185.68', 20835),\n",
       " ('200.21.94.171', 19881),\n",
       " ('209.160.65.99', 9622)]"
      ]
     },
     "execution_count": 18,
     "metadata": {},
     "output_type": "execute_result"
    }
   ],
   "source": [
    "\n",
    "requesters = successes.map(lambda r: (r.host, 1)).reduceByKey(lambda x,y: x+y)\n",
    "requesters.takeOrdered(10, lambda (k,v): -1*v)"
   ]
  },
  {
   "cell_type": "markdown",
   "metadata": {},
   "source": [
    "## Response Codes\n",
    " see what types of responses the users are getting\n"
   ]
  },
  {
   "cell_type": "code",
   "execution_count": 19,
   "metadata": {
    "collapsed": false
   },
   "outputs": [],
   "source": [
    "response_codes = successes.map(lambda r: (r.response, 1)).reduceByKey(lambda x,y: x+y).cache()"
   ]
  },
  {
   "cell_type": "code",
   "execution_count": 20,
   "metadata": {
    "collapsed": false
   },
   "outputs": [
    {
     "data": {
      "text/plain": [
       "[(417, 1),\n",
       " (200, 807164),\n",
       " (301, 8856),\n",
       " (302, 1719),\n",
       " (304, 13258),\n",
       " (400, 11),\n",
       " (401, 1),\n",
       " (403, 47),\n",
       " (404, 40258),\n",
       " (206, 1765),\n",
       " (500, 17031),\n",
       " (413, 2),\n",
       " (405, 30)]"
      ]
     },
     "execution_count": 20,
     "metadata": {},
     "output_type": "execute_result"
    }
   ],
   "source": [
    "response_codes.collect()"
   ]
  },
  {
   "cell_type": "markdown",
   "metadata": {},
   "source": [
    "## looks good mostly getting 200s\n",
    "Let's see their distribution with a piechart"
   ]
  },
  {
   "cell_type": "code",
   "execution_count": 21,
   "metadata": {
    "collapsed": false
   },
   "outputs": [],
   "source": [
    "labels = response_codes.map(lambda (code, count): code).collect()\n",
    "total_count = successes.count()\n",
    "proportions = response_codes.map(lambda (code, count): float(count)/total_count).collect()\n"
   ]
  },
  {
   "cell_type": "code",
   "execution_count": 22,
   "metadata": {
    "collapsed": false
   },
   "outputs": [
    {
     "data": {
      "text/plain": [
       "([417, 200, 301, 302, 304, 400, 401, 403, 404, 206, 500, 413, 405],\n",
       " [1.1234150018592518e-06,\n",
       "  0.9067801465607211,\n",
       "  0.009948963256465534,\n",
       "  0.0019311503881960538,\n",
       "  0.014894236094649961,\n",
       "  1.235756502045177e-05,\n",
       "  1.1234150018592518e-06,\n",
       "  5.2800505087384836e-05,\n",
       "  0.04522644114484976,\n",
       "  0.0019828274782815796,\n",
       "  0.019132880896664917,\n",
       "  2.2468300037185037e-06,\n",
       "  3.3702450055777554e-05])"
      ]
     },
     "execution_count": 22,
     "metadata": {},
     "output_type": "execute_result"
    }
   ],
   "source": [
    "labels, proportions"
   ]
  },
  {
   "cell_type": "code",
   "execution_count": 37,
   "metadata": {
    "collapsed": false
   },
   "outputs": [
    {
     "name": "stdout",
     "output_type": "stream",
     "text": [
      "[417, 200, 301, 302, 304, 400, 401, 403, 404, 206, 500, 413, 405]\n"
     ]
    },
    {
     "data": {
      "text/plain": [
       "(-1.0055221837743331,\n",
       " 1.568639684221947,\n",
       " -1.0064307102853463,\n",
       " 1.0066628975756384)"
      ]
     },
     "execution_count": 37,
     "metadata": {},
     "output_type": "execute_result"
    },
    {
     "data": {
      "image/png": "[encoded data removed]",
      "text/plain": [
       "<matplotlib.figure.Figure at 0xb031cdac>"
      ]
     },
     "metadata": {},
     "output_type": "display_data"
    }
   ],
   "source": [
    "import matplotlib.pyplot as plt\n",
    "colors = ['red', 'lightskyblue', 'gold', 'purple', 'lightcoral', 'yellow', 'black','orange', 'green', 'pink', 'blue',\n",
    "         'aqua', 'darkgreen']\n",
    "print labels\n",
    "def fixPercent(percent):\n",
    "    return \"%.2f%%\"%percent\n",
    "\n",
    "# explode the 404 index out\n",
    "explode = [0 if i != labels.index(404) else .6 for i in range(len(labels))]\n",
    "assert len(explode) == len(colors) == len(labels), \"explode array needs to correspond with the colors array\"\n",
    "plt.pie(proportions, labels = labels, colors=colors, explode= explode)\n",
    "plt.axis('equal')"
   ]
  },
  {
   "cell_type": "markdown",
   "metadata": {},
   "source": [
    "## That pie doesn't look too great with the tiny slices\n",
    "plt.pie returns objects called autotexts.  These store info on whether or not a label should be displayed.\n",
    "One can use this info to prettify the plot a bit."
   ]
  },
  {
   "cell_type": "code",
   "execution_count": 38,
   "metadata": {
    "collapsed": false
   },
   "outputs": [
    {
     "data": {
      "text/plain": [
       "<matplotlib.legend.Legend at 0xb011f96c>"
      ]
     },
     "execution_count": 38,
     "metadata": {},
     "output_type": "execute_result"
    },
    {
     "data": {
      "image/png": "[encoded data removed]",
      "text/plain": [
       "<matplotlib.figure.Figure at 0xafeeba4c>"
      ]
     },
     "metadata": {},
     "output_type": "display_data"
    }
   ],
   "source": [
    "fig = plt.figure(figsize=(8,8), facecolor='white')\n",
    "patches, texts, autotexts = plt.pie(proportions, labels=labels, colors=colors, \n",
    "                                    explode=explode, autopct=fixPercent)\n",
    "\n",
    "for text, autotext in zip(texts, autotexts):\n",
    "    if autotext.get_text() == '':\n",
    "        text.set_text('')\n",
    "\n",
    "plt.legend(labels, loc=0)"
   ]
  },
  {
   "cell_type": "markdown",
   "metadata": {},
   "source": [
    "## Further analysis, temporal analysis"
   ]
  },
  {
   "cell_type": "markdown",
   "metadata": {
    "collapsed": true
   },
   "source": [
    "Let's get the extent of the time frames for the logs."
   ]
  },
  {
   "cell_type": "code",
   "execution_count": 40,
   "metadata": {
    "collapsed": true
   },
   "outputs": [],
   "source": [
    "dates = successes.map(lambda r: r.date_time)"
   ]
  },
  {
   "cell_type": "code",
   "execution_count": 48,
   "metadata": {
    "collapsed": false
   },
   "outputs": [],
   "source": [
    "extent = (dates.min(), dates.max())\n",
    "diff = extent[1] - extent[0]"
   ]
  },
  {
   "cell_type": "code",
   "execution_count": 54,
   "metadata": {
    "collapsed": false
   },
   "outputs": [
    {
     "data": {
      "text/plain": [
       "'The data spans 928 days or 2.5 years'"
      ]
     },
     "execution_count": 54,
     "metadata": {},
     "output_type": "execute_result"
    }
   ],
   "source": [
    "\"The data spans {} days or {:.2} years\".format(diff.days, diff.days/float(365))"
   ]
  },
  {
   "cell_type": "markdown",
   "metadata": {},
   "source": [
    "With datetime, you can get a unique representation of the time.  Along with that there are nifty features that allow you to check temporal analysis for weekday visits and weekend visits."
   ]
  },
  {
   "cell_type": "code",
   "execution_count": 55,
   "metadata": {
    "collapsed": true
   },
   "outputs": [],
   "source": [
    "sample_dates = dates.take(3)"
   ]
  },
  {
   "cell_type": "code",
   "execution_count": 59,
   "metadata": {
    "collapsed": false
   },
   "outputs": [],
   "source": [
    "aDate = sample_dates[0]"
   ]
  },
  {
   "cell_type": "code",
   "execution_count": 73,
   "metadata": {
    "collapsed": false
   },
   "outputs": [
    {
     "data": {
      "text/plain": [
       "(24, 0, datetime.time(15, 17, 1), 735043)"
      ]
     },
     "execution_count": 73,
     "metadata": {},
     "output_type": "execute_result"
    }
   ],
   "source": [
    "aDate.day, aDate.weekday(), aDate.time(), aDate.toordinal()"
   ]
  },
  {
   "cell_type": "code",
   "execution_count": 74,
   "metadata": {
    "collapsed": true
   },
   "outputs": [],
   "source": [
    "?aDate.toordinal"
   ]
  },
  {
   "cell_type": "markdown",
   "metadata": {},
   "source": [
    "Ordinal is the method we're after, we can convert it to the ordinal number and then reconvert it back to a datetime representation.\n",
    "\n",
    "So let's see how Myriams Table is doing unique daily visitor wise."
   ]
  },
  {
   "cell_type": "code",
   "execution_count": 76,
   "metadata": {
    "collapsed": true
   },
   "outputs": [],
   "source": [
    "#  get an rdd of ordinal, host pairs\n",
    "ordinalDatesWithHosts = successes.map(lambda r: (r.date_time.toordinal(), r.host)).cache()"
   ]
  },
  {
   "cell_type": "code",
   "execution_count": 78,
   "metadata": {
    "collapsed": false
   },
   "outputs": [
    {
     "data": {
      "text/plain": [
       "[(735043, '8.225.212.178')]"
      ]
     },
     "execution_count": 78,
     "metadata": {},
     "output_type": "execute_result"
    }
   ],
   "source": [
    "ordinalDatesWithHosts.take(1)"
   ]
  },
  {
   "cell_type": "code",
   "execution_count": 79,
   "metadata": {
    "collapsed": false
   },
   "outputs": [],
   "source": [
    "# get distinct combos for day and host, ie a host can only have its presence once per day\n",
    "uniqueHostsPerDay = ordinalDatesWithHosts.distinct()"
   ]
  },
  {
   "cell_type": "code",
   "execution_count": 83,
   "metadata": {
    "collapsed": true
   },
   "outputs": [],
   "source": [
    "# aggregate and cache\n",
    "countsOfUniqueVisits = uniqueHostsPerDay.map(lambda t: (t[0],1)).reduceByKey(lambda a,b: a+b).cache()"
   ]
  },
  {
   "cell_type": "markdown",
   "metadata": {},
   "source": [
    "So on which 10 days did myriams table reach the largest breadth of potential customers?"
   ]
  },
  {
   "cell_type": "code",
   "execution_count": 94,
   "metadata": {
    "collapsed": false
   },
   "outputs": [
    {
     "data": {
      "text/plain": [
       "'Sep 02, 2014'"
      ]
     },
     "execution_count": 94,
     "metadata": {},
     "output_type": "execute_result"
    }
   ],
   "source": [
    "datetime.datetime.strftime(datetime.datetime.fromordinal(735478),\"%b %d, %Y\")"
   ]
  },
  {
   "cell_type": "code",
   "execution_count": 97,
   "metadata": {
    "collapsed": false
   },
   "outputs": [
    {
     "data": {
      "text/plain": [
       "[('Sep 02, 2014', 4378),\n",
       " ('Jan 13, 2015', 3073),\n",
       " ('Sep 01, 2014', 1791),\n",
       " ('Nov 16, 2015', 1589),\n",
       " ('Oct 02, 2015', 1227),\n",
       " ('Nov 15, 2015', 1105),\n",
       " ('Oct 03, 2015', 947),\n",
       " ('Oct 12, 2015', 825),\n",
       " ('Oct 14, 2015', 817),\n",
       " ('Oct 15, 2015', 787)]"
      ]
     },
     "execution_count": 97,
     "metadata": {},
     "output_type": "execute_result"
    }
   ],
   "source": [
    "(countsOfUniqueVisits\n",
    "    .map(lambda t: (datetime.datetime.strftime(datetime.datetime.fromordinal(t[0]), \"%b %d, %Y\"), t[1]))\n",
    "     .takeOrdered(10, key=lambda t: -1*t[1]))"
   ]
  },
  {
   "cell_type": "markdown",
   "metadata": {},
   "source": [
    "How about by overall daily requests?"
   ]
  },
  {
   "cell_type": "code",
   "execution_count": 102,
   "metadata": {
    "collapsed": false
   },
   "outputs": [
    {
     "data": {
      "text/plain": [
       "[('Sep 12, 2014', 129098),\n",
       " ('Sep 03, 2014', 35421),\n",
       " ('Sep 02, 2014', 29579),\n",
       " ('Dec 16, 2014', 27970),\n",
       " ('Sep 13, 2014', 23897),\n",
       " ('Jul 01, 2014', 22543),\n",
       " ('Mar 24, 2014', 18370),\n",
       " ('Jan 13, 2015', 17081),\n",
       " ('Oct 08, 2014', 8734),\n",
       " ('May 03, 2015', 7654)]"
      ]
     },
     "execution_count": 102,
     "metadata": {},
     "output_type": "execute_result"
    }
   ],
   "source": [
    "(ordinalDatesWithHosts\n",
    " .map(lambda t: (t[0], 1))\n",
    " .reduceByKey(lambda a,b: a+b)\n",
    " .map(lambda t: (datetime.datetime.strftime(datetime.datetime.fromordinal(t[0]), \"%b %d, %Y\"), t[1])) \n",
    " .takeOrdered(10, key=lambda t: -1*t[1]))"
   ]
  }
 ],
 "metadata": {
  "kernelspec": {
   "display_name": "Python 2",
   "language": "python",
   "name": "python2"
  },
  "language_info": {
   "codemirror_mode": {
    "name": "ipython",
    "version": 2
   },
   "file_extension": ".py",
   "mimetype": "text/x-python",
   "name": "python",
   "nbconvert_exporter": "python",
   "pygments_lexer": "ipython2",
   "version": "2.7.6"
  }
 },
 "nbformat": 4,
 "nbformat_minor": 0
}
