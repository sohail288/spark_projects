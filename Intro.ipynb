{
 "cells": [
  {
   "cell_type": "markdown",
   "metadata": {},
   "source": [
    "# Simple Spark Application\n",
    "\n",
    "## testing the frequency of randomly generated characters\n",
    "\n"
   ]
  },
  {
   "cell_type": "code",
   "execution_count": 1,
   "metadata": {
    "collapsed": false
   },
   "outputs": [
    {
     "data": {
      "text/plain": [
       "<pyspark.context.SparkContext at 0xb208ac8c>"
      ]
     },
     "execution_count": 1,
     "metadata": {},
     "output_type": "execute_result"
    }
   ],
   "source": [
    "# check the spark context\n",
    "sc"
   ]
  },
  {
   "cell_type": "code",
   "execution_count": 2,
   "metadata": {
    "collapsed": false
   },
   "outputs": [],
   "source": [
    "# make dataset\n",
    "import string\n",
    "import random\n",
    "\n",
    "data = [random.choice(string.ascii_letters) for i in range(10000)]"
   ]
  },
  {
   "cell_type": "code",
   "execution_count": 3,
   "metadata": {
    "collapsed": false
   },
   "outputs": [
    {
     "data": {
      "text/plain": [
       "['Z', 'O', 'c', 'U', 'R', 'S', 'k', 'V', 'N', 'y']"
      ]
     },
     "execution_count": 3,
     "metadata": {},
     "output_type": "execute_result"
    }
   ],
   "source": [
    "# check the first 10 of data\n",
    "data[:10]\n"
   ]
  },
  {
   "cell_type": "code",
   "execution_count": 4,
   "metadata": {
    "collapsed": true
   },
   "outputs": [],
   "source": [
    "# parallelize the array\n",
    "\n",
    "\n",
    "rdd = sc.parallelize(data)"
   ]
  },
  {
   "cell_type": "code",
   "execution_count": 5,
   "metadata": {
    "collapsed": false
   },
   "outputs": [
    {
     "name": "stdout",
     "output_type": "stream",
     "text": [
      "['Z', 'O', 'c', 'U', 'R', 'S', 'k', 'V', 'N', 'y']\n"
     ]
    }
   ],
   "source": [
    "print rdd.take(10)\n"
   ]
  },
  {
   "cell_type": "code",
   "execution_count": 6,
   "metadata": {
    "collapsed": false
   },
   "outputs": [
    {
     "data": {
      "text/plain": [
       "PythonRDD[2] at RDD at PythonRDD.scala:43"
      ]
     },
     "execution_count": 6,
     "metadata": {},
     "output_type": "execute_result"
    }
   ],
   "source": [
    "# transfrom by normalizing all characters IE make em lowercased and then cache the result\n",
    "transformed_rdd = rdd.map(lambda c: c.lower())\n",
    "transformed_rdd.cache()"
   ]
  },
  {
   "cell_type": "code",
   "execution_count": 7,
   "metadata": {
    "collapsed": false
   },
   "outputs": [],
   "source": [
    "# check to see if it is cached\n",
    "assert transformed_rdd.is_cached == True, \" failed to cache\""
   ]
  },
  {
   "cell_type": "code",
   "execution_count": 8,
   "metadata": {
    "collapsed": false
   },
   "outputs": [],
   "source": [
    "# at this point the data is ready for processing\n",
    "# so let's group the data by giving each character a (c,1) tuple and then folding the\n",
    "# counts based on the character\n",
    "\n",
    "counts = transformed_rdd.map(lambda c: (c,1)).reduceByKey(lambda a,b: a+b)\n"
   ]
  },
  {
   "cell_type": "code",
   "execution_count": 9,
   "metadata": {
    "collapsed": false
   },
   "outputs": [],
   "source": [
    "# the result should have length 26\n",
    "assert counts.count() == 26, \"Failed to fold the values\""
   ]
  },
  {
   "cell_type": "code",
   "execution_count": 10,
   "metadata": {
    "collapsed": false
   },
   "outputs": [
    {
     "data": {
      "text/plain": [
       "[('a', 369),\n",
       " ('c', 391),\n",
       " ('b', 372),\n",
       " ('e', 369),\n",
       " ('d', 376),\n",
       " ('g', 360),\n",
       " ('f', 383),\n",
       " ('i', 404),\n",
       " ('h', 395),\n",
       " ('k', 425)]"
      ]
     },
     "execution_count": 10,
     "metadata": {},
     "output_type": "execute_result"
    }
   ],
   "source": [
    "counts.take(10)"
   ]
  },
  {
   "cell_type": "code",
   "execution_count": 29,
   "metadata": {
    "collapsed": true
   },
   "outputs": [],
   "source": [
    "# at this point we want the proportion of each letter relative to all the other letters in the dataset\n",
    "all_count = rdd.count()\n",
    "\n",
    "counts = counts.map(lambda (c,n): (c, float(n)/all_count))\n",
    "\n",
    "#should still have 26 entries\n",
    "assert counts.count() == 26, \"Counts not correct\""
   ]
  },
  {
   "cell_type": "code",
   "execution_count": 30,
   "metadata": {
    "collapsed": false
   },
   "outputs": [
    {
     "data": {
      "text/plain": [
       "[('a', 0.0376),\n",
       " ('c', 0.0393),\n",
       " ('b', 0.0407),\n",
       " ('e', 0.0349),\n",
       " ('d', 0.0407),\n",
       " ('g', 0.0392),\n",
       " ('f', 0.0375),\n",
       " ('i', 0.0398),\n",
       " ('h', 0.0392),\n",
       " ('k', 0.0376)]"
      ]
     },
     "execution_count": 30,
     "metadata": {},
     "output_type": "execute_result"
    }
   ],
   "source": [
    "# what does it look like?\n",
    "counts.take(10)\n",
    "\n"
   ]
  },
  {
   "cell_type": "code",
   "execution_count": 31,
   "metadata": {
    "collapsed": true
   },
   "outputs": [],
   "source": [
    "# now let's collect the results\n",
    "results = counts.collect()"
   ]
  },
  {
   "cell_type": "code",
   "execution_count": 32,
   "metadata": {
    "collapsed": false
   },
   "outputs": [
    {
     "name": "stdout",
     "output_type": "stream",
     "text": [
      "[('a', 0.0376), ('b', 0.0407), ('c', 0.0393), ('d', 0.0407), ('e', 0.0349), ('f', 0.0375), ('g', 0.0392), ('h', 0.0392), ('i', 0.0398), ('j', 0.0354), ('k', 0.0376), ('l', 0.0406), ('m', 0.0383), ('n', 0.0392), ('o', 0.0416), ('p', 0.0389), ('q', 0.0371), ('r', 0.0403), ('s', 0.0385), ('t', 0.0387), ('u', 0.0406), ('v', 0.0369), ('w', 0.0366), ('x', 0.0355), ('y', 0.0348), ('z', 0.0405)]\n"
     ]
    }
   ],
   "source": [
    "results.sort()\n",
    "print results"
   ]
  },
  {
   "cell_type": "code",
   "execution_count": 33,
   "metadata": {
    "collapsed": false
   },
   "outputs": [
    {
     "name": "stdout",
     "output_type": "stream",
     "text": [
      "1.0\n"
     ]
    }
   ],
   "source": [
    "# let's analyze the results\n",
    "print sum(map(lambda (c,p): p, results))\n"
   ]
  },
  {
   "cell_type": "code",
   "execution_count": 34,
   "metadata": {
    "collapsed": false
   },
   "outputs": [],
   "source": [
    "# let's plot a histogram of the data\n",
    "import matplotlib.pyplot as plt"
   ]
  },
  {
   "cell_type": "code",
   "execution_count": 13,
   "metadata": {
    "collapsed": false
   },
   "outputs": [
    {
     "ename": "SyntaxError",
     "evalue": "invalid syntax (<ipython-input-13-d3e250d37a29>, line 10)",
     "output_type": "error",
     "traceback": [
      "\u001b[1;36m  File \u001b[1;32m\"<ipython-input-13-d3e250d37a29>\"\u001b[1;36m, line \u001b[1;32m10\u001b[0m\n\u001b[1;33m    axis.set_ticklabels([]) if hideLabels\u001b[0m\n\u001b[1;37m                                         ^\u001b[0m\n\u001b[1;31mSyntaxError\u001b[0m\u001b[1;31m:\u001b[0m invalid syntax\n"
     ]
    }
   ],
   "source": [
    "# prepare plot functionb\n",
    "def preparePlot(xticks, yticks, figsize=(10.5, 6), hideLabels=False, gridColor='#999999', gridWidth=1.0):\n",
    "    plt.close()\n",
    "    fig, ax = plt.subplots(figsize=figsize, facecolor='white', edgecolor='white')\n",
    "    ax.axes.tick_params(labelcolor='#999999', labelsize='10')\n",
    "    for axis, ticks in [(ax.get_xaxis(), xticks), (ax.get_yaxis(), yticks)]:\n",
    "        axis.set_ticks_position('none')\n",
    "        axis.set_ticks(ticks)\n",
    "        axis.label.set_color('#999999')\n",
    "        if hideLabels: axis.set_ticklabels([])\n",
    "    plt.grid(color=gridColor, linewidth=gridWidth, linestyle='-')\n",
    "    map(lambda position: ax.spines[position].set_visible(False), ['bottom', 'top', 'left', 'right'])\n",
    "    return fig, ax\n",
    "\n",
    "# this is for each letter\n",
    "x_loc = range(len(results))\n",
    "\n",
    "fig, ax= preparePlot(range(0,26), [.001*i for i in range(10)], gridWidth=.01)\n",
    "barsize = fig.get_figwidth()/len(results)\n",
    "\n",
    "\n",
    "ax.bar(x_loc, map(lambda (c,p):p, results), barsize, color='b')\n",
    "ax.set_xticklabels(list(string.uppercase))\n",
    "ax.set_yticks([.005*i for i in range(0,11)])\n",
    "ax.set_ylabel(\"Probabilities\")\n",
    "ax.set_xlabel(\"Characters\")\n",
    "ax.set_title(\"Randomly generated character distributions\")"
   ]
  },
  {
   "cell_type": "markdown",
   "metadata": {},
   "source": [
    "# and done!"
   ]
  }
 ],
 "metadata": {
  "kernelspec": {
   "display_name": "Python 2",
   "language": "python",
   "name": "python2"
  },
  "language_info": {
   "codemirror_mode": {
    "name": "ipython",
    "version": 2
   },
   "file_extension": ".py",
   "mimetype": "text/x-python",
   "name": "python",
   "nbconvert_exporter": "python",
   "pygments_lexer": "ipython2",
   "version": "2.7.6"
  }
 },
 "nbformat": 4,
 "nbformat_minor": 0
}
