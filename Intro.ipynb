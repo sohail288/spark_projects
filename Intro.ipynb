{
 "cells": [
  {
   "cell_type": "markdown",
   "metadata": {},
   "source": [
    "# Simple Spark Application\n",
    "\n",
    "## testing the frequency of randomly generated characters\n",
    "\n"
   ]
  },
  {
   "cell_type": "code",
   "execution_count": 19,
   "metadata": {
    "collapsed": false
   },
   "outputs": [
    {
     "data": {
      "text/plain": [
       "<pyspark.context.SparkContext at 0xb2005c8c>"
      ]
     },
     "execution_count": 19,
     "metadata": {},
     "output_type": "execute_result"
    }
   ],
   "source": [
    "# check the spark context\n",
    "sc"
   ]
  },
  {
   "cell_type": "code",
   "execution_count": 20,
   "metadata": {
    "collapsed": false
   },
   "outputs": [],
   "source": [
    "# make dataset\n",
    "import string\n",
    "import random\n",
    "\n",
    "data = [random.choice(string.ascii_letters) for i in range(10000)]"
   ]
  },
  {
   "cell_type": "code",
   "execution_count": 21,
   "metadata": {
    "collapsed": false
   },
   "outputs": [
    {
     "data": {
      "text/plain": [
       "['J', 'i', 'b', 'U', 'b', 'K', 'I', 'P', 'o', 'v']"
      ]
     },
     "execution_count": 21,
     "metadata": {},
     "output_type": "execute_result"
    }
   ],
   "source": [
    "# check the first 10 of data\n",
    "data[:10]\n"
   ]
  },
  {
   "cell_type": "code",
   "execution_count": 22,
   "metadata": {
    "collapsed": true
   },
   "outputs": [],
   "source": [
    "# parallelize the array\n",
    "\n",
    "\n",
    "rdd = sc.parallelize(data)"
   ]
  },
  {
   "cell_type": "code",
   "execution_count": 23,
   "metadata": {
    "collapsed": false
   },
   "outputs": [
    {
     "name": "stdout",
     "output_type": "stream",
     "text": [
      "['J', 'i', 'b', 'U', 'b', 'K', 'I', 'P', 'o', 'v']\n"
     ]
    }
   ],
   "source": [
    "print rdd.take(10)\n"
   ]
  },
  {
   "cell_type": "code",
   "execution_count": 24,
   "metadata": {
    "collapsed": false
   },
   "outputs": [
    {
     "data": {
      "text/plain": [
       "PythonRDD[17] at RDD at PythonRDD.scala:43"
      ]
     },
     "execution_count": 24,
     "metadata": {},
     "output_type": "execute_result"
    }
   ],
   "source": [
    "# transfrom by normalizing all characters IE make em lowercased and then cache the result\n",
    "transformed_rdd = rdd.map(lambda c: c.lower())\n",
    "transformed_rdd.cache()"
   ]
  },
  {
   "cell_type": "code",
   "execution_count": 25,
   "metadata": {
    "collapsed": false
   },
   "outputs": [],
   "source": [
    "# check to see if it is cached\n",
    "assert transformed_rdd.is_cached == True, \" failed to cache\""
   ]
  },
  {
   "cell_type": "code",
   "execution_count": 26,
   "metadata": {
    "collapsed": false
   },
   "outputs": [],
   "source": [
    "# at this point the data is ready for processing\n",
    "# so let's group the data by giving each character a (c,1) tuple and then folding the\n",
    "# counts based on the character\n",
    "\n",
    "counts = transformed_rdd.map(lambda c: (c,1)).reduceByKey(lambda a,b: a+b)\n"
   ]
  },
  {
   "cell_type": "code",
   "execution_count": 27,
   "metadata": {
    "collapsed": false
   },
   "outputs": [],
   "source": [
    "# the result should have length 26\n",
    "assert counts.count() == 26, \"Failed to fold the values\""
   ]
  },
  {
   "cell_type": "code",
   "execution_count": 28,
   "metadata": {
    "collapsed": false
   },
   "outputs": [
    {
     "data": {
      "text/plain": [
       "[('a', 376),\n",
       " ('c', 393),\n",
       " ('b', 407),\n",
       " ('e', 349),\n",
       " ('d', 407),\n",
       " ('g', 392),\n",
       " ('f', 375),\n",
       " ('i', 398),\n",
       " ('h', 392),\n",
       " ('k', 376)]"
      ]
     },
     "execution_count": 28,
     "metadata": {},
     "output_type": "execute_result"
    }
   ],
   "source": [
    "counts.take(10)"
   ]
  },
  {
   "cell_type": "code",
   "execution_count": 29,
   "metadata": {
    "collapsed": true
   },
   "outputs": [],
   "source": [
    "# at this point we want the proportion of each letter relative to all the other letters in the dataset\n",
    "all_count = rdd.count()\n",
    "\n",
    "counts = counts.map(lambda (c,n): (c, float(n)/all_count))\n",
    "\n",
    "#should still have 26 entries\n",
    "assert counts.count() == 26, \"Counts not correct\""
   ]
  },
  {
   "cell_type": "code",
   "execution_count": 30,
   "metadata": {
    "collapsed": false
   },
   "outputs": [
    {
     "data": {
      "text/plain": [
       "[('a', 0.0376),\n",
       " ('c', 0.0393),\n",
       " ('b', 0.0407),\n",
       " ('e', 0.0349),\n",
       " ('d', 0.0407),\n",
       " ('g', 0.0392),\n",
       " ('f', 0.0375),\n",
       " ('i', 0.0398),\n",
       " ('h', 0.0392),\n",
       " ('k', 0.0376)]"
      ]
     },
     "execution_count": 30,
     "metadata": {},
     "output_type": "execute_result"
    }
   ],
   "source": [
    "# what does it look like?\n",
    "counts.take(10)\n",
    "\n"
   ]
  },
  {
   "cell_type": "code",
   "execution_count": 31,
   "metadata": {
    "collapsed": true
   },
   "outputs": [],
   "source": [
    "# now let's collect the results\n",
    "results = counts.collect()"
   ]
  },
  {
   "cell_type": "code",
   "execution_count": 32,
   "metadata": {
    "collapsed": false
   },
   "outputs": [
    {
     "name": "stdout",
     "output_type": "stream",
     "text": [
      "[('a', 0.0376), ('b', 0.0407), ('c', 0.0393), ('d', 0.0407), ('e', 0.0349), ('f', 0.0375), ('g', 0.0392), ('h', 0.0392), ('i', 0.0398), ('j', 0.0354), ('k', 0.0376), ('l', 0.0406), ('m', 0.0383), ('n', 0.0392), ('o', 0.0416), ('p', 0.0389), ('q', 0.0371), ('r', 0.0403), ('s', 0.0385), ('t', 0.0387), ('u', 0.0406), ('v', 0.0369), ('w', 0.0366), ('x', 0.0355), ('y', 0.0348), ('z', 0.0405)]\n"
     ]
    }
   ],
   "source": [
    "results.sort()\n",
    "print results"
   ]
  },
  {
   "cell_type": "code",
   "execution_count": 33,
   "metadata": {
    "collapsed": false
   },
   "outputs": [
    {
     "name": "stdout",
     "output_type": "stream",
     "text": [
      "1.0\n"
     ]
    }
   ],
   "source": [
    "# let's analyze the results\n",
    "print sum(map(lambda (c,p): p, results))\n"
   ]
  },
  {
   "cell_type": "code",
   "execution_count": 34,
   "metadata": {
    "collapsed": false
   },
   "outputs": [],
   "source": [
    "# let's plot a histogram of the data\n",
    "import matplotlib.pyplot as plt"
   ]
  },
  {
   "cell_type": "code",
   "execution_count": 18,
   "metadata": {
    "collapsed": false
   },
   "outputs": [
    {
     "data": {
      "text/plain": [
       "<matplotlib.text.Text at 0xb0dc36cc>"
      ]
     },
     "execution_count": 18,
     "metadata": {},
     "output_type": "execute_result"
    },
    {
     "data": {
      "image/png": "[encoded data removed]",
      "text/plain": [
       "<matplotlib.figure.Figure at 0xb0e400cc>"
      ]
     },
     "metadata": {},
     "output_type": "display_data"
    }
   ],
   "source": [
    "# prepare plot functionb\n",
    "def preparePlot(xticks, yticks, figsize=(10.5, 6), hideLabels=False, gridColor='#999999', gridWidth=1.0):\n",
    "    plt.close()\n",
    "    fig, ax = plt.subplots(figsize=figsize, facecolor='white', edgecolor='white')\n",
    "    ax.axes.tick_params(labelcolor='#999999', labelsize='10')\n",
    "    for axis, ticks in [(ax.get_xaxis(), xticks), (ax.get_yaxis(), yticks)]:\n",
    "        axis.set_ticks_position('none')\n",
    "        axis.set_ticks(ticks)\n",
    "        axis.label.set_color('#999999')\n",
    "        if hideLabels: axis.set_ticklabels([])\n",
    "    plt.grid(color=gridColor, linewidth=gridWidth, linestyle='-')\n",
    "    map(lambda position: ax.spines[position].set_visible(False), ['bottom', 'top', 'left', 'right'])\n",
    "    return fig, ax\n",
    "\n",
    "# this is for each leter\n",
    "x_loc = range(len(results))\n",
    "\n",
    "fig, ax= preparePlot(range(0,26), [.001*i for i in range(10)], gridWidth=.01)\n",
    "barsize = fig.get_figwidth()/len(results)\n",
    "\n",
    "\n",
    "ax.bar(x_loc, map(lambda (c,p):p, results), barsize, color='b')\n",
    "ax.set_xticklabels(list(string.uppercase))\n",
    "ax.set_yticks([.005*i for i in range(0,11)])\n",
    "ax.set_ylabel(\"Probabilities\")\n",
    "ax.set_xlabel(\"Characters\")\n",
    "ax.set_title(\"Randomly generated character distributions\")"
   ]
  },
  {
   "cell_type": "markdown",
   "metadata": {},
   "source": [
    "# and done!"
   ]
  }
 ],
 "metadata": {
  "kernelspec": {
   "display_name": "Python 2",
   "language": "python",
   "name": "python2"
  },
  "language_info": {
   "codemirror_mode": {
    "name": "ipython",
    "version": 2
   },
   "file_extension": ".py",
   "mimetype": "text/x-python",
   "name": "python",
   "nbconvert_exporter": "python",
   "pygments_lexer": "ipython2",
   "version": "2.7.6"
  }
 },
 "nbformat": 4,
 "nbformat_minor": 0
}
