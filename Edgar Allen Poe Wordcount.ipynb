{
 "cells": [
  {
   "cell_type": "markdown",
   "metadata": {},
   "source": [
    "# Build a word count app with Spark"
   ]
  },
  {
   "cell_type": "markdown",
   "metadata": {},
   "source": [
    "## This program will analyze top words from the works of edgar allen poe"
   ]
  },
  {
   "cell_type": "code",
   "execution_count": 1,
   "metadata": {
    "collapsed": false
   },
   "outputs": [],
   "source": [
    "%matplotlib inline"
   ]
  },
  {
   "cell_type": "code",
   "execution_count": 2,
   "metadata": {
    "collapsed": false
   },
   "outputs": [],
   "source": [
    "import matplotlib.pyplot as plt"
   ]
  },
  {
   "cell_type": "code",
   "execution_count": 3,
   "metadata": {
    "collapsed": false
   },
   "outputs": [],
   "source": [
    "# list of links for edgar allen poe books from gutenberg\n",
    "links = ['https://www.gutenberg.org/files/2147/2147-0.txt',\n",
    "        'http://www.gutenberg.org/cache/epub/2148/pg2148.txt',\n",
    "        'http://www.gutenberg.org/cache/epub/2149/pg2149.txt',\n",
    "        'http://www.gutenberg.org/cache/epub/2150/pg2150.txt',\n",
    "        'http://www.gutenberg.org/cache/epub/2151/pg2151.txt']\n",
    "\n"
   ]
  },
  {
   "cell_type": "code",
   "execution_count": 4,
   "metadata": {
    "collapsed": false
   },
   "outputs": [],
   "source": [
    "# function for opening and return lines from text\n",
    "import urllib\n",
    "\n",
    "def open_and_read_lines(link):\n",
    "    data = urllib.urlopen(link)\n",
    "    return data.readlines()\n",
    "\n",
    "# test it\n",
    "text1 = open_and_read_lines(links[1])"
   ]
  },
  {
   "cell_type": "code",
   "execution_count": 5,
   "metadata": {
    "collapsed": false
   },
   "outputs": [],
   "source": [
    "text2 = open_and_read_lines(links[2])\n"
   ]
  },
  {
   "cell_type": "code",
   "execution_count": 6,
   "metadata": {
    "collapsed": false
   },
   "outputs": [
    {
     "name": "stdout",
     "output_type": "stream",
     "text": [
      "almost no restrictions whatsoever.  You may copy it, give it away or\r\n",
      "\n",
      "almost no restrictions whatsoever.  You may copy it, give it away or\r\n",
      "\n"
     ]
    },
    {
     "data": {
      "text/plain": [
       "True"
      ]
     },
     "execution_count": 6,
     "metadata": {},
     "output_type": "execute_result"
    }
   ],
   "source": [
    "print text2[3]\n",
    "print text1[3]\n",
    "text2[3] == text1[3]"
   ]
  },
  {
   "cell_type": "markdown",
   "metadata": {},
   "source": [
    "## as you can see, the entry blocks are the same, so let's find out a way to chop off the entry block"
   ]
  },
  {
   "cell_type": "code",
   "execution_count": 7,
   "metadata": {
    "collapsed": false
   },
   "outputs": [],
   "source": [
    "import re\n",
    "\n",
    "def find_beginning_of_text(lines):\n",
    "    \"\"\" takes i a list of lines, finds the line that starts with contents and then increments until a blank block\"\"\"\n",
    "    line_to_start_at = 0\n",
    "    i = 0\n",
    "    while not lines[i].lower().startswith(\"contents\") and lines[i] != lines[len(lines) - 1]:\n",
    "        i += 1\n",
    "    # now increment until empty line is found\n",
    "    while lines[i].strip().split():\n",
    "        i += 1\n",
    "    #now increment until first full line\n",
    "    while not lines[i].strip().split():\n",
    "        i+=1\n",
    "    while not re.match(r'^([A-Z]+\\s?)+$', lines[i].strip(), re.MULTILINE):\n",
    "        print(re.match(r'([A-Z]+\\s?)+$', lines[i].strip(), re.MULTILINE), lines[i].strip())\n",
    "        i+=1\n",
    "    \n",
    "    return lines[i-1:]\n",
    "\n"
   ]
  },
  {
   "cell_type": "code",
   "execution_count": 8,
   "metadata": {
    "collapsed": true
   },
   "outputs": [],
   "source": [
    "r = re.match(r'^([A-Z]+\\s?)+$', 'THE PURLOINED LETTER', re.MULTILINE)"
   ]
  },
  {
   "cell_type": "code",
   "execution_count": 9,
   "metadata": {
    "collapsed": false
   },
   "outputs": [
    {
     "data": {
      "text/plain": [
       "PythonRDD[1] at RDD at PythonRDD.scala:43"
      ]
     },
     "execution_count": 9,
     "metadata": {},
     "output_type": "execute_result"
    }
   ],
   "source": [
    "# make the function that takes in an rdd of words and transforms the words into a word count rdd\n",
    "def wordCounts(words_rdd):\n",
    "    word_counts = words_rdd.map(lambda w: (w,1)).reduceByKey(lambda x,y: x+y)\n",
    "    return word_counts\n",
    "\n",
    "\n",
    "rdd_of_lines = (sc.parallelize(links)\n",
    "                .map(open_and_read_lines) # open and read the lines\n",
    "                .map(find_beginning_of_text) # find the beginning of the text in each file\n",
    "                .flatMap(lambda lines: lines))\n",
    "\n",
    "rdd_of_lines.cache()"
   ]
  },
  {
   "cell_type": "markdown",
   "metadata": {},
   "source": [
    "## Next we have to strip, split, and remove punctuation from words\n"
   ]
  },
  {
   "cell_type": "code",
   "execution_count": 10,
   "metadata": {
    "collapsed": false
   },
   "outputs": [],
   "source": [
    "import re\n",
    "def process_line(line):\n",
    "    punc = r'--|[^a-zA-Z0-9\\s-]'\n",
    "    processed_line = map(lambda word: re.sub(punc,\"\",word), map(lambda w: w.lower(), line.strip().split()))\n",
    "    return processed_line\n"
   ]
  },
  {
   "cell_type": "code",
   "execution_count": 11,
   "metadata": {
    "collapsed": false
   },
   "outputs": [
    {
     "data": {
      "text/plain": [
       "['edgar',\n",
       " 'allan',\n",
       " 'poe',\n",
       " 'an',\n",
       " 'appreciation',\n",
       " 'caught',\n",
       " 'from',\n",
       " 'some',\n",
       " 'unhappy',\n",
       " 'master',\n",
       " 'whom',\n",
       " 'unmerciful',\n",
       " 'disaster',\n",
       " 'followed',\n",
       " 'fast',\n",
       " 'and',\n",
       " 'followed',\n",
       " 'faster',\n",
       " 'till',\n",
       " 'his',\n",
       " 'songs',\n",
       " 'one',\n",
       " 'burden',\n",
       " 'bore',\n",
       " 'till',\n",
       " 'the',\n",
       " 'dirges',\n",
       " 'of',\n",
       " 'his',\n",
       " 'hope',\n",
       " 'that',\n",
       " 'melancholy',\n",
       " 'burden',\n",
       " 'bore',\n",
       " 'of',\n",
       " 'nevernever',\n",
       " 'more',\n",
       " 'this',\n",
       " 'stanza',\n",
       " 'from',\n",
       " 'the',\n",
       " 'raven',\n",
       " 'was',\n",
       " 'recommended',\n",
       " 'by',\n",
       " 'james',\n",
       " 'russell',\n",
       " 'lowell',\n",
       " 'as',\n",
       " 'an',\n",
       " 'inscription',\n",
       " 'upon',\n",
       " 'the',\n",
       " 'baltimore',\n",
       " 'monument',\n",
       " 'which',\n",
       " 'marks',\n",
       " 'the',\n",
       " 'resting',\n",
       " 'place',\n",
       " 'of',\n",
       " 'edgar',\n",
       " 'allan',\n",
       " 'poe',\n",
       " 'the',\n",
       " 'most',\n",
       " 'interesting',\n",
       " 'and',\n",
       " 'original',\n",
       " 'figure',\n",
       " 'in',\n",
       " 'american',\n",
       " 'letters',\n",
       " 'and',\n",
       " 'to',\n",
       " 'signify',\n",
       " 'that',\n",
       " 'peculiar',\n",
       " 'musical',\n",
       " 'quality',\n",
       " 'of',\n",
       " 'poes',\n",
       " 'genius',\n",
       " 'which',\n",
       " 'inthralls',\n",
       " 'every',\n",
       " 'reader',\n",
       " 'mr',\n",
       " 'lowell',\n",
       " 'suggested',\n",
       " 'this',\n",
       " 'additional',\n",
       " 'verse',\n",
       " 'from',\n",
       " 'the',\n",
       " 'haunted',\n",
       " 'palace',\n",
       " 'and',\n",
       " 'all',\n",
       " 'with']"
      ]
     },
     "execution_count": 11,
     "metadata": {},
     "output_type": "execute_result"
    }
   ],
   "source": [
    "wordsRDD = rdd_of_lines.flatMap(process_line)\n",
    "\n",
    "wordsRDD.take(100)"
   ]
  },
  {
   "cell_type": "code",
   "execution_count": 12,
   "metadata": {
    "collapsed": false
   },
   "outputs": [
    {
     "data": {
      "text/plain": [
       "447819"
      ]
     },
     "execution_count": 12,
     "metadata": {},
     "output_type": "execute_result"
    }
   ],
   "source": [
    "wordsRDD.count()"
   ]
  },
  {
   "cell_type": "code",
   "execution_count": 13,
   "metadata": {
    "collapsed": true
   },
   "outputs": [],
   "source": [
    "wordCountsRDD = wordCounts(wordsRDD)"
   ]
  },
  {
   "cell_type": "code",
   "execution_count": 14,
   "metadata": {
    "collapsed": false
   },
   "outputs": [
    {
     "data": {
      "text/plain": [
       "[('the', 32781),\n",
       " ('of', 19517),\n",
       " ('and', 12812),\n",
       " ('to', 10716),\n",
       " ('a', 10129),\n",
       " ('in', 9246),\n",
       " ('i', 7116),\n",
       " ('that', 4980),\n",
       " ('was', 4874),\n",
       " ('it', 4790),\n",
       " ('with', 4087),\n",
       " ('as', 3514),\n",
       " ('my', 3428),\n",
       " ('is', 3296),\n",
       " ('at', 3281),\n",
       " ('which', 3189),\n",
       " ('his', 2984),\n",
       " ('had', 2923),\n",
       " ('for', 2910),\n",
       " ('he', 2866)]"
      ]
     },
     "execution_count": 14,
     "metadata": {},
     "output_type": "execute_result"
    }
   ],
   "source": [
    "wordCountsRDD.takeOrdered(20, lambda (w,n): -1*n)"
   ]
  },
  {
   "cell_type": "markdown",
   "metadata": {},
   "source": [
    "## Whoops, we forgot to remove the stopwords"
   ]
  },
  {
   "cell_type": "code",
   "execution_count": 15,
   "metadata": {
    "collapsed": false
   },
   "outputs": [],
   "source": [
    "## get stopwords from github\n",
    "\n",
    "stopwords = 'https://raw.githubusercontent.com/fozziethebeat/S-Space/master/data/english-stop-words-large.txt'\n",
    "\n",
    "#                                       process_line returns a list, we just wnat the first element\n",
    "stopwords = map(lambda l: process_line(l)[0] ,\n",
    "                map(lambda l: l.strip(), open_and_read_lines(stopwords))\n",
    "               )"
   ]
  },
  {
   "cell_type": "code",
   "execution_count": 16,
   "metadata": {
    "collapsed": false
   },
   "outputs": [
    {
     "data": {
      "text/plain": [
       "['a',\n",
       " 'as',\n",
       " 'able',\n",
       " 'about',\n",
       " 'above',\n",
       " 'according',\n",
       " 'accordingly',\n",
       " 'across',\n",
       " 'actually',\n",
       " 'after']"
      ]
     },
     "execution_count": 16,
     "metadata": {},
     "output_type": "execute_result"
    }
   ],
   "source": [
    "stopwords[:10]"
   ]
  },
  {
   "cell_type": "code",
   "execution_count": 17,
   "metadata": {
    "collapsed": true
   },
   "outputs": [],
   "source": [
    "wordCountsRDD_filtered = wordCountsRDD.filter(lambda (w,n): w not in stopwords).cache()"
   ]
  },
  {
   "cell_type": "code",
   "execution_count": 18,
   "metadata": {
    "collapsed": false
   },
   "outputs": [
    {
     "data": {
      "text/plain": [
       "[('found', 581),\n",
       " ('made', 568),\n",
       " ('time', 563),\n",
       " ('great', 517),\n",
       " ('long', 461),\n",
       " ('man', 448),\n",
       " ('project', 433),\n",
       " ('length', 378),\n",
       " ('mr', 370),\n",
       " ('eyes', 339),\n",
       " ('day', 319),\n",
       " ('thought', 306),\n",
       " ('head', 305),\n",
       " ('work', 305),\n",
       " ('night', 291),\n",
       " ('good', 291),\n",
       " ('full', 285),\n",
       " ('make', 284),\n",
       " ('left', 281),\n",
       " ('gutenberg-tm', 280),\n",
       " ('water', 277),\n",
       " ('feet', 271),\n",
       " ('means', 270),\n",
       " ('manner', 266),\n",
       " ('hand', 257),\n",
       " ('mind', 255),\n",
       " ('light', 251),\n",
       " ('thing', 250),\n",
       " ('back', 243),\n",
       " ('body', 242),\n",
       " ('words', 238),\n",
       " ('matter', 234),\n",
       " ('large', 234),\n",
       " ('part', 230),\n",
       " ('death', 222),\n",
       " ('point', 222),\n",
       " ('nature', 221),\n",
       " ('immediately', 220),\n",
       " ('idea', 218),\n",
       " ('fact', 217),\n",
       " ('heart', 216),\n",
       " ('doubt', 212),\n",
       " ('life', 211),\n",
       " ('de', 211),\n",
       " ('person', 209),\n",
       " ('air', 207),\n",
       " ('general', 207),\n",
       " ('sea', 207),\n",
       " ('lay', 205),\n",
       " ('moment', 203),\n",
       " ('world', 201),\n",
       " ('days', 200),\n",
       " ('door', 197),\n",
       " ('works', 197),\n",
       " ('years', 194),\n",
       " ('period', 194),\n",
       " ('fell', 194),\n",
       " ('appeared', 191),\n",
       " ('place', 191),\n",
       " ('altogether', 190),\n",
       " ('end', 189),\n",
       " ('voice', 188),\n",
       " ('felt', 186),\n",
       " ('men', 185),\n",
       " ('half', 182),\n",
       " ('small', 180),\n",
       " ('thy', 178),\n",
       " ('friend', 177),\n",
       " ('things', 176),\n",
       " ('soul', 176),\n",
       " ('called', 176),\n",
       " ('earth', 175),\n",
       " ('put', 172),\n",
       " ('gave', 171),\n",
       " ('face', 171),\n",
       " ('heard', 169),\n",
       " ('character', 169),\n",
       " ('hour', 168),\n",
       " ('open', 168),\n",
       " ('present', 166),\n",
       " ('love', 165),\n",
       " ('portion', 165),\n",
       " ('difficulty', 165),\n",
       " ('attention', 164),\n",
       " ('thou', 162),\n",
       " ('discovered', 160),\n",
       " ('question', 160),\n",
       " ('truth', 160),\n",
       " ('set', 159),\n",
       " ('human', 159),\n",
       " ('eye', 158),\n",
       " ('appearance', 157),\n",
       " ('view', 156),\n",
       " ('thousand', 155),\n",
       " ('reason', 155),\n",
       " ('word', 154),\n",
       " ('spirit', 152),\n",
       " ('form', 151),\n",
       " ('true', 151),\n",
       " ('side', 151)]"
      ]
     },
     "execution_count": 18,
     "metadata": {},
     "output_type": "execute_result"
    }
   ],
   "source": [
    "wordCountsRDD_filtered.takeOrdered(100, lambda (w,n): -1*n)"
   ]
  },
  {
   "cell_type": "markdown",
   "metadata": {},
   "source": [
    "## still have lots of guttenberg words that are of no value"
   ]
  },
  {
   "cell_type": "code",
   "execution_count": 19,
   "metadata": {
    "collapsed": true
   },
   "outputs": [],
   "source": [
    "stopwords.extend(['gutenbergtm', 'gutenberg-tm', 'project',])"
   ]
  },
  {
   "cell_type": "markdown",
   "metadata": {},
   "source": [
    "## REMEMBER TO BROADCAST BIG TABLES TO WORKERS SO THAT YOU DO NOT KEEP ON RESENDING IT"
   ]
  },
  {
   "cell_type": "code",
   "execution_count": 20,
   "metadata": {
    "collapsed": false
   },
   "outputs": [],
   "source": [
    "stopwords_broadcast = sc.broadcast(stopwords)"
   ]
  },
  {
   "cell_type": "code",
   "execution_count": 21,
   "metadata": {
    "collapsed": false
   },
   "outputs": [
    {
     "data": {
      "text/plain": [
       "['a',\n",
       " 'as',\n",
       " 'able',\n",
       " 'about',\n",
       " 'above',\n",
       " 'according',\n",
       " 'accordingly',\n",
       " 'across',\n",
       " 'actually',\n",
       " 'after',\n",
       " 'afterwards',\n",
       " 'again',\n",
       " 'against',\n",
       " 'aint',\n",
       " 'all',\n",
       " 'allow',\n",
       " 'allows',\n",
       " 'almost',\n",
       " 'alone',\n",
       " 'along',\n",
       " 'already',\n",
       " 'also',\n",
       " 'although',\n",
       " 'always',\n",
       " 'am',\n",
       " 'among',\n",
       " 'amongst',\n",
       " 'an',\n",
       " 'and',\n",
       " 'another',\n",
       " 'any',\n",
       " 'anybody',\n",
       " 'anyhow',\n",
       " 'anyone',\n",
       " 'anything',\n",
       " 'anyway',\n",
       " 'anyways',\n",
       " 'anywhere',\n",
       " 'apart',\n",
       " 'appear',\n",
       " 'appreciate',\n",
       " 'appropriate',\n",
       " 'are',\n",
       " 'arent',\n",
       " 'around',\n",
       " 'as',\n",
       " 'aside',\n",
       " 'ask',\n",
       " 'asking',\n",
       " 'associated',\n",
       " 'at',\n",
       " 'available',\n",
       " 'away',\n",
       " 'awfully',\n",
       " 'b',\n",
       " 'be',\n",
       " 'became',\n",
       " 'because',\n",
       " 'become',\n",
       " 'becomes',\n",
       " 'becoming',\n",
       " 'been',\n",
       " 'before',\n",
       " 'beforehand',\n",
       " 'behind',\n",
       " 'being',\n",
       " 'believe',\n",
       " 'below',\n",
       " 'beside',\n",
       " 'besides',\n",
       " 'best',\n",
       " 'better',\n",
       " 'between',\n",
       " 'beyond',\n",
       " 'both',\n",
       " 'brief',\n",
       " 'but',\n",
       " 'by',\n",
       " 'c',\n",
       " 'cmon',\n",
       " 'cs',\n",
       " 'came',\n",
       " 'can',\n",
       " 'cant',\n",
       " 'cannot',\n",
       " 'cant',\n",
       " 'cause',\n",
       " 'causes',\n",
       " 'certain',\n",
       " 'certainly',\n",
       " 'changes',\n",
       " 'clearly',\n",
       " 'co',\n",
       " 'com',\n",
       " 'come',\n",
       " 'comes',\n",
       " 'concerning',\n",
       " 'consequently',\n",
       " 'consider',\n",
       " 'considering',\n",
       " 'contain',\n",
       " 'containing',\n",
       " 'contains',\n",
       " 'corresponding',\n",
       " 'could',\n",
       " 'couldnt',\n",
       " 'course',\n",
       " 'currently',\n",
       " 'd',\n",
       " 'definitely',\n",
       " 'described',\n",
       " 'despite',\n",
       " 'did',\n",
       " 'didnt',\n",
       " 'different',\n",
       " 'do',\n",
       " 'does',\n",
       " 'doesnt',\n",
       " 'doing',\n",
       " 'dont',\n",
       " 'done',\n",
       " 'down',\n",
       " 'downwards',\n",
       " 'during',\n",
       " 'e',\n",
       " 'each',\n",
       " 'edu',\n",
       " 'eg',\n",
       " 'eight',\n",
       " 'either',\n",
       " 'else',\n",
       " 'elsewhere',\n",
       " 'enough',\n",
       " 'entirely',\n",
       " 'especially',\n",
       " 'et',\n",
       " 'etc',\n",
       " 'even',\n",
       " 'ever',\n",
       " 'every',\n",
       " 'everybody',\n",
       " 'everyone',\n",
       " 'everything',\n",
       " 'everywhere',\n",
       " 'ex',\n",
       " 'exactly',\n",
       " 'example',\n",
       " 'except',\n",
       " 'f',\n",
       " 'far',\n",
       " 'few',\n",
       " 'fifth',\n",
       " 'first',\n",
       " 'five',\n",
       " 'followed',\n",
       " 'following',\n",
       " 'follows',\n",
       " 'for',\n",
       " 'former',\n",
       " 'formerly',\n",
       " 'forth',\n",
       " 'four',\n",
       " 'from',\n",
       " 'further',\n",
       " 'furthermore',\n",
       " 'g',\n",
       " 'get',\n",
       " 'gets',\n",
       " 'getting',\n",
       " 'given',\n",
       " 'gives',\n",
       " 'go',\n",
       " 'goes',\n",
       " 'going',\n",
       " 'gone',\n",
       " 'got',\n",
       " 'gotten',\n",
       " 'greetings',\n",
       " 'h',\n",
       " 'had',\n",
       " 'hadnt',\n",
       " 'happens',\n",
       " 'hardly',\n",
       " 'has',\n",
       " 'hasnt',\n",
       " 'have',\n",
       " 'havent',\n",
       " 'having',\n",
       " 'he',\n",
       " 'hes',\n",
       " 'hello',\n",
       " 'help',\n",
       " 'hence',\n",
       " 'her',\n",
       " 'here',\n",
       " 'heres',\n",
       " 'hereafter',\n",
       " 'hereby',\n",
       " 'herein',\n",
       " 'hereupon',\n",
       " 'hers',\n",
       " 'herself',\n",
       " 'hi',\n",
       " 'him',\n",
       " 'himself',\n",
       " 'his',\n",
       " 'hither',\n",
       " 'hopefully',\n",
       " 'how',\n",
       " 'howbeit',\n",
       " 'however',\n",
       " 'i',\n",
       " 'id',\n",
       " 'ill',\n",
       " 'im',\n",
       " 'ive',\n",
       " 'ie',\n",
       " 'if',\n",
       " 'ignored',\n",
       " 'immediate',\n",
       " 'in',\n",
       " 'inasmuch',\n",
       " 'inc',\n",
       " 'indeed',\n",
       " 'indicate',\n",
       " 'indicated',\n",
       " 'indicates',\n",
       " 'inner',\n",
       " 'insofar',\n",
       " 'instead',\n",
       " 'into',\n",
       " 'inward',\n",
       " 'is',\n",
       " 'isnt',\n",
       " 'it',\n",
       " 'itd',\n",
       " 'itll',\n",
       " 'its',\n",
       " 'its',\n",
       " 'itself',\n",
       " 'j',\n",
       " 'just',\n",
       " 'k',\n",
       " 'keep',\n",
       " 'keeps',\n",
       " 'kept',\n",
       " 'know',\n",
       " 'knows',\n",
       " 'known',\n",
       " 'l',\n",
       " 'last',\n",
       " 'lately',\n",
       " 'later',\n",
       " 'latter',\n",
       " 'latterly',\n",
       " 'least',\n",
       " 'less',\n",
       " 'lest',\n",
       " 'let',\n",
       " 'lets',\n",
       " 'like',\n",
       " 'liked',\n",
       " 'likely',\n",
       " 'little',\n",
       " 'look',\n",
       " 'looking',\n",
       " 'looks',\n",
       " 'ltd',\n",
       " 'm',\n",
       " 'mainly',\n",
       " 'many',\n",
       " 'may',\n",
       " 'maybe',\n",
       " 'me',\n",
       " 'mean',\n",
       " 'meanwhile',\n",
       " 'merely',\n",
       " 'might',\n",
       " 'more',\n",
       " 'moreover',\n",
       " 'most',\n",
       " 'mostly',\n",
       " 'much',\n",
       " 'must',\n",
       " 'my',\n",
       " 'myself',\n",
       " 'n',\n",
       " 'name',\n",
       " 'namely',\n",
       " 'nd',\n",
       " 'near',\n",
       " 'nearly',\n",
       " 'necessary',\n",
       " 'need',\n",
       " 'needs',\n",
       " 'neither',\n",
       " 'never',\n",
       " 'nevertheless',\n",
       " 'new',\n",
       " 'next',\n",
       " 'nine',\n",
       " 'no',\n",
       " 'nobody',\n",
       " 'non',\n",
       " 'none',\n",
       " 'noone',\n",
       " 'nor',\n",
       " 'normally',\n",
       " 'not',\n",
       " 'nothing',\n",
       " 'novel',\n",
       " 'now',\n",
       " 'nowhere',\n",
       " 'o',\n",
       " 'obviously',\n",
       " 'of',\n",
       " 'off',\n",
       " 'often',\n",
       " 'oh',\n",
       " 'ok',\n",
       " 'okay',\n",
       " 'old',\n",
       " 'on',\n",
       " 'once',\n",
       " 'one',\n",
       " 'ones',\n",
       " 'only',\n",
       " 'onto',\n",
       " 'or',\n",
       " 'other',\n",
       " 'others',\n",
       " 'otherwise',\n",
       " 'ought',\n",
       " 'our',\n",
       " 'ours',\n",
       " 'ourselves',\n",
       " 'out',\n",
       " 'outside',\n",
       " 'over',\n",
       " 'overall',\n",
       " 'own',\n",
       " 'p',\n",
       " 'particular',\n",
       " 'particularly',\n",
       " 'per',\n",
       " 'perhaps',\n",
       " 'placed',\n",
       " 'please',\n",
       " 'plus',\n",
       " 'possible',\n",
       " 'presumably',\n",
       " 'probably',\n",
       " 'provides',\n",
       " 'q',\n",
       " 'que',\n",
       " 'quite',\n",
       " 'qv',\n",
       " 'r',\n",
       " 'rather',\n",
       " 'rd',\n",
       " 're',\n",
       " 'really',\n",
       " 'reasonably',\n",
       " 'regarding',\n",
       " 'regardless',\n",
       " 'regards',\n",
       " 'relatively',\n",
       " 'respectively',\n",
       " 'right',\n",
       " 's',\n",
       " 'said',\n",
       " 'same',\n",
       " 'saw',\n",
       " 'say',\n",
       " 'saying',\n",
       " 'says',\n",
       " 'second',\n",
       " 'secondly',\n",
       " 'see',\n",
       " 'seeing',\n",
       " 'seem',\n",
       " 'seemed',\n",
       " 'seeming',\n",
       " 'seems',\n",
       " 'seen',\n",
       " 'self',\n",
       " 'selves',\n",
       " 'sensible',\n",
       " 'sent',\n",
       " 'serious',\n",
       " 'seriously',\n",
       " 'seven',\n",
       " 'several',\n",
       " 'shall',\n",
       " 'she',\n",
       " 'should',\n",
       " 'shouldnt',\n",
       " 'since',\n",
       " 'six',\n",
       " 'so',\n",
       " 'some',\n",
       " 'somebody',\n",
       " 'somehow',\n",
       " 'someone',\n",
       " 'something',\n",
       " 'sometime',\n",
       " 'sometimes',\n",
       " 'somewhat',\n",
       " 'somewhere',\n",
       " 'soon',\n",
       " 'sorry',\n",
       " 'specified',\n",
       " 'specify',\n",
       " 'specifying',\n",
       " 'still',\n",
       " 'sub',\n",
       " 'such',\n",
       " 'sup',\n",
       " 'sure',\n",
       " 't',\n",
       " 'ts',\n",
       " 'take',\n",
       " 'taken',\n",
       " 'tell',\n",
       " 'tends',\n",
       " 'th',\n",
       " 'than',\n",
       " 'thank',\n",
       " 'thanks',\n",
       " 'thanx',\n",
       " 'that',\n",
       " 'thats',\n",
       " 'thats',\n",
       " 'the',\n",
       " 'their',\n",
       " 'theirs',\n",
       " 'them',\n",
       " 'themselves',\n",
       " 'then',\n",
       " 'thence',\n",
       " 'there',\n",
       " 'theres',\n",
       " 'thereafter',\n",
       " 'thereby',\n",
       " 'therefore',\n",
       " 'therein',\n",
       " 'theres',\n",
       " 'thereupon',\n",
       " 'these',\n",
       " 'they',\n",
       " 'theyd',\n",
       " 'theyll',\n",
       " 'theyre',\n",
       " 'theyve',\n",
       " 'think',\n",
       " 'third',\n",
       " 'this',\n",
       " 'thorough',\n",
       " 'thoroughly',\n",
       " 'those',\n",
       " 'though',\n",
       " 'three',\n",
       " 'through',\n",
       " 'throughout',\n",
       " 'thru',\n",
       " 'thus',\n",
       " 'to',\n",
       " 'together',\n",
       " 'too',\n",
       " 'took',\n",
       " 'toward',\n",
       " 'towards',\n",
       " 'tried',\n",
       " 'tries',\n",
       " 'truly',\n",
       " 'try',\n",
       " 'trying',\n",
       " 'twice',\n",
       " 'two',\n",
       " 'u',\n",
       " 'un',\n",
       " 'under',\n",
       " 'unfortunately',\n",
       " 'unless',\n",
       " 'unlikely',\n",
       " 'until',\n",
       " 'unto',\n",
       " 'up',\n",
       " 'upon',\n",
       " 'us',\n",
       " 'use',\n",
       " 'used',\n",
       " 'useful',\n",
       " 'uses',\n",
       " 'using',\n",
       " 'usually',\n",
       " 'uucp',\n",
       " 'v',\n",
       " 'value',\n",
       " 'various',\n",
       " 'very',\n",
       " 'via',\n",
       " 'viz',\n",
       " 'vs',\n",
       " 'w',\n",
       " 'want',\n",
       " 'wants',\n",
       " 'was',\n",
       " 'wasnt',\n",
       " 'way',\n",
       " 'we',\n",
       " 'wed',\n",
       " 'well',\n",
       " 'were',\n",
       " 'weve',\n",
       " 'welcome',\n",
       " 'well',\n",
       " 'went',\n",
       " 'were',\n",
       " 'werent',\n",
       " 'what',\n",
       " 'whats',\n",
       " 'whatever',\n",
       " 'when',\n",
       " 'whence',\n",
       " 'whenever',\n",
       " 'where',\n",
       " 'wheres',\n",
       " 'whereafter',\n",
       " 'whereas',\n",
       " 'whereby',\n",
       " 'wherein',\n",
       " 'whereupon',\n",
       " 'wherever',\n",
       " 'whether',\n",
       " 'which',\n",
       " 'while',\n",
       " 'whither',\n",
       " 'who',\n",
       " 'whos',\n",
       " 'whoever',\n",
       " 'whole',\n",
       " 'whom',\n",
       " 'whose',\n",
       " 'why',\n",
       " 'will',\n",
       " 'willing',\n",
       " 'wish',\n",
       " 'with',\n",
       " 'within',\n",
       " 'without',\n",
       " 'wont',\n",
       " 'wonder',\n",
       " 'would',\n",
       " 'would',\n",
       " 'wouldnt',\n",
       " 'x',\n",
       " 'y',\n",
       " 'yes',\n",
       " 'yet',\n",
       " 'you',\n",
       " 'youd',\n",
       " 'youll',\n",
       " 'youre',\n",
       " 'youve',\n",
       " 'your',\n",
       " 'yours',\n",
       " 'yourself',\n",
       " 'yourselves',\n",
       " 'z',\n",
       " 'zero',\n",
       " 'a',\n",
       " '',\n",
       " '',\n",
       " '',\n",
       " '',\n",
       " '',\n",
       " '',\n",
       " '',\n",
       " '',\n",
       " '',\n",
       " 'num',\n",
       " '',\n",
       " '',\n",
       " 'km',\n",
       " 's',\n",
       " 'u',\n",
       " '',\n",
       " '',\n",
       " 's',\n",
       " '',\n",
       " 'dr',\n",
       " 'gutenbergtm',\n",
       " 'gutenberg-tm',\n",
       " 'project']"
      ]
     },
     "execution_count": 21,
     "metadata": {},
     "output_type": "execute_result"
    }
   ],
   "source": [
    "stopwords_broadcast.value"
   ]
  },
  {
   "cell_type": "code",
   "execution_count": 22,
   "metadata": {
    "collapsed": false
   },
   "outputs": [
    {
     "data": {
      "text/plain": [
       "[('found', 581),\n",
       " ('made', 568),\n",
       " ('time', 563),\n",
       " ('great', 517),\n",
       " ('long', 461),\n",
       " ('man', 448),\n",
       " ('length', 378),\n",
       " ('mr', 370),\n",
       " ('eyes', 339),\n",
       " ('day', 319),\n",
       " ('thought', 306),\n",
       " ('head', 305),\n",
       " ('work', 305),\n",
       " ('night', 291),\n",
       " ('good', 291),\n",
       " ('full', 285),\n",
       " ('make', 284),\n",
       " ('left', 281),\n",
       " ('water', 277),\n",
       " ('feet', 271),\n",
       " ('means', 270),\n",
       " ('manner', 266),\n",
       " ('hand', 257),\n",
       " ('mind', 255),\n",
       " ('light', 251),\n",
       " ('thing', 250),\n",
       " ('back', 243),\n",
       " ('body', 242),\n",
       " ('words', 238),\n",
       " ('matter', 234),\n",
       " ('large', 234),\n",
       " ('part', 230),\n",
       " ('death', 222),\n",
       " ('point', 222),\n",
       " ('nature', 221),\n",
       " ('immediately', 220),\n",
       " ('idea', 218),\n",
       " ('fact', 217),\n",
       " ('heart', 216),\n",
       " ('doubt', 212),\n",
       " ('life', 211),\n",
       " ('de', 211),\n",
       " ('person', 209),\n",
       " ('air', 207),\n",
       " ('general', 207),\n",
       " ('sea', 207),\n",
       " ('lay', 205),\n",
       " ('moment', 203),\n",
       " ('world', 201),\n",
       " ('days', 200),\n",
       " ('door', 197),\n",
       " ('works', 197),\n",
       " ('years', 194),\n",
       " ('period', 194),\n",
       " ('fell', 194),\n",
       " ('appeared', 191),\n",
       " ('place', 191),\n",
       " ('altogether', 190),\n",
       " ('end', 189),\n",
       " ('voice', 188),\n",
       " ('felt', 186),\n",
       " ('men', 185),\n",
       " ('half', 182),\n",
       " ('small', 180),\n",
       " ('thy', 178),\n",
       " ('friend', 177),\n",
       " ('things', 176),\n",
       " ('soul', 176),\n",
       " ('called', 176),\n",
       " ('earth', 175),\n",
       " ('put', 172),\n",
       " ('gave', 171),\n",
       " ('face', 171),\n",
       " ('heard', 169),\n",
       " ('character', 169),\n",
       " ('hour', 168),\n",
       " ('open', 168),\n",
       " ('present', 166),\n",
       " ('love', 165),\n",
       " ('portion', 165),\n",
       " ('difficulty', 165),\n",
       " ('attention', 164),\n",
       " ('thou', 162),\n",
       " ('discovered', 160),\n",
       " ('question', 160),\n",
       " ('truth', 160),\n",
       " ('set', 159),\n",
       " ('human', 159),\n",
       " ('eye', 158),\n",
       " ('appearance', 157),\n",
       " ('view', 156),\n",
       " ('thousand', 155),\n",
       " ('reason', 155),\n",
       " ('word', 154),\n",
       " ('spirit', 152),\n",
       " ('form', 151),\n",
       " ('true', 151),\n",
       " ('side', 151),\n",
       " ('case', 150),\n",
       " ('black', 150)]"
      ]
     },
     "execution_count": 22,
     "metadata": {},
     "output_type": "execute_result"
    }
   ],
   "source": [
    "wordCountsRDD_filtered = wordCountsRDD.filter(lambda (w,n): w not in stopwords_broadcast.value).cache()\n",
    "wordCountsRDD_filtered.takeOrdered(100, lambda (w,n): -1*n)"
   ]
  },
  {
   "cell_type": "code",
   "execution_count": 23,
   "metadata": {
    "collapsed": true
   },
   "outputs": [],
   "source": [
    "# now let's get the word frequencies\n",
    "numTotalWords = wordCountsRDD_filtered.map(lambda (w,n): n).sum()"
   ]
  },
  {
   "cell_type": "code",
   "execution_count": 24,
   "metadata": {
    "collapsed": false
   },
   "outputs": [],
   "source": [
    "wordFrequencies = wordCountsRDD_filtered.map(lambda (w,n): (w,n/float(numTotalWords))).cache()"
   ]
  },
  {
   "cell_type": "code",
   "execution_count": 25,
   "metadata": {
    "collapsed": false
   },
   "outputs": [
    {
     "data": {
      "text/plain": [
       "[('porphyrogene', 1.1156854213385994e-05),\n",
       " ('hordes', 1.1156854213385994e-05),\n",
       " ('precocity', 1.1156854213385994e-05),\n",
       " ('consenting', 1.1156854213385994e-05),\n",
       " ('inanimate', 1.1156854213385994e-05),\n",
       " ('perforations', 1.1156854213385994e-05),\n",
       " ('china', 1.1156854213385994e-05),\n",
       " ('controversy', 1.1156854213385994e-05),\n",
       " ('cobblers', 1.1156854213385994e-05),\n",
       " ('projection', 1.1156854213385994e-05),\n",
       " ('lengthen', 1.1156854213385994e-05),\n",
       " ('nowhow', 1.1156854213385994e-05),\n",
       " ('grahams', 1.1156854213385994e-05),\n",
       " ('nebul', 1.1156854213385994e-05),\n",
       " ('printing-offices', 1.1156854213385994e-05),\n",
       " ('circumstanced', 1.1156854213385994e-05),\n",
       " ('morally', 1.1156854213385994e-05),\n",
       " ('disbelieving', 1.1156854213385994e-05),\n",
       " ('bristly', 1.1156854213385994e-05),\n",
       " ('snugly', 1.1156854213385994e-05),\n",
       " ('concurrence', 1.1156854213385994e-05),\n",
       " ('parasites', 1.1156854213385994e-05),\n",
       " ('indiscretion', 1.1156854213385994e-05),\n",
       " ('toute', 1.1156854213385994e-05),\n",
       " ('stamping', 1.1156854213385994e-05),\n",
       " ('mesmer', 1.1156854213385994e-05),\n",
       " ('maladies', 1.1156854213385994e-05),\n",
       " ('clamorous', 1.1156854213385994e-05),\n",
       " ('mutilated', 1.1156854213385994e-05),\n",
       " ('idly', 1.1156854213385994e-05),\n",
       " ('spectrum', 1.1156854213385994e-05),\n",
       " ('uncouth', 1.1156854213385994e-05),\n",
       " ('disjointed', 1.1156854213385994e-05),\n",
       " ('expound', 1.1156854213385994e-05),\n",
       " ('singer', 1.1156854213385994e-05),\n",
       " ('fugitives', 1.1156854213385994e-05),\n",
       " ('loitered', 1.1156854213385994e-05),\n",
       " ('orleans', 1.1156854213385994e-05),\n",
       " ('joyof', 1.1156854213385994e-05),\n",
       " ('nicely', 1.1156854213385994e-05),\n",
       " ('hollow-sounding', 1.1156854213385994e-05),\n",
       " ('saythe', 1.1156854213385994e-05),\n",
       " ('playfulness', 1.1156854213385994e-05),\n",
       " ('fearlessly', 1.1156854213385994e-05),\n",
       " ('mortified', 1.1156854213385994e-05),\n",
       " ('twenty-three', 1.1156854213385994e-05),\n",
       " ('fru', 1.1156854213385994e-05),\n",
       " ('spit', 1.1156854213385994e-05),\n",
       " ('skilfully', 1.1156854213385994e-05),\n",
       " ('qualifications', 1.1156854213385994e-05),\n",
       " ('benignity', 1.1156854213385994e-05),\n",
       " ('lasst', 1.1156854213385994e-05),\n",
       " ('hal', 1.1156854213385994e-05),\n",
       " ('advancement', 1.1156854213385994e-05),\n",
       " ('clustered', 1.1156854213385994e-05),\n",
       " ('perchance', 1.1156854213385994e-05),\n",
       " ('soundthe', 1.1156854213385994e-05),\n",
       " ('x-ed', 1.1156854213385994e-05),\n",
       " ('restlessness', 1.1156854213385994e-05),\n",
       " ('benches', 1.1156854213385994e-05),\n",
       " ('grossest', 1.1156854213385994e-05),\n",
       " ('lee-lurch', 1.1156854213385994e-05),\n",
       " ('grasping', 1.1156854213385994e-05),\n",
       " ('despises', 1.1156854213385994e-05),\n",
       " ('grooms', 1.1156854213385994e-05),\n",
       " ('perfumes', 1.1156854213385994e-05),\n",
       " ('humbled', 1.1156854213385994e-05),\n",
       " ('humbler', 1.1156854213385994e-05),\n",
       " ('unanimous', 1.1156854213385994e-05),\n",
       " ('tamely', 1.1156854213385994e-05),\n",
       " ('palms', 1.1156854213385994e-05),\n",
       " ('pover', 1.1156854213385994e-05),\n",
       " ('gown', 1.1156854213385994e-05),\n",
       " ('corps', 1.1156854213385994e-05),\n",
       " ('jerk', 1.1156854213385994e-05),\n",
       " ('picul', 1.1156854213385994e-05),\n",
       " ('maliceful', 1.1156854213385994e-05),\n",
       " ('manthis', 1.1156854213385994e-05),\n",
       " ('vigour', 1.1156854213385994e-05),\n",
       " ('admirer', 1.1156854213385994e-05),\n",
       " ('vainly', 1.1156854213385994e-05),\n",
       " ('meddled', 1.1156854213385994e-05),\n",
       " ('temperate', 1.1156854213385994e-05),\n",
       " ('speakest', 1.1156854213385994e-05),\n",
       " ('subdivisions', 1.1156854213385994e-05),\n",
       " ('infirmities', 1.1156854213385994e-05),\n",
       " ('jim', 1.1156854213385994e-05),\n",
       " ('overpowering', 1.1156854213385994e-05),\n",
       " ('unfruitful', 1.1156854213385994e-05),\n",
       " ('hickory', 1.1156854213385994e-05),\n",
       " ('disasters', 1.1156854213385994e-05),\n",
       " ('space-penetrating', 1.1156854213385994e-05),\n",
       " ('inwardly', 1.1156854213385994e-05),\n",
       " ('complicated', 1.1156854213385994e-05),\n",
       " ('workmanship', 1.1156854213385994e-05),\n",
       " ('penitence', 1.1156854213385994e-05),\n",
       " ('sumptuous', 1.1156854213385994e-05),\n",
       " ('diplomatist', 1.1156854213385994e-05),\n",
       " ('intends', 1.1156854213385994e-05),\n",
       " ('printer', 1.1156854213385994e-05)]"
      ]
     },
     "execution_count": 25,
     "metadata": {},
     "output_type": "execute_result"
    }
   ],
   "source": [
    "wordFrequencies.filter(lambda (k,v): v > .00001).takeOrdered(100, lambda (k,v): v)"
   ]
  },
  {
   "cell_type": "markdown",
   "metadata": {},
   "source": [
    "# Done, maybe I can make a histogram of the length of each words"
   ]
  },
  {
   "cell_type": "code",
   "execution_count": 26,
   "metadata": {
    "collapsed": true
   },
   "outputs": [],
   "source": [
    "avgWordLength = wordCountsRDD_filtered.map(lambda (w,n): len(w)).mean()\n"
   ]
  },
  {
   "cell_type": "code",
   "execution_count": 27,
   "metadata": {
    "collapsed": false
   },
   "outputs": [
    {
     "data": {
      "text/plain": [
       "8.145579972974819"
      ]
     },
     "execution_count": 27,
     "metadata": {},
     "output_type": "execute_result"
    }
   ],
   "source": [
    "avgWordLength"
   ]
  },
  {
   "cell_type": "code",
   "execution_count": 28,
   "metadata": {
    "collapsed": true
   },
   "outputs": [],
   "source": [
    "avgLineLength = rdd_of_lines.map(lambda l: len(l.strip().split())).mean()"
   ]
  },
  {
   "cell_type": "code",
   "execution_count": 29,
   "metadata": {
    "collapsed": false
   },
   "outputs": [
    {
     "data": {
      "text/plain": [
       "9.53090282211721"
      ]
     },
     "execution_count": 29,
     "metadata": {},
     "output_type": "execute_result"
    }
   ],
   "source": [
    "avgLineLength"
   ]
  },
  {
   "cell_type": "markdown",
   "metadata": {},
   "source": [
    "# Graphs to make: word cloud, histogram of word lengths"
   ]
  },
  {
   "cell_type": "code",
   "execution_count": 30,
   "metadata": {
    "collapsed": true
   },
   "outputs": [],
   "source": [
    "all_words = wordCountsRDD_filtered.map(lambda (k,v): len(k)).collect()"
   ]
  },
  {
   "cell_type": "code",
   "execution_count": 31,
   "metadata": {
    "collapsed": false
   },
   "outputs": [
    {
     "data": {
      "text/plain": [
       "(array([  0.00000000e+00,   1.10000000e+01,   1.78000000e+02,\n",
       "          5.61000000e+02,   1.68200000e+03,   2.63000000e+03,\n",
       "          3.53700000e+03,   4.06200000e+03,   4.01700000e+03,\n",
       "          3.47000000e+03,   2.63400000e+03,   1.91900000e+03,\n",
       "          1.31200000e+03,   8.55000000e+02,   4.65000000e+02,\n",
       "          3.07000000e+02,   1.93000000e+02,   1.00000000e+02,\n",
       "          6.20000000e+01,   3.60000000e+01,   2.40000000e+01,\n",
       "          2.40000000e+01,   7.00000000e+00,   1.30000000e+01,\n",
       "          5.00000000e+00,   1.00000000e+00,   8.00000000e+00,\n",
       "          2.00000000e+00,   2.00000000e+00,   2.00000000e+00]),\n",
       " array([  0.,   1.,   2.,   3.,   4.,   5.,   6.,   7.,   8.,   9.,  10.,\n",
       "         11.,  12.,  13.,  14.,  15.,  16.,  17.,  18.,  19.,  20.,  21.,\n",
       "         22.,  23.,  24.,  25.,  26.,  27.,  28.,  29.,  30.]),\n",
       " <a list of 30 Patch objects>)"
      ]
     },
     "execution_count": 31,
     "metadata": {},
     "output_type": "execute_result"
    },
    {
     "data": {
      "image/png": "[encoded data removed]",
      "text/plain": [
       "<matplotlib.figure.Figure at 0xb02c4c4c>"
      ]
     },
     "metadata": {},
     "output_type": "display_data"
    }
   ],
   "source": [
    "plt.hist(all_words, bins=30, range=(0,30))"
   ]
  },
  {
   "cell_type": "code",
   "execution_count": null,
   "metadata": {
    "collapsed": true
   },
   "outputs": [],
   "source": []
  },
  {
   "cell_type": "code",
   "execution_count": null,
   "metadata": {
    "collapsed": true
   },
   "outputs": [],
   "source": []
  },
  {
   "cell_type": "code",
   "execution_count": null,
   "metadata": {
    "collapsed": true
   },
   "outputs": [],
   "source": []
  },
  {
   "cell_type": "code",
   "execution_count": null,
   "metadata": {
    "collapsed": true
   },
   "outputs": [],
   "source": []
  }
 ],
 "metadata": {
  "kernelspec": {
   "display_name": "Python 2",
   "language": "python",
   "name": "python2"
  },
  "language_info": {
   "codemirror_mode": {
    "name": "ipython",
    "version": 2
   },
   "file_extension": ".py",
   "mimetype": "text/x-python",
   "name": "python",
   "nbconvert_exporter": "python",
   "pygments_lexer": "ipython2",
   "version": "2.7.6"
  }
 },
 "nbformat": 4,
 "nbformat_minor": 0
}
